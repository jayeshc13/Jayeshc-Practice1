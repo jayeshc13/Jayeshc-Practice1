{
 "cells": [
  {
   "cell_type": "code",
   "execution_count": 9,
   "id": "1f733697-c964-48f5-a6ad-cfb0d2ba4f00",
   "metadata": {},
   "outputs": [
    {
     "name": "stdin",
     "output_type": "stream",
     "text": [
      "Enter any number: 18\n"
     ]
    },
    {
     "name": "stdout",
     "output_type": "stream",
     "text": [
      "Binary number of 18 is 10010\n"
     ]
    }
   ],
   "source": [
    "#Convert Decimal to binary\n",
    "num=int(input(\"Enter any number:\"))\n",
    "bin=0\n",
    "p=1\n",
    "n=num\n",
    "while n>0:\n",
    "    rem=int(n%2)\n",
    "    bin=bin+rem*p\n",
    "    p=p*10\n",
    "    n=n/2\n",
    "print(\"Binary number of\",num,\"is\",bin) "
   ]
  },
  {
   "cell_type": "code",
   "execution_count": 19,
   "id": "d643bbeb-5d78-479d-a387-84bbb35ac874",
   "metadata": {},
   "outputs": [
    {
     "name": "stdin",
     "output_type": "stream",
     "text": [
      "Enter any number 1\n",
      "Enter any number 2\n",
      "Enter any number 3\n",
      "Enter any number 4\n",
      "Enter any number 5\n",
      "Enter any number 6\n",
      "Enter any number 7\n",
      "Enter any number 8\n",
      "Enter any number 9\n",
      "Enter any number 10\n"
     ]
    },
    {
     "name": "stdout",
     "output_type": "stream",
     "text": [
      "Average is: 5.5\n"
     ]
    }
   ],
   "source": [
    "#Display Average of numbers\n",
    "\n",
    "a=0\n",
    "b=0\n",
    "while(b<10):\n",
    "    num=int(input(\"Enter any number\"))\n",
    "    a=a+num\n",
    "    b=b+1\n",
    "print(\"Average is:\",a/10)"
   ]
  },
  {
   "cell_type": "code",
   "execution_count": 23,
   "id": "55ae541d-637c-4ab4-9b12-e7c255a08018",
   "metadata": {},
   "outputs": [
    {
     "name": "stdin",
     "output_type": "stream",
     "text": [
      "Enter any number: 1\n",
      "Enter any number: 2\n",
      "Enter any number: 546\n",
      "Enter any number: 465\n",
      "Enter any number: 41523\n",
      "Enter any number: 456\n",
      "Enter any number: 123\n",
      "Enter any number: 476\n",
      "Enter any number: 48\n",
      "Enter any number: 789\n"
     ]
    },
    {
     "name": "stdout",
     "output_type": "stream",
     "text": [
      "Largest number is: 41523\n",
      "Smallest number is 1\n"
     ]
    }
   ],
   "source": [
    "#Accept 10 numbers and display smallest  and largest\n",
    "L=[]\n",
    "a=0\n",
    "while(a<10):\n",
    "    num=int(input(\"Enter any number:\"))\n",
    "    L.append(num)\n",
    "    a=a+1\n",
    "L.sort()\n",
    "print(\"Largest number is:\",L[-1])\n",
    "print(\"Smallest number is\",L[0])"
   ]
  },
  {
   "cell_type": "code",
   "execution_count": 29,
   "id": "fcd420fd-4b3a-4d8d-8b29-7d1caa87c852",
   "metadata": {},
   "outputs": [
    {
     "name": "stdin",
     "output_type": "stream",
     "text": [
      "Enter any no: 2\n",
      "Enter any no: 3\n"
     ]
    },
    {
     "name": "stdout",
     "output_type": "stream",
     "text": [
      "Sum of even numbers is: 2\n",
      "Sum of odd numbers is: 3\n"
     ]
    }
   ],
   "source": [
    "#sum of odd and even numbers\n",
    "num1=int(input(\"Enter any no:\"))\n",
    "num2=int(input(\"Enter any no:\"))\n",
    "se=0\n",
    "so=0\n",
    "if num1 > num2:\n",
    "    while(num2<=num1):\n",
    "        if num2%2==0:\n",
    "            se=se+num2\n",
    "            num2=num2+1\n",
    "        else:\n",
    "            so=so+num2\n",
    "            num2=num2+1\n",
    "else:\n",
    "    while(num1<=num2):\n",
    "        if num1%2==0:\n",
    "            se=se+num1\n",
    "            num1=num1+1\n",
    "        else:\n",
    "            so=so+num1\n",
    "            num1=num1+1\n",
    "print(\"Sum of even numbers is:\", se)\n",
    "print(\"Sum of odd numbers is:\", so)"
   ]
  },
  {
   "cell_type": "code",
   "execution_count": null,
   "id": "7e0214f1-c822-4b18-9bba-c78c2dd2c17b",
   "metadata": {},
   "outputs": [],
   "source": [
    "#Display numbers which are divisible by 13 and not by 3 betn 100 and 500\n",
    "a=101\n",
    "while (a<500):\n",
    "    \n",
    "    if a%1 "
   ]
  },
  {
   "cell_type": "code",
   "execution_count": null,
   "id": "71236694-c024-457e-9ae3-e5a79af89f6c",
   "metadata": {},
   "outputs": [],
   "source": []
  }
 ],
 "metadata": {
  "kernelspec": {
   "display_name": "Python 3 (ipykernel)",
   "language": "python",
   "name": "python3"
  },
  "language_info": {
   "codemirror_mode": {
    "name": "ipython",
    "version": 3
   },
   "file_extension": ".py",
   "mimetype": "text/x-python",
   "name": "python",
   "nbconvert_exporter": "python",
   "pygments_lexer": "ipython3",
   "version": "3.11.7"
  }
 },
 "nbformat": 4,
 "nbformat_minor": 5
}
