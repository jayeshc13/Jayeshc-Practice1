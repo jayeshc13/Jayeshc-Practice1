{
 "cells": [
  {
   "cell_type": "code",
   "execution_count": 1,
   "id": "5ea3f834-1d3e-4329-8ff9-3d24af8d3d47",
   "metadata": {},
   "outputs": [
    {
     "name": "stdout",
     "output_type": "stream",
     "text": [
      "1\n",
      "2\n",
      "3\n",
      "4\n",
      "5\n",
      "6\n",
      "7\n",
      "8\n",
      "9\n",
      "10\n"
     ]
    }
   ],
   "source": [
    "#print first  10  natural numbers \n",
    "for i in range(1,11):\n",
    "    print(i)"
   ]
  },
  {
   "cell_type": "code",
   "execution_count": 8,
   "id": "4a02717f-3a33-4803-b4d5-66718efea300",
   "metadata": {},
   "outputs": [
    {
     "name": "stdin",
     "output_type": "stream",
     "text": [
      "enter any number 10\n"
     ]
    },
    {
     "name": "stdout",
     "output_type": "stream",
     "text": [
      "0\n",
      "2\n",
      "4\n",
      "6\n",
      "8\n",
      "10\n"
     ]
    }
   ],
   "source": [
    "# print even numbers in given range\n",
    "n=int(input(\"enter any number\"))\n",
    "for i in range(0,n+1):\n",
    "    if i%2==0:\n",
    "        print(i)"
   ]
  },
  {
   "cell_type": "code",
   "execution_count": 12,
   "id": "419a6d42-b282-4da5-8e52-1ce47d5dfa34",
   "metadata": {},
   "outputs": [
    {
     "name": "stdin",
     "output_type": "stream",
     "text": [
      "Enter any number 10\n"
     ]
    },
    {
     "name": "stdout",
     "output_type": "stream",
     "text": [
      "55\n"
     ]
    }
   ],
   "source": [
    "#Sum of all numbers from 1 to given numbers\n",
    "n=int(input(\"Enter any number\"))\n",
    "sum=0\n",
    "for i in range(1,n+1):\n",
    "    sum=sum+i\n",
    "print(sum)"
   ]
  },
  {
   "cell_type": "code",
   "execution_count": 15,
   "id": "e4b24c38-d044-4ce4-a6e5-bbbd5adfb643",
   "metadata": {},
   "outputs": [
    {
     "name": "stdin",
     "output_type": "stream",
     "text": [
      "Enter any number 10\n"
     ]
    },
    {
     "name": "stdout",
     "output_type": "stream",
     "text": [
      "25\n"
     ]
    }
   ],
   "source": [
    "#sum of all odd numbers\n",
    "n=int(input(\"Enter any number\"))\n",
    "sum=0\n",
    "for i in range(1,n+1):\n",
    "    if i%2 !=0:\n",
    "        sum=sum+i\n",
    "print(sum)"
   ]
  },
  {
   "cell_type": "code",
   "execution_count": 18,
   "id": "edaa3511-0cbe-45a7-8f04-ceb2cb9ccbf6",
   "metadata": {},
   "outputs": [
    {
     "name": "stdin",
     "output_type": "stream",
     "text": [
      "Enter any number 2\n"
     ]
    },
    {
     "name": "stdout",
     "output_type": "stream",
     "text": [
      "2\n",
      "4\n",
      "6\n",
      "8\n",
      "10\n",
      "12\n",
      "14\n",
      "16\n",
      "18\n",
      "20\n"
     ]
    }
   ],
   "source": [
    "#Give multiplication table\n",
    "n=int(input(\"Enter any number\"))\n",
    "mul=1\n",
    "for i in range(1,11):\n",
    "    mul=n*i\n",
    "    print(mul)\n",
    "               "
   ]
  },
  {
   "cell_type": "code",
   "execution_count": 21,
   "id": "b56313b2-142b-4d25-a93b-313f7e45d2b9",
   "metadata": {},
   "outputs": [
    {
     "name": "stdout",
     "output_type": "stream",
     "text": [
      "1\n",
      "3\n",
      "7\n",
      "83\n",
      "56\n"
     ]
    }
   ],
   "source": [
    "#Display numbers from list\n",
    "l=[1,3,7,83,56]\n",
    "for i in l:\n",
    "    print(i)"
   ]
  },
  {
   "cell_type": "code",
   "execution_count": 26,
   "id": "86556093-4fe7-4a98-bd85-9b042377ad90",
   "metadata": {},
   "outputs": [
    {
     "name": "stdout",
     "output_type": "stream",
     "text": [
      "11\n"
     ]
    }
   ],
   "source": [
    "#Total number of digits in a number\n",
    "a=\"45136987653\"\n",
    "a=str(a)\n",
    "count=0\n",
    "for i in a:\n",
    "    count=count+1\n",
    "print(count)"
   ]
  },
  {
   "cell_type": "code",
   "execution_count": 30,
   "id": "4ca69ac3-7704-4f99-ba17-0b211fca5df7",
   "metadata": {},
   "outputs": [
    {
     "name": "stdin",
     "output_type": "stream",
     "text": [
      "Enter word madam\n"
     ]
    },
    {
     "name": "stdout",
     "output_type": "stream",
     "text": [
      "The string madam is a palindrome.\n"
     ]
    }
   ],
   "source": [
    "#Palindrome\n",
    "a=str(input(\"Enter word\"))\n",
    "reverse_string=\"\"\n",
    "for i in a:\n",
    "    reverse_string=i+reverse_string\n",
    "\n",
    "if(a==reverse_string):\n",
    "    print(\"The string\",a,\"is a palindrome.\")\n",
    "\n",
    "else:\n",
    "    print(\"The string\",a,\"is not a palindrome.\")"
   ]
  },
  {
   "cell_type": "code",
   "execution_count": 31,
   "id": "2db60797-3004-4483-972a-6ef7d4435106",
   "metadata": {},
   "outputs": [
    {
     "name": "stdin",
     "output_type": "stream",
     "text": [
      "Enter word jayesh\n"
     ]
    },
    {
     "name": "stdout",
     "output_type": "stream",
     "text": [
      "hseyaj\n"
     ]
    }
   ],
   "source": [
    "#Print reverse\n",
    "a=a=str(input(\"Enter word\"))\n",
    "reverse_string=\"\"\n",
    "for i in a:\n",
    "    reverse_string=i+reverse_string\n",
    "print(reverse_string)"
   ]
  },
  {
   "cell_type": "code",
   "execution_count": 34,
   "id": "3bcc96f6-7020-415a-90d4-3230e0685ae7",
   "metadata": {},
   "outputs": [
    {
     "name": "stdin",
     "output_type": "stream",
     "text": [
      "Enter any number 153\n"
     ]
    },
    {
     "name": "stdout",
     "output_type": "stream",
     "text": [
      "The given no. is amstrong\n"
     ]
    }
   ],
   "source": [
    "#Check whether given in amstrong or not\n",
    "a=int(input(\"Enter any number\"))\n",
    "a=str(a)\n",
    "str_length=len(a)\n",
    "sum=0\n",
    "for i in a:\n",
    "    sum+=int(i)**str_length\n",
    "    \n",
    "if sum==int(a):\n",
    "    print('The given no. is amstrong')\n",
    "\n",
    "else:\n",
    "    print(\"The given number is not amstrong\")"
   ]
  },
  {
   "cell_type": "code",
   "execution_count": 35,
   "id": "da3dda7e-09a5-460c-8153-bec0162b2212",
   "metadata": {},
   "outputs": [
    {
     "name": "stdout",
     "output_type": "stream",
     "text": [
      "1 is an odd number\n",
      "2 is an even number\n",
      "5 is an odd number\n",
      "6 is an even number\n",
      "88 is an even number\n",
      "90 is an even number\n",
      "77 is an odd number\n",
      "56 is an even number\n",
      "43 is an odd number\n"
     ]
    }
   ],
   "source": [
    "#Count number of even and odd from list\n",
    "list=[1,2,5,6,88,90,77,56,43]\n",
    "for i in list:\n",
    "    if i%2==0:\n",
    "        print(i,\"is an even number\")\n",
    "    else:\n",
    "        print(i,\"is an odd number\")"
   ]
  },
  {
   "cell_type": "code",
   "execution_count": 40,
   "id": "7b39c0e0-b145-4f30-bc13-416eede19da5",
   "metadata": {},
   "outputs": [
    {
     "name": "stdin",
     "output_type": "stream",
     "text": [
      "Enter any number 5\n"
     ]
    },
    {
     "ename": "TypeError",
     "evalue": "can only concatenate str (not \"int\") to str",
     "output_type": "error",
     "traceback": [
      "\u001b[1;31m---------------------------------------------------------------------------\u001b[0m",
      "\u001b[1;31mTypeError\u001b[0m                                 Traceback (most recent call last)",
      "Cell \u001b[1;32mIn[40], line 4\u001b[0m\n\u001b[0;32m      2\u001b[0m a\u001b[38;5;241m=\u001b[39m\u001b[38;5;28minput\u001b[39m(\u001b[38;5;124m\"\u001b[39m\u001b[38;5;124mEnter any number\u001b[39m\u001b[38;5;124m\"\u001b[39m)\n\u001b[0;32m      3\u001b[0m fact\u001b[38;5;241m=\u001b[39m\u001b[38;5;241m1\u001b[39m\n\u001b[1;32m----> 4\u001b[0m \u001b[38;5;28;01mfor\u001b[39;00m i \u001b[38;5;129;01min\u001b[39;00m \u001b[38;5;28mrange\u001b[39m(\u001b[38;5;241m1\u001b[39m,a\u001b[38;5;241m+\u001b[39m\u001b[38;5;241m1\u001b[39m):\n\u001b[0;32m      6\u001b[0m     fact\u001b[38;5;241m=\u001b[39mfact\u001b[38;5;241m*\u001b[39mi\n\u001b[0;32m      8\u001b[0m \u001b[38;5;28mprint\u001b[39m(\u001b[38;5;124m\"\u001b[39m\u001b[38;5;124mThe factorial is\u001b[39m\u001b[38;5;124m\"\u001b[39m,fact)\n",
      "\u001b[1;31mTypeError\u001b[0m: can only concatenate str (not \"int\") to str"
     ]
    }
   ],
   "source": [
    "#Factorial\n",
    "a=input(\"Enter any number\")\n",
    "fact=1\n",
    "for i in range(1,a+1):\n",
    "    \n",
    "    fact=fact*i\n",
    "\n",
    "print(\"The factorial is\",fact)"
   ]
  },
  {
   "cell_type": "code",
   "execution_count": null,
   "id": "32dc066b-6b5f-4149-ad5e-9f23bf36ded8",
   "metadata": {},
   "outputs": [],
   "source": []
  }
 ],
 "metadata": {
  "kernelspec": {
   "display_name": "Python 3 (ipykernel)",
   "language": "python",
   "name": "python3"
  },
  "language_info": {
   "codemirror_mode": {
    "name": "ipython",
    "version": 3
   },
   "file_extension": ".py",
   "mimetype": "text/x-python",
   "name": "python",
   "nbconvert_exporter": "python",
   "pygments_lexer": "ipython3",
   "version": "3.11.7"
  }
 },
 "nbformat": 4,
 "nbformat_minor": 5
}
