{
 "cells": [
  {
   "cell_type": "code",
   "execution_count": 10,
   "id": "0da823e8-67dc-48d5-b597-542354b97c9b",
   "metadata": {},
   "outputs": [
    {
     "name": "stdout",
     "output_type": "stream",
     "text": [
      "Area of Circle\n"
     ]
    },
    {
     "name": "stdin",
     "output_type": "stream",
     "text": [
      "Enter any number 2\n"
     ]
    },
    {
     "name": "stdout",
     "output_type": "stream",
     "text": [
      "12.56\n"
     ]
    }
   ],
   "source": [
    "#PNRN\n",
    "print(\"Area of Circle\")\n",
    "def area():\n",
    "    r=int(input(\"Enter any number\"))\n",
    "    a=3.14*r*r\n",
    "    print(a)\n",
    "area()"
   ]
  },
  {
   "cell_type": "code",
   "execution_count": 19,
   "id": "b98f4abd-37d4-43a5-9b0b-985d539e829d",
   "metadata": {},
   "outputs": [
    {
     "name": "stdout",
     "output_type": "stream",
     "text": [
      "Area of circle\n"
     ]
    },
    {
     "name": "stdin",
     "output_type": "stream",
     "text": [
      "Enter any number 2\n"
     ]
    },
    {
     "name": "stdout",
     "output_type": "stream",
     "text": [
      "12.56\n"
     ]
    }
   ],
   "source": [
    "#PNRS\n",
    "print(\"Area of circle\")\n",
    "def area1():\n",
    "    r=int(input(\"Enter any number\"))\n",
    "    b=3.14*r*r\n",
    "    print(b)\n",
    "    return b\n",
    "res=area1()"
   ]
  },
  {
   "cell_type": "code",
   "execution_count": 20,
   "id": "2ebf9a2f-3fa2-476d-b71e-ceac8c988f63",
   "metadata": {},
   "outputs": [
    {
     "name": "stdin",
     "output_type": "stream",
     "text": [
      "Enter any number 2\n"
     ]
    },
    {
     "name": "stdout",
     "output_type": "stream",
     "text": [
      "12.56\n"
     ]
    },
    {
     "data": {
      "text/plain": [
       "12.56"
      ]
     },
     "execution_count": 20,
     "metadata": {},
     "output_type": "execute_result"
    }
   ],
   "source": [
    "area1()"
   ]
  },
  {
   "cell_type": "code",
   "execution_count": 21,
   "id": "b1698902-2ed5-449f-acee-d4a66e8f94b5",
   "metadata": {},
   "outputs": [
    {
     "name": "stdin",
     "output_type": "stream",
     "text": [
      "Enter any number 2\n"
     ]
    },
    {
     "name": "stdout",
     "output_type": "stream",
     "text": [
      "12.56\n"
     ]
    }
   ],
   "source": [
    "area()"
   ]
  },
  {
   "cell_type": "code",
   "execution_count": 24,
   "id": "cbb52db5-265d-44a9-bcf0-ed27a6323957",
   "metadata": {},
   "outputs": [
    {
     "name": "stdout",
     "output_type": "stream",
     "text": [
      "Area of circle\n",
      "28.259999999999998\n"
     ]
    }
   ],
   "source": [
    "#PSRN\n",
    "print(\"Area of circle\")\n",
    "def circle(a):\n",
    "    c=3.14*a*a\n",
    "    print(c)\n",
    "n1=3\n",
    "n2=2\n",
    "circle(n1)"
   ]
  },
  {
   "cell_type": "code",
   "execution_count": 29,
   "id": "5b3a71ac-7c77-45c7-a616-1ef5701e7f4d",
   "metadata": {},
   "outputs": [
    {
     "name": "stdout",
     "output_type": "stream",
     "text": [
      "Area of circle\n",
      "12.56\n"
     ]
    }
   ],
   "source": [
    "#PSRS\n",
    "print(\"Area of circle\")\n",
    "def circle(a):\n",
    "    c=3.14*a*a\n",
    "    return c\n",
    "n1=2\n",
    "result=circle(n1)\n",
    "print(result)"
   ]
  },
  {
   "cell_type": "code",
   "execution_count": 31,
   "id": "3f10b246-3895-4384-990d-32222ae3a22a",
   "metadata": {},
   "outputs": [
    {
     "name": "stdout",
     "output_type": "stream",
     "text": [
      "Square of two no.\n"
     ]
    },
    {
     "name": "stdin",
     "output_type": "stream",
     "text": [
      "Enter 1st no. 4\n",
      "Enter 2nd no. 2\n"
     ]
    },
    {
     "name": "stdout",
     "output_type": "stream",
     "text": [
      "16\n"
     ]
    }
   ],
   "source": [
    "#PSRN\n",
    "print(\"Square of two no.\")\n",
    "def sqr(a,b):\n",
    "    c=a**b\n",
    "    print(c)\n",
    "n1=int(input(\"Enter 1st no.\"))\n",
    "n2=int(input(\"Enter 2nd no.\"))\n",
    "sqr(n1,n2)"
   ]
  },
  {
   "cell_type": "code",
   "execution_count": 36,
   "id": "8f30e619-dbd7-461f-bbdf-050bf8a37ee0",
   "metadata": {},
   "outputs": [
    {
     "name": "stdout",
     "output_type": "stream",
     "text": [
      "Square of two no.\n",
      "9\n"
     ]
    }
   ],
   "source": [
    "#PNRS\n",
    "print(\"Square of two no.\")\n",
    "def sqr1():\n",
    "    a=3\n",
    "    b=2\n",
    "    c=a**b\n",
    "    return c \n",
    "res=sqr1()\n",
    "print(res)"
   ]
  },
  {
   "cell_type": "code",
   "execution_count": 41,
   "id": "04e70088-4c2b-4032-acae-db80e3c2ea57",
   "metadata": {},
   "outputs": [
    {
     "name": "stdout",
     "output_type": "stream",
     "text": [
      "Power of given no.\n"
     ]
    },
    {
     "name": "stdin",
     "output_type": "stream",
     "text": [
      "enter any no. 2\n",
      "enter no 2\n"
     ]
    },
    {
     "name": "stdout",
     "output_type": "stream",
     "text": [
      "4\n"
     ]
    }
   ],
   "source": [
    "#PSRS\n",
    "print(\"Power of given no.\")\n",
    "def pow(a,b):\n",
    "    c=a**b\n",
    "    return c\n",
    "n1=int(input(\"enter any no.\"))\n",
    "n2=int(input(\"enter no\"))\n",
    "res=pow(n1,n2)\n",
    "print(res)"
   ]
  },
  {
   "cell_type": "code",
   "execution_count": 44,
   "id": "e4ac5bb2-e95b-4d0c-ad9a-b3cc8f4af73a",
   "metadata": {},
   "outputs": [
    {
     "name": "stdout",
     "output_type": "stream",
     "text": [
      "Quotient of two no.\n"
     ]
    },
    {
     "name": "stdin",
     "output_type": "stream",
     "text": [
      "Enter 1st no. 22\n",
      "enter 2nd no. 7\n"
     ]
    },
    {
     "name": "stdout",
     "output_type": "stream",
     "text": [
      "3\n"
     ]
    }
   ],
   "source": [
    "#PNRS\n",
    "print(\"Quotient of two no.\")\n",
    "def quo():\n",
    "    a=int(input(\"Enter 1st no.\"))\n",
    "    b=int(input(\"enter 2nd no.\"))\n",
    "    c=a//b\n",
    "    return c\n",
    "res=quo()\n",
    "print(res)"
   ]
  },
  {
   "cell_type": "code",
   "execution_count": 51,
   "id": "790a54e2-facd-4af9-a8bd-10578b22e527",
   "metadata": {},
   "outputs": [
    {
     "name": "stdout",
     "output_type": "stream",
     "text": [
      "Quotient of two no.\n"
     ]
    },
    {
     "name": "stdin",
     "output_type": "stream",
     "text": [
      "Enter any no. 6\n",
      "Enter any no. 3\n"
     ]
    },
    {
     "name": "stdout",
     "output_type": "stream",
     "text": [
      "2\n"
     ]
    }
   ],
   "source": [
    "#PSRS\n",
    "print(\"Quotient of two no.\")\n",
    "def quo1(a,b):\n",
    "    c=a//b\n",
    "    return c\n",
    "n1=int(input(\"Enter any no.\"))\n",
    "n2=int(input(\"Enter any no.\"))\n",
    "res=quo1(n1,n2)\n",
    "print(res)"
   ]
  },
  {
   "cell_type": "code",
   "execution_count": 61,
   "id": "86851de3-d225-464f-9ee4-3a2394dd0e39",
   "metadata": {
    "scrolled": true
   },
   "outputs": [
    {
     "name": "stdout",
     "output_type": "stream",
     "text": [
      "Quotient of two no.\n"
     ]
    },
    {
     "name": "stdin",
     "output_type": "stream",
     "text": [
      "Enter any no. 6\n",
      "Enter any no. 3\n"
     ]
    },
    {
     "name": "stdout",
     "output_type": "stream",
     "text": [
      "2\n"
     ]
    }
   ],
   "source": [
    "#PSRN\n",
    "print(\"Quotient of two no.\")\n",
    "def quo1(a,b):\n",
    "    c=a//b\n",
    "    print(c)\n",
    "n1=int(input(\"Enter any no.\"))\n",
    "n2=int(input(\"Enter any no.\"))\n",
    "quo1(n1,n2)"
   ]
  },
  {
   "cell_type": "code",
   "execution_count": 62,
   "id": "b95f693a-9bc6-4ae1-b56d-333e26196b78",
   "metadata": {},
   "outputs": [
    {
     "name": "stdout",
     "output_type": "stream",
     "text": [
      "Mod of two no. \n"
     ]
    },
    {
     "name": "stdin",
     "output_type": "stream",
     "text": [
      "Enter any no. 4\n",
      "Enter any no.  2\n"
     ]
    },
    {
     "name": "stdout",
     "output_type": "stream",
     "text": [
      "0\n"
     ]
    }
   ],
   "source": [
    "#PNRN\n",
    "print(\"Mod of two no. \")\n",
    "def mod():\n",
    "    a=int(input(\"Enter any no.\"))\n",
    "    b=int(input(\"Enter any no. \"))\n",
    "    c=a%b\n",
    "    print(c)\n",
    "mod()"
   ]
  },
  {
   "cell_type": "code",
   "execution_count": 64,
   "id": "cb6bfcec-970b-4b9f-9155-120c6e9c4197",
   "metadata": {},
   "outputs": [
    {
     "name": "stdout",
     "output_type": "stream",
     "text": [
      "Mod of two no.\n"
     ]
    },
    {
     "name": "stdin",
     "output_type": "stream",
     "text": [
      "Enter any no. 3\n",
      "Enter any no. 6\n"
     ]
    },
    {
     "name": "stdout",
     "output_type": "stream",
     "text": [
      "3\n"
     ]
    }
   ],
   "source": [
    "#PSRN\n",
    "print(\"Mod of two no.\")\n",
    "def mod1(a,b):\n",
    "    c=a%b\n",
    "    print(c)\n",
    "n1=int(input(\"Enter any no.\"))\n",
    "n2=int(input(\"Enter any no.\"))\n",
    "mod1(n1,n2)"
   ]
  },
  {
   "cell_type": "code",
   "execution_count": 67,
   "id": "71f40dc9-8872-4a72-a4ad-e3be58327eb7",
   "metadata": {},
   "outputs": [
    {
     "name": "stdout",
     "output_type": "stream",
     "text": [
      "Mod of two no.\n"
     ]
    },
    {
     "name": "stdin",
     "output_type": "stream",
     "text": [
      "Enter any no. 3\n",
      "Enter any no. 6\n"
     ]
    },
    {
     "name": "stdout",
     "output_type": "stream",
     "text": [
      "3\n"
     ]
    }
   ],
   "source": [
    "#PSRS\n",
    "print(\"Mod of two no.\")\n",
    "def mod2(a,b):\n",
    "    c=a%b\n",
    "    return c\n",
    "n1=int(input(\"Enter any no.\"))\n",
    "n2=int(input(\"Enter any no.\"))\n",
    "res=mod2(n1,n2)\n",
    "print(res)"
   ]
  },
  {
   "cell_type": "code",
   "execution_count": 68,
   "id": "614d98f9-12bf-4d38-b7f5-daff87d6388c",
   "metadata": {},
   "outputs": [
    {
     "name": "stdout",
     "output_type": "stream",
     "text": [
      "Mod of two no.\n"
     ]
    },
    {
     "name": "stdin",
     "output_type": "stream",
     "text": [
      "Enter any no. 3\n",
      "Enter any no. 6\n"
     ]
    },
    {
     "name": "stdout",
     "output_type": "stream",
     "text": [
      "3\n"
     ]
    }
   ],
   "source": [
    "#PNRS\n",
    "print(\"Mod of two no.\")\n",
    "def mod3():\n",
    "    a=int(input(\"Enter any no.\"))\n",
    "    b=int(input(\"Enter any no.\"))\n",
    "    c=a%b\n",
    "    return c\n",
    "res=mod3()\n",
    "print(res)"
   ]
  },
  {
   "cell_type": "code",
   "execution_count": null,
   "id": "b54c875a-f343-4784-a48b-4c0face40a4f",
   "metadata": {},
   "outputs": [],
   "source": []
  }
 ],
 "metadata": {
  "kernelspec": {
   "display_name": "Python 3 (ipykernel)",
   "language": "python",
   "name": "python3"
  },
  "language_info": {
   "codemirror_mode": {
    "name": "ipython",
    "version": 3
   },
   "file_extension": ".py",
   "mimetype": "text/x-python",
   "name": "python",
   "nbconvert_exporter": "python",
   "pygments_lexer": "ipython3",
   "version": "3.11.7"
  }
 },
 "nbformat": 4,
 "nbformat_minor": 5
}
