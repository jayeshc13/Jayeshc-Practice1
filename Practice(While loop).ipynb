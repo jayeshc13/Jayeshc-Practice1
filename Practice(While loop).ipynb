{
 "cells": [
  {
   "cell_type": "code",
   "execution_count": 21,
   "id": "d5602173-4d51-4534-adeb-54201c118b97",
   "metadata": {},
   "outputs": [
    {
     "name": "stdout",
     "output_type": "stream",
     "text": [
      "2\n",
      "4\n",
      "6\n",
      "8\n",
      "10\n",
      "12\n",
      "14\n",
      "16\n",
      "18\n",
      "20\n"
     ]
    }
   ],
   "source": [
    "# First 10 even numbers\n",
    "sum = 2\n",
    "while(sum<21):\n",
    "    print(sum)\n",
    "    sum=sum+2"
   ]
  },
  {
   "cell_type": "code",
   "execution_count": 24,
   "id": "348ac926-fc66-461f-a0d1-59d5d5ddfef1",
   "metadata": {},
   "outputs": [
    {
     "name": "stdout",
     "output_type": "stream",
     "text": [
      "1\n",
      "3\n",
      "5\n",
      "7\n",
      "9\n",
      "11\n",
      "13\n",
      "15\n",
      "17\n",
      "19\n"
     ]
    }
   ],
   "source": [
    "# first 10 odd nos\n",
    "num=1\n",
    "while(num<21):\n",
    "    print(num)\n",
    "    num=num+2"
   ]
  },
  {
   "cell_type": "code",
   "execution_count": 26,
   "id": "14688b55-63ea-4de1-a213-6c442345b420",
   "metadata": {},
   "outputs": [
    {
     "name": "stdout",
     "output_type": "stream",
     "text": [
      "1\n",
      "2\n",
      "3\n",
      "4\n",
      "5\n",
      "6\n",
      "7\n",
      "8\n",
      "9\n",
      "10\n"
     ]
    }
   ],
   "source": [
    "# naturals numbers\n",
    "num=1\n",
    "while(num<11):\n",
    "    print(num)\n",
    "    num=num+1"
   ]
  },
  {
   "cell_type": "code",
   "execution_count": 28,
   "id": "63faf6f2-0b13-4f3e-af84-0f011baeaae3",
   "metadata": {},
   "outputs": [
    {
     "name": "stdout",
     "output_type": "stream",
     "text": [
      "0\n",
      "1\n",
      "2\n",
      "3\n",
      "4\n",
      "5\n",
      "6\n",
      "7\n",
      "8\n",
      "9\n"
     ]
    }
   ],
   "source": [
    "#whole numbers\n",
    "num=0\n",
    "while(num<10):\n",
    "    print(num)\n",
    "    num=num+1"
   ]
  },
  {
   "cell_type": "code",
   "execution_count": 29,
   "id": "c1917b1f-3fe3-4cd7-91ed-616bde864c7a",
   "metadata": {},
   "outputs": [
    {
     "name": "stdout",
     "output_type": "stream",
     "text": [
      "1 1\n",
      "2 4\n",
      "3 9\n",
      "4 16\n",
      "5 25\n",
      "6 36\n",
      "7 49\n",
      "8 64\n",
      "9 81\n",
      "10 100\n"
     ]
    }
   ],
   "source": [
    "num=1\n",
    "while(num<11):\n",
    "    print(num,num*num)\n",
    "    num=num+1"
   ]
  },
  {
   "cell_type": "code",
   "execution_count": 31,
   "id": "f3197413-5d65-44a7-a7f7-de23a36445b0",
   "metadata": {},
   "outputs": [
    {
     "name": "stdout",
     "output_type": "stream",
     "text": [
      "10,20,30,40,50,60,70,80,90,100,110,120,130,140,150,160,170,180,190,200,210,220,230,240,250,260,270,280,290,300,"
     ]
    }
   ],
   "source": [
    "num=10\n",
    "while(num<301):\n",
    "    print(num,end= \",\")\n",
    "    num=num+10"
   ]
  },
  {
   "cell_type": "code",
   "execution_count": 33,
   "id": "c55f55ac-21de-4b46-a81d-8d5b0eb6112e",
   "metadata": {},
   "outputs": [
    {
     "name": "stdout",
     "output_type": "stream",
     "text": [
      "105 98 91 84 77 70 63 56 49 42 35 28 21 14 7 "
     ]
    }
   ],
   "source": [
    "num=105\n",
    "while(num>6):\n",
    "    print(num,end=\" \")\n",
    "    num=num-7"
   ]
  },
  {
   "cell_type": "code",
   "execution_count": 37,
   "id": "6946c1c1-0d0e-4059-982d-ca914646da3f",
   "metadata": {},
   "outputs": [
    {
     "name": "stdout",
     "output_type": "stream",
     "text": [
      "10 9 8 7 6 5 4 3 2 1 "
     ]
    }
   ],
   "source": [
    "num=10\n",
    "while(num>=1):\n",
    "    print(num,end=\" \")\n",
    "    num=num-1"
   ]
  },
  {
   "cell_type": "code",
   "execution_count": 52,
   "id": "b05c6b53-0817-47a4-a037-942d874dd261",
   "metadata": {},
   "outputs": [
    {
     "name": "stdout",
     "output_type": "stream",
     "text": [
      "210\n"
     ]
    }
   ],
   "source": [
    "# Sum of first 10 natural number\n",
    "sum=1\n",
    "a=0\n",
    "while(sum<21):\n",
    "    a=a+sum\n",
    "    sum=sum+1\n",
    "print(a)"
   ]
  },
  {
   "cell_type": "code",
   "execution_count": 51,
   "id": "0e3f2df1-99c1-4edd-b40b-1c9b33bb63f7",
   "metadata": {},
   "outputs": [
    {
     "name": "stdout",
     "output_type": "stream",
     "text": [
      "110\n"
     ]
    }
   ],
   "source": [
    "# Sum of first 10 even  numbers\n",
    "sum=2\n",
    "a=0\n",
    "while(sum<21):\n",
    "    a=a+sum\n",
    "    sum=sum+2\n",
    "print(a)"
   ]
  },
  {
   "cell_type": "code",
   "execution_count": 57,
   "id": "5b8d0b81-4bd5-4a8a-952e-8eaaaf032d8f",
   "metadata": {},
   "outputs": [
    {
     "name": "stdin",
     "output_type": "stream",
     "text": [
      "Enter any no. 20\n"
     ]
    },
    {
     "name": "stdout",
     "output_type": "stream",
     "text": [
      "110\n"
     ]
    }
   ],
   "source": [
    "# user define\n",
    "sum=int(input(\"Enter any no.\"))\n",
    "a=0\n",
    "while(sum>=1):\n",
    "    a=a+sum\n",
    "    sum=sum-2\n",
    "print(a)"
   ]
  },
  {
   "cell_type": "code",
   "execution_count": 64,
   "id": "9b763d0b-aca5-46f1-a20c-bac3114a6677",
   "metadata": {},
   "outputs": [
    {
     "name": "stdin",
     "output_type": "stream",
     "text": [
      "enter no. 4\n"
     ]
    },
    {
     "name": "stdout",
     "output_type": "stream",
     "text": [
      "4 * 1 = 4\n",
      "4 * 2 = 8\n",
      "4 * 3 = 12\n",
      "4 * 4 = 16\n",
      "4 * 5 = 20\n",
      "4 * 6 = 24\n",
      "4 * 7 = 28\n",
      "4 * 8 = 32\n",
      "4 * 9 = 36\n",
      "4 * 10 = 40\n"
     ]
    }
   ],
   "source": [
    "#Table of number entered from user\n",
    "a=int(input(\"enter no.\"))\n",
    "value=1\n",
    "while(value<=10):\n",
    "    print(a,\"*\",value,\"=\",a*value)\n",
    "    value=value+1\n",
    "    "
   ]
  },
  {
   "cell_type": "code",
   "execution_count": 75,
   "id": "5416fbc3-e516-434c-b1d1-e53bec317f7a",
   "metadata": {},
   "outputs": [
    {
     "name": "stdin",
     "output_type": "stream",
     "text": [
      "enter no. 1\n",
      "enter no. 99\n"
     ]
    },
    {
     "name": "stdout",
     "output_type": "stream",
     "text": [
      "2 4 6 8 10 12 14 16 18 20 22 24 26 28 30 32 34 36 38 40 42 44 46 48 50 52 54 56 58 60 62 64 66 68 70 72 74 76 78 80 82 84 86 88 90 92 94 96 98 "
     ]
    }
   ],
   "source": [
    "# Print even number between given number\n",
    "num1=int(input(\"enter no.\"))\n",
    "num2=int(input(\"enter no.\"))\n",
    "if (num1>num2):\n",
    "    while(num1>num2):\n",
    "        if (num2 % 2 ==0):\n",
    "            print(num2,end=\" \")\n",
    "        num2=num2+1\n",
    "else:\n",
    "    while(num1<num2):\n",
    "        if (num1 %2 == 0):\n",
    "            print(num1,end=\" \")\n",
    "        num1=num1+1"
   ]
  },
  {
   "cell_type": "code",
   "execution_count": null,
   "id": "96d39443-5e62-4c40-8130-b269f6c5dad1",
   "metadata": {},
   "outputs": [],
   "source": []
  }
 ],
 "metadata": {
  "kernelspec": {
   "display_name": "Python 3 (ipykernel)",
   "language": "python",
   "name": "python3"
  },
  "language_info": {
   "codemirror_mode": {
    "name": "ipython",
    "version": 3
   },
   "file_extension": ".py",
   "mimetype": "text/x-python",
   "name": "python",
   "nbconvert_exporter": "python",
   "pygments_lexer": "ipython3",
   "version": "3.11.7"
  }
 },
 "nbformat": 4,
 "nbformat_minor": 5
}
