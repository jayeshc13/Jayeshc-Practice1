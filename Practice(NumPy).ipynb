{
 "cells": [
  {
   "cell_type": "markdown",
   "id": "234d0801-4c1f-4cc4-b436-3014e787f7d5",
   "metadata": {},
   "source": [
    "# NumPy"
   ]
  },
  {
   "cell_type": "code",
   "execution_count": 2,
   "id": "a0bf6eef-53fc-4a0a-a6d7-705baafbcd17",
   "metadata": {},
   "outputs": [],
   "source": [
    "import numpy as np"
   ]
  },
  {
   "cell_type": "code",
   "execution_count": 3,
   "id": "486009f5-37ac-4938-a997-b28f84bd986c",
   "metadata": {},
   "outputs": [
    {
     "data": {
      "text/plain": [
       "array([], dtype=float64)"
      ]
     },
     "execution_count": 3,
     "metadata": {},
     "output_type": "execute_result"
    }
   ],
   "source": [
    "arr1 = np.array([])\n",
    "arr1"
   ]
  },
  {
   "cell_type": "code",
   "execution_count": 4,
   "id": "c3a09bbc-a188-4311-a471-b0b4557cbae6",
   "metadata": {},
   "outputs": [
    {
     "name": "stdout",
     "output_type": "stream",
     "text": [
      "[12, 13, 14, 15]\n",
      "<class 'list'>\n"
     ]
    }
   ],
   "source": [
    "my_list=[12,13,14,15]\n",
    "print(my_list)\n",
    "print(type(my_list))"
   ]
  },
  {
   "cell_type": "code",
   "execution_count": 5,
   "id": "8d5b67fc-813d-4ee1-8e70-a72716f6120b",
   "metadata": {},
   "outputs": [
    {
     "data": {
      "text/plain": [
       "array([12, 13, 14, 15])"
      ]
     },
     "execution_count": 5,
     "metadata": {},
     "output_type": "execute_result"
    }
   ],
   "source": [
    "a=np.array(my_list)\n",
    "a"
   ]
  },
  {
   "cell_type": "code",
   "execution_count": 6,
   "id": "af56a03c-8346-4983-901e-3be3f408427c",
   "metadata": {},
   "outputs": [
    {
     "data": {
      "text/plain": [
       "numpy.ndarray"
      ]
     },
     "execution_count": 6,
     "metadata": {},
     "output_type": "execute_result"
    }
   ],
   "source": [
    "type(a)"
   ]
  },
  {
   "cell_type": "code",
   "execution_count": 7,
   "id": "bf5adf84-92dc-4396-a747-832dc74264ed",
   "metadata": {},
   "outputs": [
    {
     "data": {
      "text/plain": [
       "1"
      ]
     },
     "execution_count": 7,
     "metadata": {},
     "output_type": "execute_result"
    }
   ],
   "source": [
    "a.ndim\n"
   ]
  },
  {
   "cell_type": "code",
   "execution_count": 8,
   "id": "7dd86e42-4dde-40b5-ac14-2186563f94cc",
   "metadata": {},
   "outputs": [
    {
     "data": {
      "text/plain": [
       "4"
      ]
     },
     "execution_count": 8,
     "metadata": {},
     "output_type": "execute_result"
    }
   ],
   "source": [
    "a.size"
   ]
  },
  {
   "cell_type": "code",
   "execution_count": 9,
   "id": "19d6fd5d-b549-4e3f-bea5-9c25a8a7485d",
   "metadata": {},
   "outputs": [
    {
     "data": {
      "text/plain": [
       "(4,)"
      ]
     },
     "execution_count": 9,
     "metadata": {},
     "output_type": "execute_result"
    }
   ],
   "source": [
    "a.shape"
   ]
  },
  {
   "cell_type": "code",
   "execution_count": 10,
   "id": "f2128aa5-6ded-4789-b112-02eb5d102bd5",
   "metadata": {},
   "outputs": [
    {
     "data": {
      "text/plain": [
       "[[7, 86, 8], [45, 67, 87], [65, 25, 57], [35, 67, 35]]"
      ]
     },
     "execution_count": 10,
     "metadata": {},
     "output_type": "execute_result"
    }
   ],
   "source": [
    "matrix =  [ [7,86,8],[45,67,87],[65,25,57],[35,67,35]]\n",
    "matrix"
   ]
  },
  {
   "cell_type": "code",
   "execution_count": 11,
   "id": "c710880a-ad4b-4b0a-a681-ed864ec21cc1",
   "metadata": {},
   "outputs": [
    {
     "data": {
      "text/plain": [
       "array([[ 7, 86,  8],\n",
       "       [45, 67, 87],\n",
       "       [65, 25, 57],\n",
       "       [35, 67, 35]])"
      ]
     },
     "execution_count": 11,
     "metadata": {},
     "output_type": "execute_result"
    }
   ],
   "source": [
    "b=np.array(matrix)\n",
    "b"
   ]
  },
  {
   "cell_type": "code",
   "execution_count": 12,
   "id": "78c387b8-2dcb-436b-b72b-ac05d1fe8051",
   "metadata": {},
   "outputs": [
    {
     "name": "stdout",
     "output_type": "stream",
     "text": [
      "The shape of matrix is (4, 3)\n"
     ]
    }
   ],
   "source": [
    "print(\"The shape of matrix is\",b.shape)"
   ]
  },
  {
   "cell_type": "code",
   "execution_count": 13,
   "id": "4ec8cc47-241d-4c4d-927e-4dd831832989",
   "metadata": {},
   "outputs": [
    {
     "name": "stdout",
     "output_type": "stream",
     "text": [
      "The size of matrix is 12\n"
     ]
    }
   ],
   "source": [
    "print(\"The size of matrix is\",b.size)"
   ]
  },
  {
   "cell_type": "code",
   "execution_count": 14,
   "id": "9543fa29-3b1a-41ff-a9d7-77389d8a17fc",
   "metadata": {},
   "outputs": [
    {
     "name": "stdout",
     "output_type": "stream",
     "text": [
      "The dimension of matrix is 2\n"
     ]
    }
   ],
   "source": [
    "print(\"The dimension of matrix is\",b.ndim)"
   ]
  },
  {
   "cell_type": "code",
   "execution_count": 15,
   "id": "872cec87-8fc2-4afb-9c7a-830a8e08e306",
   "metadata": {},
   "outputs": [
    {
     "name": "stdout",
     "output_type": "stream",
     "text": [
      "The type of matrix is int32\n"
     ]
    }
   ],
   "source": [
    "print(\"The type of matrix is\",b.dtype)"
   ]
  },
  {
   "cell_type": "code",
   "execution_count": null,
   "id": "3318ab4f-d150-40df-8437-fb76223e2659",
   "metadata": {},
   "outputs": [],
   "source": []
  },
  {
   "cell_type": "code",
   "execution_count": 16,
   "id": "de53c6e5-30aa-4589-a231-fcf05c40077c",
   "metadata": {},
   "outputs": [
    {
     "data": {
      "text/plain": [
       "array([[[12, 23,  4],\n",
       "        [23, 45, 65]],\n",
       "\n",
       "       [[23, 45, 56],\n",
       "        [32, 45, 65]]])"
      ]
     },
     "execution_count": 16,
     "metadata": {},
     "output_type": "execute_result"
    }
   ],
   "source": [
    "arr1=np.array([[[12,23,4],[23,45,65]],[[23,45,56],[32,45,65]]])\n",
    "arr1"
   ]
  },
  {
   "cell_type": "code",
   "execution_count": 17,
   "id": "e482146a-6cba-4a31-9fdc-3bf498ccd47e",
   "metadata": {},
   "outputs": [
    {
     "data": {
      "text/plain": [
       "(2, 2, 3)"
      ]
     },
     "execution_count": 17,
     "metadata": {},
     "output_type": "execute_result"
    }
   ],
   "source": [
    "arr1.shape"
   ]
  },
  {
   "cell_type": "code",
   "execution_count": 20,
   "id": "e5ddfd3b-57f4-4291-a748-59c39091bfaf",
   "metadata": {},
   "outputs": [],
   "source": [
    "arr2=arr1.reshape(4,3)"
   ]
  },
  {
   "cell_type": "code",
   "execution_count": 21,
   "id": "6d6aec78-307e-43b7-927e-aa97cf893127",
   "metadata": {},
   "outputs": [
    {
     "data": {
      "text/plain": [
       "array([[12, 23,  4],\n",
       "       [23, 45, 65],\n",
       "       [23, 45, 56],\n",
       "       [32, 45, 65]])"
      ]
     },
     "execution_count": 21,
     "metadata": {},
     "output_type": "execute_result"
    }
   ],
   "source": [
    "arr2"
   ]
  },
  {
   "cell_type": "code",
   "execution_count": null,
   "id": "f060b6a3-4d45-4bd9-9989-97542b08cb5a",
   "metadata": {},
   "outputs": [],
   "source": []
  },
  {
   "cell_type": "code",
   "execution_count": 22,
   "id": "b70ca225-ecf9-47cb-bdc2-ead57ebef902",
   "metadata": {},
   "outputs": [
    {
     "data": {
      "text/plain": [
       "array([ 0,  1,  2,  3,  4,  5,  6,  7,  8,  9, 10, 11, 12, 13])"
      ]
     },
     "execution_count": 22,
     "metadata": {},
     "output_type": "execute_result"
    }
   ],
   "source": [
    "np.arange(14)"
   ]
  },
  {
   "cell_type": "code",
   "execution_count": 28,
   "id": "87de63b4-0634-4452-8860-5198c2df2d3c",
   "metadata": {},
   "outputs": [
    {
     "data": {
      "text/plain": [
       "array([300, 296, 292, 288, 284, 280, 276, 272, 268, 264, 260, 256, 252,\n",
       "       248, 244, 240, 236, 232, 228, 224, 220, 216, 212, 208, 204])"
      ]
     },
     "execution_count": 28,
     "metadata": {},
     "output_type": "execute_result"
    }
   ],
   "source": [
    "np.arange(300,200,-4)"
   ]
  },
  {
   "cell_type": "code",
   "execution_count": null,
   "id": "9825fc4e-ac20-4886-9541-2314f1dfc6fd",
   "metadata": {},
   "outputs": [],
   "source": []
  },
  {
   "cell_type": "code",
   "execution_count": 29,
   "id": "50ac0b67-b6cd-494c-aa5b-4db884535d6f",
   "metadata": {},
   "outputs": [
    {
     "data": {
      "text/plain": [
       "array([0., 0., 0., 0.])"
      ]
     },
     "execution_count": 29,
     "metadata": {},
     "output_type": "execute_result"
    }
   ],
   "source": [
    "np.zeros(4)"
   ]
  },
  {
   "cell_type": "code",
   "execution_count": 33,
   "id": "f36be6b0-a98a-4464-b1b6-482f5d6738cf",
   "metadata": {},
   "outputs": [
    {
     "data": {
      "text/plain": [
       "array([[0., 0., 0., 0.],\n",
       "       [0., 0., 0., 0.],\n",
       "       [0., 0., 0., 0.],\n",
       "       [0., 0., 0., 0.]])"
      ]
     },
     "execution_count": 33,
     "metadata": {},
     "output_type": "execute_result"
    }
   ],
   "source": [
    "np.zeros((4,4))"
   ]
  },
  {
   "cell_type": "code",
   "execution_count": 34,
   "id": "1e0b64a4-2223-460d-b465-b167422643e4",
   "metadata": {},
   "outputs": [
    {
     "data": {
      "text/plain": [
       "array([1., 1., 1., 1.])"
      ]
     },
     "execution_count": 34,
     "metadata": {},
     "output_type": "execute_result"
    }
   ],
   "source": [
    "np.ones((4))"
   ]
  },
  {
   "cell_type": "code",
   "execution_count": 35,
   "id": "248083da-fd62-4bdc-980b-073e96ed94a3",
   "metadata": {},
   "outputs": [
    {
     "data": {
      "text/plain": [
       "array([[1., 1., 1., 1., 1.],\n",
       "       [1., 1., 1., 1., 1.],\n",
       "       [1., 1., 1., 1., 1.],\n",
       "       [1., 1., 1., 1., 1.]])"
      ]
     },
     "execution_count": 35,
     "metadata": {},
     "output_type": "execute_result"
    }
   ],
   "source": [
    "np.ones((4,5))"
   ]
  },
  {
   "cell_type": "code",
   "execution_count": 38,
   "id": "daabe607-134b-4d83-a660-82d956dcac8a",
   "metadata": {},
   "outputs": [
    {
     "data": {
      "text/plain": [
       "array([[[1., 1., 1.],\n",
       "        [1., 1., 1.],\n",
       "        [1., 1., 1.],\n",
       "        [1., 1., 1.]],\n",
       "\n",
       "       [[1., 1., 1.],\n",
       "        [1., 1., 1.],\n",
       "        [1., 1., 1.],\n",
       "        [1., 1., 1.]],\n",
       "\n",
       "       [[1., 1., 1.],\n",
       "        [1., 1., 1.],\n",
       "        [1., 1., 1.],\n",
       "        [1., 1., 1.]]])"
      ]
     },
     "execution_count": 38,
     "metadata": {},
     "output_type": "execute_result"
    }
   ],
   "source": [
    "np.ones((3,4,3))"
   ]
  },
  {
   "cell_type": "code",
   "execution_count": null,
   "id": "3888baa9-69fa-4381-ad33-0c8b8d3fe7c9",
   "metadata": {},
   "outputs": [],
   "source": []
  },
  {
   "cell_type": "code",
   "execution_count": 39,
   "id": "862cffcb-d897-4005-91c3-7ea92cf07ac2",
   "metadata": {},
   "outputs": [
    {
     "data": {
      "text/plain": [
       "array([ 1.        ,  1.28571429,  1.57142857,  1.85714286,  2.14285714,\n",
       "        2.42857143,  2.71428571,  3.        ,  3.28571429,  3.57142857,\n",
       "        3.85714286,  4.14285714,  4.42857143,  4.71428571,  5.        ,\n",
       "        5.28571429,  5.57142857,  5.85714286,  6.14285714,  6.42857143,\n",
       "        6.71428571,  7.        ,  7.28571429,  7.57142857,  7.85714286,\n",
       "        8.14285714,  8.42857143,  8.71428571,  9.        ,  9.28571429,\n",
       "        9.57142857,  9.85714286, 10.14285714, 10.42857143, 10.71428571,\n",
       "       11.        , 11.28571429, 11.57142857, 11.85714286, 12.14285714,\n",
       "       12.42857143, 12.71428571, 13.        , 13.28571429, 13.57142857,\n",
       "       13.85714286, 14.14285714, 14.42857143, 14.71428571, 15.        ])"
      ]
     },
     "execution_count": 39,
     "metadata": {},
     "output_type": "execute_result"
    }
   ],
   "source": [
    "np.linspace(1,15)"
   ]
  },
  {
   "cell_type": "code",
   "execution_count": 40,
   "id": "e2627b94-328c-4720-8d66-fbd71c0e921d",
   "metadata": {},
   "outputs": [
    {
     "data": {
      "text/plain": [
       "array([ 2.  ,  7.75, 13.5 , 19.25, 25.  ])"
      ]
     },
     "execution_count": 40,
     "metadata": {},
     "output_type": "execute_result"
    }
   ],
   "source": [
    "np.linspace(2,25,5)"
   ]
  },
  {
   "cell_type": "code",
   "execution_count": 42,
   "id": "3fd7769e-2fca-470d-bd8e-a1ab8935f120",
   "metadata": {},
   "outputs": [
    {
     "data": {
      "text/plain": [
       "(array([ 1.        ,  1.28571429,  1.57142857,  1.85714286,  2.14285714,\n",
       "         2.42857143,  2.71428571,  3.        ,  3.28571429,  3.57142857,\n",
       "         3.85714286,  4.14285714,  4.42857143,  4.71428571,  5.        ,\n",
       "         5.28571429,  5.57142857,  5.85714286,  6.14285714,  6.42857143,\n",
       "         6.71428571,  7.        ,  7.28571429,  7.57142857,  7.85714286,\n",
       "         8.14285714,  8.42857143,  8.71428571,  9.        ,  9.28571429,\n",
       "         9.57142857,  9.85714286, 10.14285714, 10.42857143, 10.71428571,\n",
       "        11.        , 11.28571429, 11.57142857, 11.85714286, 12.14285714,\n",
       "        12.42857143, 12.71428571, 13.        , 13.28571429, 13.57142857,\n",
       "        13.85714286, 14.14285714, 14.42857143, 14.71428571, 15.        ]),\n",
       " 0.2857142857142857)"
      ]
     },
     "execution_count": 42,
     "metadata": {},
     "output_type": "execute_result"
    }
   ],
   "source": [
    "np.linspace(1,15,retstep = True)"
   ]
  },
  {
   "cell_type": "code",
   "execution_count": null,
   "id": "50046717-bab3-47a3-9e1c-577fee6d2847",
   "metadata": {},
   "outputs": [],
   "source": []
  },
  {
   "cell_type": "code",
   "execution_count": 43,
   "id": "7aa872ff-d809-45c8-acec-046d464bbd4c",
   "metadata": {},
   "outputs": [
    {
     "data": {
      "text/plain": [
       "array([[1., 0., 0.],\n",
       "       [0., 1., 0.],\n",
       "       [0., 0., 1.]])"
      ]
     },
     "execution_count": 43,
     "metadata": {},
     "output_type": "execute_result"
    }
   ],
   "source": [
    "np.eye(3)"
   ]
  },
  {
   "cell_type": "code",
   "execution_count": null,
   "id": "49ee264c-40ca-4bc5-890d-9fdcfddd66cf",
   "metadata": {},
   "outputs": [],
   "source": []
  },
  {
   "cell_type": "code",
   "execution_count": 45,
   "id": "3f56c503-2ddd-427e-af3b-a82e73e9bbaf",
   "metadata": {},
   "outputs": [],
   "source": [
    "a=np.ones((3,4))"
   ]
  },
  {
   "cell_type": "code",
   "execution_count": 46,
   "id": "2dbfa06d-c4e3-4055-a9f2-bd1758f6995a",
   "metadata": {},
   "outputs": [
    {
     "data": {
      "text/plain": [
       "array([[1., 1., 1., 1.],\n",
       "       [1., 1., 1., 1.],\n",
       "       [1., 1., 1., 1.]])"
      ]
     },
     "execution_count": 46,
     "metadata": {},
     "output_type": "execute_result"
    }
   ],
   "source": [
    "a"
   ]
  },
  {
   "cell_type": "code",
   "execution_count": 47,
   "id": "7b38c600-d99f-4a5c-a693-11c1fe9d22b8",
   "metadata": {},
   "outputs": [
    {
     "data": {
      "text/plain": [
       "array([[4., 4., 4., 4.],\n",
       "       [4., 4., 4., 4.],\n",
       "       [4., 4., 4., 4.]])"
      ]
     },
     "execution_count": 47,
     "metadata": {},
     "output_type": "execute_result"
    }
   ],
   "source": [
    "a * 4"
   ]
  },
  {
   "cell_type": "code",
   "execution_count": 48,
   "id": "07ee8e12-6faa-45e4-8f18-53f4b843ddd1",
   "metadata": {},
   "outputs": [],
   "source": [
    "a= a*4-2"
   ]
  },
  {
   "cell_type": "code",
   "execution_count": 49,
   "id": "b6546b91-298a-4834-be29-3906072f13b7",
   "metadata": {},
   "outputs": [
    {
     "data": {
      "text/plain": [
       "array([[2., 2., 2., 2.],\n",
       "       [2., 2., 2., 2.],\n",
       "       [2., 2., 2., 2.]])"
      ]
     },
     "execution_count": 49,
     "metadata": {},
     "output_type": "execute_result"
    }
   ],
   "source": [
    "a"
   ]
  },
  {
   "cell_type": "code",
   "execution_count": null,
   "id": "036b33f1-d62a-437f-9a5f-1937dc9ab1cf",
   "metadata": {},
   "outputs": [],
   "source": []
  },
  {
   "cell_type": "code",
   "execution_count": 52,
   "id": "96bbc9a9-c08c-4765-9699-f380ebc1da6c",
   "metadata": {},
   "outputs": [
    {
     "data": {
      "text/plain": [
       "dtype('float64')"
      ]
     },
     "execution_count": 52,
     "metadata": {},
     "output_type": "execute_result"
    }
   ],
   "source": [
    "a.dtype"
   ]
  },
  {
   "cell_type": "code",
   "execution_count": 53,
   "id": "0d5b9361-ce19-444d-a959-995a2e21b11d",
   "metadata": {},
   "outputs": [
    {
     "data": {
      "text/plain": [
       "numpy.ndarray"
      ]
     },
     "execution_count": 53,
     "metadata": {},
     "output_type": "execute_result"
    }
   ],
   "source": [
    "type(a)"
   ]
  },
  {
   "cell_type": "code",
   "execution_count": 54,
   "id": "506970f0-cdb1-42b7-a149-a2e9c8a74a8f",
   "metadata": {},
   "outputs": [],
   "source": [
    "arr1=np.arange(20)"
   ]
  },
  {
   "cell_type": "code",
   "execution_count": 55,
   "id": "10b7a776-24f6-4bf8-931d-70d95ac2dec4",
   "metadata": {},
   "outputs": [
    {
     "data": {
      "text/plain": [
       "array([ 0,  1,  2,  3,  4,  5,  6,  7,  8,  9, 10, 11, 12, 13, 14, 15, 16,\n",
       "       17, 18, 19])"
      ]
     },
     "execution_count": 55,
     "metadata": {},
     "output_type": "execute_result"
    }
   ],
   "source": [
    "arr1"
   ]
  },
  {
   "cell_type": "code",
   "execution_count": 56,
   "id": "1e2a7743-05cb-4041-b767-d4788f20e9c2",
   "metadata": {},
   "outputs": [
    {
     "name": "stderr",
     "output_type": "stream",
     "text": [
      "C:\\Users\\s\\AppData\\Local\\Temp\\ipykernel_11984\\393800717.py:1: RuntimeWarning: divide by zero encountered in divide\n",
      "  1/arr1\n"
     ]
    },
    {
     "data": {
      "text/plain": [
       "array([       inf, 1.        , 0.5       , 0.33333333, 0.25      ,\n",
       "       0.2       , 0.16666667, 0.14285714, 0.125     , 0.11111111,\n",
       "       0.1       , 0.09090909, 0.08333333, 0.07692308, 0.07142857,\n",
       "       0.06666667, 0.0625    , 0.05882353, 0.05555556, 0.05263158])"
      ]
     },
     "execution_count": 56,
     "metadata": {},
     "output_type": "execute_result"
    }
   ],
   "source": [
    "1/arr1"
   ]
  },
  {
   "cell_type": "code",
   "execution_count": 57,
   "id": "633277e0-5750-4c9d-8ffc-b5c756f88f33",
   "metadata": {},
   "outputs": [
    {
     "data": {
      "text/plain": [
       "array([ 0,  2,  4,  6,  8, 10, 12, 14, 16, 18, 20, 22, 24, 26, 28, 30, 32,\n",
       "       34, 36, 38])"
      ]
     },
     "execution_count": 57,
     "metadata": {},
     "output_type": "execute_result"
    }
   ],
   "source": [
    "arr1+arr1"
   ]
  },
  {
   "cell_type": "code",
   "execution_count": 58,
   "id": "04a5be8e-cb32-45eb-bf34-f7f4e5e29be9",
   "metadata": {},
   "outputs": [
    {
     "data": {
      "text/plain": [
       "array([  0,   1,   4,   9,  16,  25,  36,  49,  64,  81, 100, 121, 144,\n",
       "       169, 196, 225, 256, 289, 324, 361])"
      ]
     },
     "execution_count": 58,
     "metadata": {},
     "output_type": "execute_result"
    }
   ],
   "source": [
    "arr1*arr1"
   ]
  },
  {
   "cell_type": "code",
   "execution_count": 59,
   "id": "bcb5a175-319c-49c8-8289-3a97f240d52a",
   "metadata": {},
   "outputs": [
    {
     "name": "stderr",
     "output_type": "stream",
     "text": [
      "C:\\Users\\s\\AppData\\Local\\Temp\\ipykernel_11984\\1749041114.py:1: RuntimeWarning: invalid value encountered in divide\n",
      "  arr1/arr1\n"
     ]
    },
    {
     "data": {
      "text/plain": [
       "array([nan,  1.,  1.,  1.,  1.,  1.,  1.,  1.,  1.,  1.,  1.,  1.,  1.,\n",
       "        1.,  1.,  1.,  1.,  1.,  1.,  1.])"
      ]
     },
     "execution_count": 59,
     "metadata": {},
     "output_type": "execute_result"
    }
   ],
   "source": [
    "arr1/arr1"
   ]
  },
  {
   "cell_type": "code",
   "execution_count": 60,
   "id": "13233d5c-ae04-4123-b3f0-93dd590607af",
   "metadata": {},
   "outputs": [
    {
     "data": {
      "text/plain": [
       "array([          1,           1,           4,          27,         256,\n",
       "              3125,       46656,      823543,    16777216,   387420489,\n",
       "        1410065408,  1843829075,  -251658240, -1692154371, -1282129920,\n",
       "        1500973039,           0,  1681328401,   457441280,  -306639989])"
      ]
     },
     "execution_count": 60,
     "metadata": {},
     "output_type": "execute_result"
    }
   ],
   "source": [
    "arr1**arr1"
   ]
  },
  {
   "cell_type": "code",
   "execution_count": null,
   "id": "3c10c206-291e-4bbe-9863-9df5c94d446e",
   "metadata": {},
   "outputs": [],
   "source": []
  },
  {
   "cell_type": "code",
   "execution_count": 68,
   "id": "6718939f-a67a-498e-a91a-2d4875ed6bb4",
   "metadata": {},
   "outputs": [
    {
     "data": {
      "text/plain": [
       "array([30, 30, 30, 30, 30, 30, 30, 30, 30, 30, 30, 30, 30, 30, 30, 30, 30,\n",
       "       30, 30, 30])"
      ]
     },
     "execution_count": 68,
     "metadata": {},
     "output_type": "execute_result"
    }
   ],
   "source": [
    "arr2=arr1\n",
    "arr2"
   ]
  },
  {
   "cell_type": "code",
   "execution_count": 69,
   "id": "41fd06a6-3f67-4836-a8fe-90dfb3abefc7",
   "metadata": {},
   "outputs": [
    {
     "data": {
      "text/plain": [
       "array([30, 30, 30, 30, 30, 30, 30, 30, 30, 30, 30, 30, 30, 30, 30, 30, 30,\n",
       "       30, 30, 30])"
      ]
     },
     "execution_count": 69,
     "metadata": {},
     "output_type": "execute_result"
    }
   ],
   "source": [
    "arr2[:1]=30\n",
    "arr2"
   ]
  },
  {
   "cell_type": "code",
   "execution_count": 70,
   "id": "6f17ee6c-4a5d-4de7-952b-630b368d5186",
   "metadata": {},
   "outputs": [],
   "source": [
    "arr2[:6]=10"
   ]
  },
  {
   "cell_type": "code",
   "execution_count": 71,
   "id": "e30c577a-c70a-49e2-8d1f-4614a2c9d204",
   "metadata": {},
   "outputs": [
    {
     "data": {
      "text/plain": [
       "array([10, 10, 10, 10, 10, 10, 30, 30, 30, 30, 30, 30, 30, 30, 30, 30, 30,\n",
       "       30, 30, 30])"
      ]
     },
     "execution_count": 71,
     "metadata": {},
     "output_type": "execute_result"
    }
   ],
   "source": [
    "arr2"
   ]
  },
  {
   "cell_type": "code",
   "execution_count": 72,
   "id": "ada037e3-d241-4f6b-a547-2c97655e0be5",
   "metadata": {},
   "outputs": [
    {
     "data": {
      "text/plain": [
       "<function ndarray.copy>"
      ]
     },
     "execution_count": 72,
     "metadata": {},
     "output_type": "execute_result"
    }
   ],
   "source": [
    "arr3=arr2.copy\n",
    "arr3"
   ]
  },
  {
   "cell_type": "code",
   "execution_count": 76,
   "id": "98c97403-cbe8-4c27-9dd8-0b06e37b6c76",
   "metadata": {},
   "outputs": [],
   "source": [
    "arr2[8:]=200"
   ]
  },
  {
   "cell_type": "code",
   "execution_count": 77,
   "id": "b9bc8b30-93f3-47d2-9dbd-3eee2c089522",
   "metadata": {},
   "outputs": [
    {
     "data": {
      "text/plain": [
       "array([ 10,  10,  10,  10,  10,  10,  30,  30, 200, 200, 200, 200, 200,\n",
       "       200, 200, 200, 200, 200, 200, 200])"
      ]
     },
     "execution_count": 77,
     "metadata": {},
     "output_type": "execute_result"
    }
   ],
   "source": [
    "arr2"
   ]
  },
  {
   "cell_type": "code",
   "execution_count": 78,
   "id": "16ee4544-5e80-4973-b656-3c7861531f2e",
   "metadata": {},
   "outputs": [],
   "source": [
    "arr2[4:8]=6"
   ]
  },
  {
   "cell_type": "code",
   "execution_count": 79,
   "id": "5110693b-8ee8-4e04-8641-395eb992049a",
   "metadata": {},
   "outputs": [
    {
     "data": {
      "text/plain": [
       "array([ 10,  10,  10,  10,   6,   6,   6,   6, 200, 200, 200, 200, 200,\n",
       "       200, 200, 200, 200, 200, 200, 200])"
      ]
     },
     "execution_count": 79,
     "metadata": {},
     "output_type": "execute_result"
    }
   ],
   "source": [
    "arr2"
   ]
  },
  {
   "cell_type": "code",
   "execution_count": null,
   "id": "b5b9a5a4-6574-46eb-b698-bfea4c608d71",
   "metadata": {},
   "outputs": [],
   "source": []
  }
 ],
 "metadata": {
  "kernelspec": {
   "display_name": "Python 3 (ipykernel)",
   "language": "python",
   "name": "python3"
  },
  "language_info": {
   "codemirror_mode": {
    "name": "ipython",
    "version": 3
   },
   "file_extension": ".py",
   "mimetype": "text/x-python",
   "name": "python",
   "nbconvert_exporter": "python",
   "pygments_lexer": "ipython3",
   "version": "3.11.7"
  }
 },
 "nbformat": 4,
 "nbformat_minor": 5
}
