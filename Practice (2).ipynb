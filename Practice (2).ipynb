{
 "cells": [
  {
   "cell_type": "code",
   "execution_count": 2,
   "id": "ce8513a1-0fc0-42e4-9151-e788b68aa69e",
   "metadata": {},
   "outputs": [
    {
     "name": "stdin",
     "output_type": "stream",
     "text": [
      " github 1358\n"
     ]
    },
    {
     "name": "stdout",
     "output_type": "stream",
     "text": [
      "The input string github 1358 has 4 digits and 6 letters\n"
     ]
    }
   ],
   "source": [
    "#Calculate no. of digits and string\n",
    "user_input=input()\n",
    "\n",
    "digits=0\n",
    "letters=0\n",
    "\n",
    "for i in user_input:\n",
    "    if i.isdigit():\n",
    "        digits=digits+1\n",
    "\n",
    "    elif i.isalpha():\n",
    "        letters=letters+1\n",
    "\n",
    "print('The input string',user_input,'has',digits,'digits and',letters,'letters')"
   ]
  },
  {
   "cell_type": "code",
   "execution_count": 12,
   "id": "487d77e7-e7ca-453c-96c6-cc1104b9cdf4",
   "metadata": {},
   "outputs": [
    {
     "name": "stdout",
     "output_type": "stream",
     "text": [
      "Apple\n",
      "1\n",
      "Banana\n",
      "Coconut\n",
      "Banana\n",
      "5\n",
      "Apple\n",
      "7\n",
      "Banana\n",
      "Coconut\n",
      "Banana\n",
      "11\n",
      "Apple\n",
      "13\n",
      "Banana\n",
      "Coconut\n",
      "Banana\n",
      "17\n",
      "Apple\n",
      "19\n",
      "Banana\n",
      "Coconut\n",
      "Banana\n",
      "23\n",
      "Apple\n",
      "25\n",
      "Banana\n",
      "Coconut\n",
      "Banana\n",
      "29\n",
      "Apple\n"
     ]
    }
   ],
   "source": [
    "#Iterates the integers from 1 to 30\n",
    "a=30\n",
    "for i in range(a+1):\n",
    "    if i%2==0 and i%3==0:\n",
    "        print(\"Apple\")\n",
    "        continue\n",
    "\n",
    "    elif i%2==0 and i%3!=0:\n",
    "        print(\"Banana\")\n",
    "        continue\n",
    "\n",
    "    elif i%2!=0 and i%3==0:\n",
    "        print(\"Coconut\")\n",
    "\n",
    "    else:\n",
    "        print(i)"
   ]
  },
  {
   "cell_type": "code",
   "execution_count": 16,
   "id": "f1910e15-0a1f-42d1-afcc-0c2caadf80d2",
   "metadata": {},
   "outputs": [
    {
     "name": "stdin",
     "output_type": "stream",
     "text": [
      " Github@123\n"
     ]
    },
    {
     "name": "stdout",
     "output_type": "stream",
     "text": [
      "Valid Password\n"
     ]
    }
   ],
   "source": [
    "#Check the validity of password from user input\n",
    "password=input()\n",
    "\n",
    "has_valid_length=False\n",
    "has_lower_case=False\n",
    "has_digits=False\n",
    "has_Upper_case=False\n",
    "has_special_character=False\n",
    "\n",
    "if (len(password))>=8 and (len(password)<=16):\n",
    "    has_valid_length=True\n",
    "\n",
    "    for i in password:\n",
    "        if(i.islower()):\n",
    "            has_lower_case=True\n",
    "\n",
    "        if(i.isupper()):\n",
    "            has_Upper_case=True\n",
    "\n",
    "        if(i.isdigit()):\n",
    "            has_digits=True\n",
    "\n",
    "        if(i==\"@\" or i==\"!\" or i==\"#\" or i==\"$\" or i==\"%\" or i==\"%\" or i==\"*\" or i==\"&\"):\n",
    "            has_special_character=True\n",
    "\n",
    "if(has_valid_length==True,has_lower_case==True,has_digits==True,has_Upper_case==True,has_special_character==True):\n",
    "    print(\"Valid Password\")\n",
    "else:\n",
    "    print(\"Invalid Password\")"
   ]
  },
  {
   "cell_type": "code",
   "execution_count": 24,
   "id": "8221dff8-0978-4932-9506-80fd78d8532e",
   "metadata": {},
   "outputs": [
    {
     "name": "stdout",
     "output_type": "stream",
     "text": [
      "The month January has 31 Days\n",
      "The month March has 31 Days\n",
      "The month February has 28/29 Days\n",
      "The month December has 31 Days\n",
      "The month June has 30 Days\n",
      "Invalid Month\n"
     ]
    }
   ],
   "source": [
    "#Covert month name to number of days\n",
    "month=[\"January\",\"March\",\"February\",\"December\",\"June\",\"Friday\"] \n",
    "for i in month:\n",
    "    if (i==\"February\"):\n",
    "        print(\"The month\",i,\"has 28/29 Days\")\n",
    "\n",
    "    elif i in (\"January\",\"March\",\"May\",\"July\",\"August\",\"October\",\"December\"):\n",
    "        print(\"The month\",i,\"has 31 Days\")\n",
    "\n",
    "    elif i in (\"April\",\"May\",\"June\",\"September\",\"November\"):\n",
    "        print(\"The month\",i,\"has 30 Days\")\n",
    "\n",
    "    else:\n",
    "        print(\"Invalid Month\") "
   ]
  },
  {
   "cell_type": "code",
   "execution_count": null,
   "id": "5ac1023b-a76d-45f9-a9ce-8206b88088a1",
   "metadata": {},
   "outputs": [],
   "source": []
  },
  {
   "cell_type": "code",
   "execution_count": 27,
   "id": "7368384a-0653-4324-b7ca-ab6b239a5d4e",
   "metadata": {},
   "outputs": [
    {
     "name": "stdout",
     "output_type": "stream",
     "text": [
      "75\n",
      "150\n",
      "145\n"
     ]
    }
   ],
   "source": [
    "#Display numbers from a list using for loop\n",
    "numbers=[12,75,150,180,145,525,50]\n",
    "for i in numbers:\n",
    "    if i%5==0 and i>50 and i<=150:\n",
    "        print(i)"
   ]
  },
  {
   "cell_type": "code",
   "execution_count": null,
   "id": "d9cc36d0-f03e-4c31-9f37-2d7c52f50ef1",
   "metadata": {},
   "outputs": [],
   "source": []
  }
 ],
 "metadata": {
  "kernelspec": {
   "display_name": "Python 3 (ipykernel)",
   "language": "python",
   "name": "python3"
  },
  "language_info": {
   "codemirror_mode": {
    "name": "ipython",
    "version": 3
   },
   "file_extension": ".py",
   "mimetype": "text/x-python",
   "name": "python",
   "nbconvert_exporter": "python",
   "pygments_lexer": "ipython3",
   "version": "3.11.7"
  }
 },
 "nbformat": 4,
 "nbformat_minor": 5
}
