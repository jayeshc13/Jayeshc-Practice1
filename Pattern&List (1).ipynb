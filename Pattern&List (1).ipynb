{
 "cells": [
  {
   "cell_type": "code",
   "execution_count": 66,
   "id": "8e979a75-ab27-4c50-84d1-b8f9b21266f2",
   "metadata": {},
   "outputs": [
    {
     "name": "stdout",
     "output_type": "stream",
     "text": [
      "* * * * * \n",
      "* * * * \n",
      "* * * \n",
      "* * \n",
      "* \n",
      "\n",
      "* \n",
      "* * \n",
      "* * * \n",
      "* * * * \n",
      "* * * * * \n"
     ]
    }
   ],
   "source": [
    "for i in range(5,0,-1):\n",
    "    print(\"* \"*i)\n",
    "for j in range(0,6):\n",
    "    print(\"* \"*j)\n"
   ]
  },
  {
   "cell_type": "code",
   "execution_count": 71,
   "id": "8604eb48-e3d7-4085-9565-e0b36427553e",
   "metadata": {},
   "outputs": [
    {
     "name": "stdout",
     "output_type": "stream",
     "text": [
      "        * \n",
      "      * * \n",
      "    * * * \n",
      "  * * * * \n",
      "* * * * * \n"
     ]
    }
   ],
   "source": [
    "for i in range(1,6):\n",
    "    for j in range(1,5-i+1):\n",
    "        print(\" \",end=\" \")\n",
    "    for j in range(1,i+1,1):\n",
    "        print(\"*\",end=\" \")\n",
    "    print()"
   ]
  },
  {
   "cell_type": "code",
   "execution_count": 72,
   "id": "0412cf26-3197-4c36-916e-9bf65bce7890",
   "metadata": {},
   "outputs": [
    {
     "data": {
      "text/plain": [
       "['one', 'two', 'three', 'four', 'five', 'six', 'Jayesh', 'Sejal']"
      ]
     },
     "execution_count": 72,
     "metadata": {},
     "output_type": "execute_result"
    }
   ],
   "source": [
    "mylist=[\"one\",\"two\",\"three\",\"four\",\"five\",\"six\",\"Jayesh\",\"Sejal\"]\n",
    "mylist"
   ]
  },
  {
   "cell_type": "code",
   "execution_count": 73,
   "id": "d9f6eb4f-1273-490a-ae7f-6dac6bf96b40",
   "metadata": {},
   "outputs": [
    {
     "data": {
      "text/plain": [
       "'Sejal'"
      ]
     },
     "execution_count": 73,
     "metadata": {},
     "output_type": "execute_result"
    }
   ],
   "source": [
    "mylist[7]"
   ]
  },
  {
   "cell_type": "code",
   "execution_count": 75,
   "id": "909d9fff-62b2-4598-a0da-fc9cd72890aa",
   "metadata": {},
   "outputs": [
    {
     "data": {
      "text/plain": [
       "'Sejal'"
      ]
     },
     "execution_count": 75,
     "metadata": {},
     "output_type": "execute_result"
    }
   ],
   "source": [
    "mylist.pop(7)"
   ]
  },
  {
   "cell_type": "code",
   "execution_count": 76,
   "id": "8a758aa5-e1f1-49e5-ba96-d64395817c66",
   "metadata": {},
   "outputs": [
    {
     "data": {
      "text/plain": [
       "['one', 'two', 'three', 'four', 'five', 'six', 'Jayesh']"
      ]
     },
     "execution_count": 76,
     "metadata": {},
     "output_type": "execute_result"
    }
   ],
   "source": [
    "mylist"
   ]
  },
  {
   "cell_type": "code",
   "execution_count": 91,
   "id": "31806bc0-a37d-4a66-9f98-43e2f559524a",
   "metadata": {},
   "outputs": [
    {
     "data": {
      "text/plain": [
       "['six', 'five', 'four', 'three', 'two', 'one']"
      ]
     },
     "execution_count": 91,
     "metadata": {},
     "output_type": "execute_result"
    }
   ],
   "source": [
    "mylist[-2:-8:-1]"
   ]
  },
  {
   "cell_type": "code",
   "execution_count": 94,
   "id": "9e19d00a-c3ca-4323-b8cd-774009ffd4e1",
   "metadata": {},
   "outputs": [
    {
     "data": {
      "text/plain": [
       "['four']"
      ]
     },
     "execution_count": 94,
     "metadata": {},
     "output_type": "execute_result"
    }
   ],
   "source": [
    "mylist[3:4]"
   ]
  },
  {
   "cell_type": "code",
   "execution_count": 95,
   "id": "8ff44505-9a3b-4a4a-9b2f-0fdb8c073354",
   "metadata": {},
   "outputs": [
    {
     "data": {
      "text/plain": [
       "['one', 'two', 'three', 'four', 'five', 'six', 'Jayesh']"
      ]
     },
     "execution_count": 95,
     "metadata": {},
     "output_type": "execute_result"
    }
   ],
   "source": [
    "mylist[::]"
   ]
  },
  {
   "cell_type": "code",
   "execution_count": 98,
   "id": "616869e7-af0d-43ba-9c23-473c7739e983",
   "metadata": {},
   "outputs": [
    {
     "data": {
      "text/plain": [
       "['one', 'two', 'three', 'four', 'five', 'six', 'Jayesh']"
      ]
     },
     "execution_count": 98,
     "metadata": {},
     "output_type": "execute_result"
    }
   ],
   "source": [
    "mylist[:]"
   ]
  },
  {
   "cell_type": "code",
   "execution_count": 109,
   "id": "4ddf9ec1-bd6e-43d4-8ae1-552325eeba7f",
   "metadata": {},
   "outputs": [],
   "source": [
    "mylist.append(\"Sejal\")"
   ]
  },
  {
   "cell_type": "code",
   "execution_count": 110,
   "id": "8ff56ddf-6099-45b0-8b12-c781799458b1",
   "metadata": {},
   "outputs": [
    {
     "data": {
      "text/plain": [
       "['one',\n",
       " 'two',\n",
       " 'three',\n",
       " 'Manu',\n",
       " 'Manu',\n",
       " 'four',\n",
       " 'five',\n",
       " 'six',\n",
       " 'Jayesh',\n",
       " 'Sejal',\n",
       " 'Sejal']"
      ]
     },
     "execution_count": 110,
     "metadata": {},
     "output_type": "execute_result"
    }
   ],
   "source": [
    "mylist"
   ]
  },
  {
   "cell_type": "code",
   "execution_count": 112,
   "id": "e35d3fc4-6a05-4319-9da8-34451b42890a",
   "metadata": {},
   "outputs": [],
   "source": [
    "mylist.insert(1,[\"2,3,4\"])"
   ]
  },
  {
   "cell_type": "code",
   "execution_count": 113,
   "id": "1424212f-fb1c-4327-aed6-92eea48756b9",
   "metadata": {},
   "outputs": [
    {
     "data": {
      "text/plain": [
       "['one',\n",
       " ['2,3,4'],\n",
       " 'two',\n",
       " 'three',\n",
       " 'Manu',\n",
       " 'Manu',\n",
       " 'four',\n",
       " 'five',\n",
       " 'six',\n",
       " 'Jayesh',\n",
       " 'Sejal',\n",
       " 'Sejal']"
      ]
     },
     "execution_count": 113,
     "metadata": {},
     "output_type": "execute_result"
    }
   ],
   "source": [
    "mylist"
   ]
  },
  {
   "cell_type": "code",
   "execution_count": 114,
   "id": "a970ecf1-c6fd-483c-a391-80e7cf135e91",
   "metadata": {},
   "outputs": [],
   "source": [
    "mylist.extend(\"5,6,7,8,9\")"
   ]
  },
  {
   "cell_type": "code",
   "execution_count": 115,
   "id": "2ec0da35-30b6-4082-9905-81560240071b",
   "metadata": {},
   "outputs": [
    {
     "data": {
      "text/plain": [
       "['one',\n",
       " ['2,3,4'],\n",
       " 'two',\n",
       " 'three',\n",
       " 'Manu',\n",
       " 'Manu',\n",
       " 'four',\n",
       " 'five',\n",
       " 'six',\n",
       " 'Jayesh',\n",
       " 'Sejal',\n",
       " 'Sejal',\n",
       " '5',\n",
       " ',',\n",
       " '6',\n",
       " ',',\n",
       " '7',\n",
       " ',',\n",
       " '8',\n",
       " ',',\n",
       " '9']"
      ]
     },
     "execution_count": 115,
     "metadata": {},
     "output_type": "execute_result"
    }
   ],
   "source": [
    "mylist"
   ]
  },
  {
   "cell_type": "code",
   "execution_count": 117,
   "id": "7fcbd223-393e-43ff-b9ab-b5239b0a35cf",
   "metadata": {},
   "outputs": [
    {
     "data": {
      "text/plain": [
       "['one',\n",
       " ['2,3,4'],\n",
       " 'two',\n",
       " 'three',\n",
       " 'Manu',\n",
       " 'Manu',\n",
       " 'four',\n",
       " 'five',\n",
       " 'six',\n",
       " 'Jayesh',\n",
       " 'Sejal',\n",
       " 'Sejal',\n",
       " '5',\n",
       " ',',\n",
       " '6',\n",
       " ',',\n",
       " '7',\n",
       " ',',\n",
       " '8']"
      ]
     },
     "execution_count": 117,
     "metadata": {},
     "output_type": "execute_result"
    }
   ],
   "source": [
    "mylist.pop()\n",
    "mylist"
   ]
  },
  {
   "cell_type": "code",
   "execution_count": 118,
   "id": "7f6ef5d6-32c8-4830-b2a2-5e49866da1d5",
   "metadata": {},
   "outputs": [
    {
     "data": {
      "text/plain": [
       "'two'"
      ]
     },
     "execution_count": 118,
     "metadata": {},
     "output_type": "execute_result"
    }
   ],
   "source": [
    "mylist.pop(2)"
   ]
  },
  {
   "cell_type": "code",
   "execution_count": 119,
   "id": "39daedb7-0971-407d-a26f-3e23a1b3e75d",
   "metadata": {},
   "outputs": [
    {
     "data": {
      "text/plain": [
       "['one',\n",
       " ['2,3,4'],\n",
       " 'three',\n",
       " 'Manu',\n",
       " 'Manu',\n",
       " 'four',\n",
       " 'five',\n",
       " 'six',\n",
       " 'Jayesh',\n",
       " 'Sejal',\n",
       " 'Sejal',\n",
       " '5',\n",
       " ',',\n",
       " '6',\n",
       " ',',\n",
       " '7',\n",
       " ',',\n",
       " '8']"
      ]
     },
     "execution_count": 119,
     "metadata": {},
     "output_type": "execute_result"
    }
   ],
   "source": [
    "mylist"
   ]
  },
  {
   "cell_type": "code",
   "execution_count": 1,
   "id": "27533d87-8816-4d22-9e9e-5bc7b128069b",
   "metadata": {},
   "outputs": [
    {
     "ename": "NameError",
     "evalue": "name 'mylist' is not defined",
     "output_type": "error",
     "traceback": [
      "\u001b[1;31m---------------------------------------------------------------------------\u001b[0m",
      "\u001b[1;31mNameError\u001b[0m                                 Traceback (most recent call last)",
      "Cell \u001b[1;32mIn[1], line 1\u001b[0m\n\u001b[1;32m----> 1\u001b[0m mylist\u001b[38;5;241m.\u001b[39mremove(\u001b[38;5;124m\"\u001b[39m\u001b[38;5;124mManu\u001b[39m\u001b[38;5;124m\"\u001b[39m)\n\u001b[0;32m      2\u001b[0m mylist\n",
      "\u001b[1;31mNameError\u001b[0m: name 'mylist' is not defined"
     ]
    }
   ],
   "source": [
    "mylist.remove(\"Manu\")\n",
    "mylist"
   ]
  },
  {
   "cell_type": "code",
   "execution_count": 122,
   "id": "f2fc6968-b271-42cd-b4e9-6af2447e0f08",
   "metadata": {},
   "outputs": [],
   "source": [
    "del mylist[7]"
   ]
  },
  {
   "cell_type": "code",
   "execution_count": 123,
   "id": "681f358f-da77-4143-a72e-c112af7cd73b",
   "metadata": {},
   "outputs": [
    {
     "data": {
      "text/plain": [
       "['one',\n",
       " ['2,3,4'],\n",
       " 'three',\n",
       " 'Manu',\n",
       " 'four',\n",
       " 'five',\n",
       " 'six',\n",
       " 'Sejal',\n",
       " 'Sejal',\n",
       " '5',\n",
       " ',',\n",
       " '6',\n",
       " ',',\n",
       " '7',\n",
       " ',',\n",
       " '8']"
      ]
     },
     "execution_count": 123,
     "metadata": {},
     "output_type": "execute_result"
    }
   ],
   "source": [
    "mylist"
   ]
  },
  {
   "cell_type": "code",
   "execution_count": 124,
   "id": "67a68299-539e-4cc0-92bb-fdf35f17a5e8",
   "metadata": {},
   "outputs": [],
   "source": [
    "mylist.clear()\n"
   ]
  },
  {
   "cell_type": "code",
   "execution_count": 125,
   "id": "62a47b3c-f020-4c0e-a072-2cd09716080c",
   "metadata": {},
   "outputs": [
    {
     "data": {
      "text/plain": [
       "[]"
      ]
     },
     "execution_count": 125,
     "metadata": {},
     "output_type": "execute_result"
    }
   ],
   "source": [
    "mylist"
   ]
  },
  {
   "cell_type": "code",
   "execution_count": 126,
   "id": "bb01fc2a-c9c4-48cf-9510-2aeaa3624cc0",
   "metadata": {},
   "outputs": [],
   "source": [
    "del mylist"
   ]
  },
  {
   "cell_type": "code",
   "execution_count": 127,
   "id": "5a1eb7dd-e1ab-472e-8b29-fd19019eb7c3",
   "metadata": {},
   "outputs": [
    {
     "ename": "NameError",
     "evalue": "name 'mylist' is not defined",
     "output_type": "error",
     "traceback": [
      "\u001b[1;31m---------------------------------------------------------------------------\u001b[0m",
      "\u001b[1;31mNameError\u001b[0m                                 Traceback (most recent call last)",
      "Cell \u001b[1;32mIn[127], line 1\u001b[0m\n\u001b[1;32m----> 1\u001b[0m mylist\n",
      "\u001b[1;31mNameError\u001b[0m: name 'mylist' is not defined"
     ]
    }
   ],
   "source": [
    "mylist"
   ]
  },
  {
   "cell_type": "code",
   "execution_count": 141,
   "id": "4c203d48-b717-4d71-9275-3dd7662de0d9",
   "metadata": {},
   "outputs": [],
   "source": [
    "list1=[1,2,3,4,5,6,7,8]\n",
    "list2=[\"one,two,three,four,five,six,seven,eight\"]\n",
    "list3=list1+list2"
   ]
  },
  {
   "cell_type": "code",
   "execution_count": 142,
   "id": "1f5ee3c3-c7bd-46e3-a73e-5ad6f4cf3354",
   "metadata": {},
   "outputs": [
    {
     "data": {
      "text/plain": [
       "[1, 2, 3, 4, 5, 6, 7, 8]"
      ]
     },
     "execution_count": 142,
     "metadata": {},
     "output_type": "execute_result"
    }
   ],
   "source": [
    "list1"
   ]
  },
  {
   "cell_type": "code",
   "execution_count": 131,
   "id": "b4e4aec4-b79e-4f4e-8e3b-cfb891bbb9a2",
   "metadata": {},
   "outputs": [],
   "source": [
    "list2.extend(list1)"
   ]
  },
  {
   "cell_type": "code",
   "execution_count": 132,
   "id": "8188975d-c014-454a-8fd3-9e811061da87",
   "metadata": {},
   "outputs": [
    {
     "data": {
      "text/plain": [
       "['one,two,three,four,five,six,seven,eight', '1,2,3,4,5,6,7,8']"
      ]
     },
     "execution_count": 132,
     "metadata": {},
     "output_type": "execute_result"
    }
   ],
   "source": [
    "list2"
   ]
  },
  {
   "cell_type": "code",
   "execution_count": 133,
   "id": "ee178af6-7de6-4d3b-a712-7067733cd0f5",
   "metadata": {},
   "outputs": [
    {
     "data": {
      "text/plain": [
       "['1,2,3,4,5,6,7,8']"
      ]
     },
     "execution_count": 133,
     "metadata": {},
     "output_type": "execute_result"
    }
   ],
   "source": [
    "list1"
   ]
  },
  {
   "cell_type": "code",
   "execution_count": 134,
   "id": "80c68bed-16ab-4810-a12e-f33ca336fba6",
   "metadata": {},
   "outputs": [
    {
     "data": {
      "text/plain": [
       "['one,two,three,four,five,six,seven,eight', '1,2,3,4,5,6,7,8']"
      ]
     },
     "execution_count": 134,
     "metadata": {},
     "output_type": "execute_result"
    }
   ],
   "source": [
    "list2"
   ]
  },
  {
   "cell_type": "code",
   "execution_count": 135,
   "id": "17d2986b-1715-42b9-8df2-28af73631534",
   "metadata": {},
   "outputs": [
    {
     "data": {
      "text/plain": [
       "False"
      ]
     },
     "execution_count": 135,
     "metadata": {},
     "output_type": "execute_result"
    }
   ],
   "source": [
    "1 in list1"
   ]
  },
  {
   "cell_type": "code",
   "execution_count": 136,
   "id": "939aa6cd-5541-4515-a30f-9a86252d17c5",
   "metadata": {},
   "outputs": [
    {
     "data": {
      "text/plain": [
       "['1,2,3,4,5,6,7,8']"
      ]
     },
     "execution_count": 136,
     "metadata": {},
     "output_type": "execute_result"
    }
   ],
   "source": [
    "list1"
   ]
  },
  {
   "cell_type": "code",
   "execution_count": 143,
   "id": "1b3e83a7-2889-46fe-8826-40bb4178041a",
   "metadata": {},
   "outputs": [
    {
     "data": {
      "text/plain": [
       "True"
      ]
     },
     "execution_count": 143,
     "metadata": {},
     "output_type": "execute_result"
    }
   ],
   "source": [
    "1 in list1"
   ]
  },
  {
   "cell_type": "code",
   "execution_count": 138,
   "id": "332e5b09-0060-4e18-9e38-4a715684c4d4",
   "metadata": {},
   "outputs": [
    {
     "data": {
      "text/plain": [
       "False"
      ]
     },
     "execution_count": 138,
     "metadata": {},
     "output_type": "execute_result"
    }
   ],
   "source": [
    "\"1\" in list1"
   ]
  },
  {
   "cell_type": "code",
   "execution_count": 139,
   "id": "71a71e82-0d17-4d17-95e9-c26a09ffac2f",
   "metadata": {},
   "outputs": [
    {
     "data": {
      "text/plain": [
       "False"
      ]
     },
     "execution_count": 139,
     "metadata": {},
     "output_type": "execute_result"
    }
   ],
   "source": [
    "1 in list2"
   ]
  },
  {
   "cell_type": "code",
   "execution_count": 144,
   "id": "8043b530-47fd-497b-aca8-c215da5b09ee",
   "metadata": {},
   "outputs": [
    {
     "data": {
      "text/plain": [
       "True"
      ]
     },
     "execution_count": 144,
     "metadata": {},
     "output_type": "execute_result"
    }
   ],
   "source": [
    "1 in list3"
   ]
  },
  {
   "cell_type": "code",
   "execution_count": 146,
   "id": "6b539f32-18e2-4335-91e4-c3f8f21bec73",
   "metadata": {},
   "outputs": [
    {
     "data": {
      "text/plain": [
       "False"
      ]
     },
     "execution_count": 146,
     "metadata": {},
     "output_type": "execute_result"
    }
   ],
   "source": [
    "1 not in list1"
   ]
  },
  {
   "cell_type": "code",
   "execution_count": 147,
   "id": "ed228c30-47b5-4bb0-bbd8-592d0387545b",
   "metadata": {},
   "outputs": [],
   "source": [
    "list1=[4,5,6,7]"
   ]
  },
  {
   "cell_type": "code",
   "execution_count": 148,
   "id": "baefd8ad-f55c-4377-8f0f-93db4e460482",
   "metadata": {},
   "outputs": [
    {
     "data": {
      "text/plain": [
       "[4, 5, 6, 7]"
      ]
     },
     "execution_count": 148,
     "metadata": {},
     "output_type": "execute_result"
    }
   ],
   "source": [
    "list1"
   ]
  },
  {
   "cell_type": "code",
   "execution_count": 149,
   "id": "4f94f9cd-9c8e-4d9b-bb39-2304fb95ec2a",
   "metadata": {},
   "outputs": [],
   "source": [
    "list1.reverse()"
   ]
  },
  {
   "cell_type": "code",
   "execution_count": 150,
   "id": "7ad3f00b-3e30-4391-8472-904c877ef2c5",
   "metadata": {},
   "outputs": [
    {
     "ename": "TypeError",
     "evalue": "'list' object is not callable",
     "output_type": "error",
     "traceback": [
      "\u001b[1;31m---------------------------------------------------------------------------\u001b[0m",
      "\u001b[1;31mTypeError\u001b[0m                                 Traceback (most recent call last)",
      "Cell \u001b[1;32mIn[150], line 1\u001b[0m\n\u001b[1;32m----> 1\u001b[0m list1()\n",
      "\u001b[1;31mTypeError\u001b[0m: 'list' object is not callable"
     ]
    }
   ],
   "source": [
    "list1()"
   ]
  },
  {
   "cell_type": "code",
   "execution_count": 151,
   "id": "82fc3272-ebc9-4a99-8a65-0b554788a830",
   "metadata": {},
   "outputs": [
    {
     "data": {
      "text/plain": [
       "[7, 6, 5, 4]"
      ]
     },
     "execution_count": 151,
     "metadata": {},
     "output_type": "execute_result"
    }
   ],
   "source": [
    "list1"
   ]
  },
  {
   "cell_type": "code",
   "execution_count": 152,
   "id": "afe6cc0a-6cf2-4fa5-ab05-8d0e71f7dd38",
   "metadata": {},
   "outputs": [],
   "source": [
    "list1.sort()"
   ]
  },
  {
   "cell_type": "code",
   "execution_count": 153,
   "id": "ba043cc3-20f9-4ab0-8533-98c105fc3689",
   "metadata": {},
   "outputs": [
    {
     "data": {
      "text/plain": [
       "[4, 5, 6, 7]"
      ]
     },
     "execution_count": 153,
     "metadata": {},
     "output_type": "execute_result"
    }
   ],
   "source": [
    "list1"
   ]
  },
  {
   "cell_type": "code",
   "execution_count": 154,
   "id": "0db9e6da-67ae-4a71-a937-1a8228711ac3",
   "metadata": {},
   "outputs": [],
   "source": [
    "list4=[2,6,4,93,6,7]"
   ]
  },
  {
   "cell_type": "code",
   "execution_count": 155,
   "id": "e41a33e3-fc79-44b8-a040-8165e851db34",
   "metadata": {},
   "outputs": [],
   "source": [
    "list4.sort()"
   ]
  },
  {
   "cell_type": "code",
   "execution_count": 156,
   "id": "ffc5c150-7d5b-4ac8-b8d7-cfdf8d8d4ae2",
   "metadata": {},
   "outputs": [
    {
     "data": {
      "text/plain": [
       "[2, 4, 6, 6, 7, 93]"
      ]
     },
     "execution_count": 156,
     "metadata": {},
     "output_type": "execute_result"
    }
   ],
   "source": [
    "list4"
   ]
  },
  {
   "cell_type": "code",
   "execution_count": 158,
   "id": "863871c6-191f-45ac-a1a5-18b1ff31fa8c",
   "metadata": {},
   "outputs": [],
   "source": [
    "list5=[2,13,4,5,64,\"A\",\"B\"]"
   ]
  },
  {
   "cell_type": "code",
   "execution_count": 159,
   "id": "7436a239-46bd-41bc-844c-a455bf477f8b",
   "metadata": {},
   "outputs": [
    {
     "data": {
      "text/plain": [
       "[2, 13, 4, 5, 64, 'A', 'B']"
      ]
     },
     "execution_count": 159,
     "metadata": {},
     "output_type": "execute_result"
    }
   ],
   "source": [
    "list5"
   ]
  },
  {
   "cell_type": "code",
   "execution_count": 160,
   "id": "80a5ea18-f6eb-4495-b43f-231f84ec7372",
   "metadata": {},
   "outputs": [
    {
     "ename": "TypeError",
     "evalue": "'<' not supported between instances of 'str' and 'int'",
     "output_type": "error",
     "traceback": [
      "\u001b[1;31m---------------------------------------------------------------------------\u001b[0m",
      "\u001b[1;31mTypeError\u001b[0m                                 Traceback (most recent call last)",
      "Cell \u001b[1;32mIn[160], line 1\u001b[0m\n\u001b[1;32m----> 1\u001b[0m list5\u001b[38;5;241m.\u001b[39msort()\n",
      "\u001b[1;31mTypeError\u001b[0m: '<' not supported between instances of 'str' and 'int'"
     ]
    }
   ],
   "source": [
    "list5.sort()"
   ]
  },
  {
   "cell_type": "code",
   "execution_count": null,
   "id": "c28d7483-d4b8-4321-85cc-7e0e6b52ac69",
   "metadata": {},
   "outputs": [],
   "source": []
  }
 ],
 "metadata": {
  "kernelspec": {
   "display_name": "Python 3 (ipykernel)",
   "language": "python",
   "name": "python3"
  },
  "language_info": {
   "codemirror_mode": {
    "name": "ipython",
    "version": 3
   },
   "file_extension": ".py",
   "mimetype": "text/x-python",
   "name": "python",
   "nbconvert_exporter": "python",
   "pygments_lexer": "ipython3",
   "version": "3.11.7"
  }
 },
 "nbformat": 4,
 "nbformat_minor": 5
}
