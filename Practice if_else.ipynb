{
 "cells": [
  {
   "cell_type": "markdown",
   "id": "0196be99-dbea-414e-9c8e-96184590979f",
   "metadata": {},
   "source": [
    "# if..else"
   ]
  },
  {
   "cell_type": "code",
   "execution_count": 6,
   "id": "49172a5a-6a2b-42c6-9e35-afb69acdcc53",
   "metadata": {},
   "outputs": [
    {
     "name": "stdin",
     "output_type": "stream",
     "text": [
      "Enter 1st no. 2\n",
      "Enter 2nd no. 2\n"
     ]
    },
    {
     "name": "stdout",
     "output_type": "stream",
     "text": [
      "The greater no. is 2\n"
     ]
    }
   ],
   "source": [
    "a=int(input(\"Enter 1st no.\"))\n",
    "b=int(input(\"Enter 2nd no.\"))\n",
    "if (a>b):\n",
    "      print(\"The greater no. is\",a)\n",
    "else:\n",
    "    print(\"The greater no. is\",b)"
   ]
  },
  {
   "cell_type": "code",
   "execution_count": 35,
   "id": "90b6d34a-5349-4eeb-8941-bc9a9499a25a",
   "metadata": {},
   "outputs": [
    {
     "name": "stdin",
     "output_type": "stream",
     "text": [
      "enter any number kanak\n"
     ]
    },
    {
     "name": "stdout",
     "output_type": "stream",
     "text": [
      "It is a palindrome\n"
     ]
    }
   ],
   "source": [
    "#Check whether palindrome or not\n",
    "\n",
    "a=input(\"enter any number\")\n",
    "if a==a[::-1]:\n",
    "    print(\"It is a palindrome\")\n",
    "else:\n",
    "    print(\"It is  not palindrome\")"
   ]
  },
  {
   "cell_type": "code",
   "execution_count": 39,
   "id": "678683cc-923a-4fd4-b420-643b93a47689",
   "metadata": {},
   "outputs": [
    {
     "name": "stdin",
     "output_type": "stream",
     "text": [
      "Enter any no. 1 1 2 3 4\n"
     ]
    },
    {
     "name": "stdout",
     "output_type": "stream",
     "text": [
      "Original list: ['1', '1', '2', '3', '4']\n",
      "List with removed duplicate: ['1', '2', '3', '4']\n"
     ]
    }
   ],
   "source": [
    "#Takeout the duplicate from list\n",
    "num_list=input(\"Enter any no.\").split()\n",
    "new_list=[]\n",
    "for num in num_list:\n",
    "    if num not in new_list:\n",
    "        new_list.append(num)\n",
    "print(\"Original list:\",num_list)\n",
    "print(\"List with removed duplicate:\",new_list)\n"
   ]
  },
  {
   "cell_type": "code",
   "execution_count": 51,
   "id": "6150257a-209f-43bc-bf4f-87b2c0305d1b",
   "metadata": {},
   "outputs": [
    {
     "name": "stdin",
     "output_type": "stream",
     "text": [
      "enter any no. 1 2 3 6 9\n"
     ]
    },
    {
     "name": "stdout",
     "output_type": "stream",
     "text": [
      "The largest number divisible is  9\n"
     ]
    }
   ],
   "source": [
    "#No. from input and print largest no. divisible by 3\n",
    "num_list=input(\"enter any no.\").split()\n",
    "max_num=-1\n",
    "for num in num_list:\n",
    "    if int(num) %3==0 and int(num) > max_num:\n",
    "        max_num= int(num)\n",
    "if max_num== -1:\n",
    "    print(\"There is no number\")\n",
    "else:\n",
    "    print(\"The largest number divisible is \",max_num)\n",
    "        "
   ]
  },
  {
   "cell_type": "code",
   "execution_count": 66,
   "id": "09c21dd3-d3e3-446f-87d9-4b3a54346aed",
   "metadata": {},
   "outputs": [
    {
     "name": "stdin",
     "output_type": "stream",
     "text": [
      "Enter list 1 3 5 9\n"
     ]
    },
    {
     "name": "stdout",
     "output_type": "stream",
     "text": [
      "The sum of even number is 0\n"
     ]
    }
   ],
   "source": [
    "#Print the sum of all even no. from list\n",
    "num_list=input(\"Enter list\").split()\n",
    "new_list=0\n",
    "for num in num_list:\n",
    "    if int(num) %2==0:\n",
    "        new_list=int(num)+new_list\n",
    "\n",
    "print(\"The sum of even number is\",new_list)"
   ]
  },
  {
   "cell_type": "code",
   "execution_count": null,
   "id": "81ca3b78-33ae-467b-b868-03c2df013c97",
   "metadata": {},
   "outputs": [],
   "source": [
    "#"
   ]
  }
 ],
 "metadata": {
  "kernelspec": {
   "display_name": "Python 3 (ipykernel)",
   "language": "python",
   "name": "python3"
  },
  "language_info": {
   "codemirror_mode": {
    "name": "ipython",
    "version": 3
   },
   "file_extension": ".py",
   "mimetype": "text/x-python",
   "name": "python",
   "nbconvert_exporter": "python",
   "pygments_lexer": "ipython3",
   "version": "3.11.7"
  }
 },
 "nbformat": 4,
 "nbformat_minor": 5
}
