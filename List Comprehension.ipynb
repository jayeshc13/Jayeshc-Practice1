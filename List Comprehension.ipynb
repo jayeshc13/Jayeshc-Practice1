{
 "cells": [
  {
   "cell_type": "code",
   "execution_count": 1,
   "id": "96894c50-1e27-48bd-811d-c132230ad148",
   "metadata": {},
   "outputs": [
    {
     "name": "stdout",
     "output_type": "stream",
     "text": [
      "[40, 90, 160]\n"
     ]
    }
   ],
   "source": [
    "numbers=[20,45,80]\n",
    "doubled=[ x *2 for x in numbers]\n",
    "print(doubled)"
   ]
  },
  {
   "cell_type": "code",
   "execution_count": 2,
   "id": "2c38974b-ca19-4098-baf1-d6bb1936af84",
   "metadata": {},
   "outputs": [
    {
     "name": "stdout",
     "output_type": "stream",
     "text": [
      "[12, 22, 52]\n"
     ]
    }
   ],
   "source": [
    "numbers=[10,20,50]\n",
    "add=[ x + 2 for x in numbers]\n",
    "print(add)"
   ]
  },
  {
   "cell_type": "code",
   "execution_count": 3,
   "id": "c66fb228-ef62-420c-8782-b8bc02220555",
   "metadata": {},
   "outputs": [
    {
     "name": "stdout",
     "output_type": "stream",
     "text": [
      "[28.0, 49.0, 12.0]\n"
     ]
    }
   ],
   "source": [
    "numbers=[56,98,24]\n",
    "divide=[ x/2 for x in numbers]\n",
    "print(divide)"
   ]
  },
  {
   "cell_type": "code",
   "execution_count": 5,
   "id": "358e172e-6443-486d-b2f2-ce0cc495ec3e",
   "metadata": {},
   "outputs": [
    {
     "name": "stdout",
     "output_type": "stream",
     "text": [
      "[0, 0, 1]\n"
     ]
    }
   ],
   "source": [
    "numbers=[80,46,55]\n",
    "a=[x%2 for x in numbers]\n",
    "print(a)"
   ]
  },
  {
   "cell_type": "code",
   "execution_count": 8,
   "id": "5f2b6476-3c82-4c6e-b29c-9009b2d1d465",
   "metadata": {},
   "outputs": [
    {
     "name": "stdout",
     "output_type": "stream",
     "text": [
      "[25, 16, 100]\n"
     ]
    }
   ],
   "source": [
    "numbers=[5,4,10]\n",
    "sqr=[x**2 for x in numbers]\n",
    "print(sqr)"
   ]
  },
  {
   "cell_type": "code",
   "execution_count": 15,
   "id": "98a58ab9-0f3c-4360-b24f-93c7c57466cc",
   "metadata": {},
   "outputs": [
    {
     "name": "stdout",
     "output_type": "stream",
     "text": [
      "['a', 'b', 'c']\n"
     ]
    }
   ],
   "source": [
    "#iterate through loop\n",
    "List=[character for character in ['a','b','c']]\n",
    "print(List)"
   ]
  },
  {
   "cell_type": "code",
   "execution_count": 16,
   "id": "82c33bf7-90bb-4524-9c44-0f05fc110a5b",
   "metadata": {},
   "outputs": [
    {
     "name": "stdout",
     "output_type": "stream",
     "text": [
      "[1, 2, 3]\n"
     ]
    }
   ],
   "source": [
    "#iterate through loop\n",
    "List=[c for c in [1,2,3]]\n",
    "print(List)"
   ]
  },
  {
   "cell_type": "code",
   "execution_count": 29,
   "id": "0f318021-ab03-4152-a613-49bb63aa0f64",
   "metadata": {},
   "outputs": [
    {
     "name": "stdout",
     "output_type": "stream",
     "text": [
      "[0, 2, 4, 6, 8, 10, 12, 14, 16, 18, 20]\n"
     ]
    }
   ],
   "source": [
    "#even\n",
    "list=[i for i in range(21) if i%2==0]\n",
    "print(list)"
   ]
  },
  {
   "cell_type": "code",
   "execution_count": 30,
   "id": "1161d4d9-b820-4fb2-9540-6845dcb2536a",
   "metadata": {},
   "outputs": [
    {
     "name": "stdout",
     "output_type": "stream",
     "text": [
      "[1, 3, 5, 7, 9, 11, 13, 15, 17, 19]\n"
     ]
    }
   ],
   "source": [
    "#odd\n",
    "list=[i for i in range(21) if i%2!=0]\n",
    "print(list)"
   ]
  },
  {
   "cell_type": "code",
   "execution_count": 31,
   "id": "e9813025-83c4-40fc-aed0-cca00c88198f",
   "metadata": {},
   "outputs": [
    {
     "name": "stdout",
     "output_type": "stream",
     "text": [
      "[[0, 1, 2], [0, 1, 2], [0, 1, 2]]\n"
     ]
    }
   ],
   "source": [
    "#matrix\n",
    "matrix=[[j for j in range(3)] for i in range(3)]\n",
    "print(matrix)"
   ]
  },
  {
   "cell_type": "code",
   "execution_count": 32,
   "id": "e5532f13-cdc7-4194-8abf-64012d2d2748",
   "metadata": {},
   "outputs": [
    {
     "name": "stdout",
     "output_type": "stream",
     "text": [
      "['J', 'a', 'y', 'e', 's', 'h', ' ', 'i', 's', ' ', 'H', 'e', 'r', 'o', ' ', '!']\n"
     ]
    }
   ],
   "source": [
    "list=[]\n",
    "for char in 'Jayesh is Hero !':\n",
    "    list.append(char)\n",
    "\n",
    "print(list)"
   ]
  },
  {
   "cell_type": "code",
   "execution_count": 33,
   "id": "f60f371d-067a-4089-ba93-b4c621613021",
   "metadata": {},
   "outputs": [
    {
     "name": "stdout",
     "output_type": "stream",
     "text": [
      "['J', 'a', 'y', 'e', 's', 'h', ' ', 'i', 's', ' ', 'b', 'e', 's', 't']\n"
     ]
    }
   ],
   "source": [
    "list=[a for a in \"Jayesh is best\"]\n",
    "print(list)"
   ]
  },
  {
   "cell_type": "code",
   "execution_count": 37,
   "id": "23e0aedc-062e-4363-8e76-f1f92bdd52a0",
   "metadata": {},
   "outputs": [
    {
     "name": "stdout",
     "output_type": "stream",
     "text": [
      "[[0, 1, 2, 3, 4], [0, 1, 2, 3, 4], [0, 1, 2, 3, 4]]\n"
     ]
    }
   ],
   "source": [
    "matrix=[]\n",
    "for i in range(3):\n",
    "    matrix.append([])\n",
    "\n",
    "    for j in range(5):\n",
    "        matrix[i].append(j)\n",
    "\n",
    "print(matrix)"
   ]
  },
  {
   "cell_type": "code",
   "execution_count": 38,
   "id": "3bf0555a-89c8-4bb0-9e2b-638daeb1e1f3",
   "metadata": {},
   "outputs": [
    {
     "name": "stdout",
     "output_type": "stream",
     "text": [
      "[[0, 1, 2, 3, 4], [0, 1, 2, 3, 4], [0, 1, 2, 3, 4]]\n"
     ]
    }
   ],
   "source": [
    "matrix=[[j for j in range(5)] for i in range(3)]\n",
    "print(matrix)"
   ]
  },
  {
   "cell_type": "code",
   "execution_count": 39,
   "id": "e7641075-c33e-462a-ac12-19b7db7203e4",
   "metadata": {},
   "outputs": [
    {
     "name": "stdout",
     "output_type": "stream",
     "text": [
      "[10, 20, 30, 40, 50]\n"
     ]
    }
   ],
   "source": [
    "numbers=[]\n",
    "for i in range(1,6):\n",
    "    numbers.append(i*10)\n",
    "\n",
    "print(numbers)"
   ]
  },
  {
   "cell_type": "code",
   "execution_count": 40,
   "id": "55878c8e-81cc-440f-bcd3-26446b76e12e",
   "metadata": {},
   "outputs": [
    {
     "name": "stdout",
     "output_type": "stream",
     "text": [
      "[10, 20, 30, 40, 50, 60, 70, 80, 90, 100]\n"
     ]
    }
   ],
   "source": [
    "numbers=[i*10 for i in range(1,11)]\n",
    "print(numbers)"
   ]
  },
  {
   "cell_type": "code",
   "execution_count": 41,
   "id": "a73a756c-608c-4662-882c-5aadde3ae7a6",
   "metadata": {},
   "outputs": [
    {
     "ename": "TypeError",
     "evalue": "'list' object is not callable",
     "output_type": "error",
     "traceback": [
      "\u001b[1;31m---------------------------------------------------------------------------\u001b[0m",
      "\u001b[1;31mTypeError\u001b[0m                                 Traceback (most recent call last)",
      "Cell \u001b[1;32mIn[41], line 1\u001b[0m\n\u001b[1;32m----> 1\u001b[0m numbers \u001b[38;5;241m=\u001b[39m \u001b[38;5;28mlist\u001b[39m(\u001b[38;5;28mmap\u001b[39m(\u001b[38;5;28;01mlambda\u001b[39;00m i:i\u001b[38;5;241m*\u001b[39m\u001b[38;5;241m10\u001b[39m,[i \u001b[38;5;28;01mfor\u001b[39;00m i \u001b[38;5;129;01min\u001b[39;00m \u001b[38;5;28mrange\u001b[39m(\u001b[38;5;241m1\u001b[39m,\u001b[38;5;241m11\u001b[39m)]))\n\u001b[0;32m      2\u001b[0m \u001b[38;5;28mprint\u001b[39m(numbers)\n",
      "\u001b[1;31mTypeError\u001b[0m: 'list' object is not callable"
     ]
    }
   ],
   "source": [
    "numbers = list(map(lambda i: i*10,[i for i in range(1,11)]))\n",
    "print(numbers)"
   ]
  },
  {
   "cell_type": "code",
   "execution_count": 43,
   "id": "a4005327-3910-44ba-807b-8ea6c7ce8f3a",
   "metadata": {},
   "outputs": [
    {
     "name": "stdout",
     "output_type": "stream",
     "text": [
      "['Even Number', 'Odd Number', 'Even Number', 'Odd Number', 'Even Number', 'Odd Number']\n"
     ]
    }
   ],
   "source": [
    "l=[\"Even Number\" if i%2==0\n",
    "   else \"Odd Number\" for i in range(6)]\n",
    "print(l)\n"
   ]
  },
  {
   "cell_type": "code",
   "execution_count": 44,
   "id": "21998295-4352-42a8-ba1d-653f2e031381",
   "metadata": {},
   "outputs": [
    {
     "name": "stdout",
     "output_type": "stream",
     "text": [
      "[0, 10, 20, 30, 40, 50, 60, 70, 80, 90]\n"
     ]
    }
   ],
   "source": [
    "list=[num for num in range(100)\n",
    "      if num%5==0 if num%10==0]\n",
    "print(list)"
   ]
  },
  {
   "cell_type": "code",
   "execution_count": 53,
   "id": "b069dc04-f4ad-42d4-a36b-9779426656e7",
   "metadata": {},
   "outputs": [
    {
     "name": "stdout",
     "output_type": "stream",
     "text": [
      "[121, 100, 81, 64, 49, 36, 25, 16, 9, 4]\n"
     ]
    }
   ],
   "source": [
    "sqr=[num**2 for num in range(11,1,-1)]\n",
    "print(sqr)"
   ]
  },
  {
   "cell_type": "code",
   "execution_count": 56,
   "id": "91261d34-278f-4382-803c-35fca428b578",
   "metadata": {},
   "outputs": [
    {
     "name": "stdout",
     "output_type": "stream",
     "text": [
      "[[10, 40, 70], [20, 50, 80], [30, 60, 90]]\n"
     ]
    }
   ],
   "source": [
    "twoDMatrix= [[10, 20, 30],\n",
    "             [40, 50, 60],\n",
    "             [70, 80, 90]]\n",
    "trans=[[i[j] for i in twoDMatrix] for j in range(len(twoDMatrix[0]))]\n",
    "\n",
    "print(trans)"
   ]
  },
  {
   "cell_type": "code",
   "execution_count": 2,
   "id": "7a22aeb9-991a-42c5-a03a-a0aefad4ae94",
   "metadata": {},
   "outputs": [
    {
     "name": "stdout",
     "output_type": "stream",
     "text": [
      "['hseyaJ', 'hcae', 'tseB']\n"
     ]
    }
   ],
   "source": [
    "#Reverse each string in tuple\n",
    "List=[string[::-1] for string in (\"Jayesh\",\"each\",\"Best\")]\n",
    "print(List)"
   ]
  },
  {
   "cell_type": "code",
   "execution_count": 3,
   "id": "1d9b8849-4535-4de5-902e-79ace51dab74",
   "metadata": {},
   "outputs": [
    {
     "name": "stdout",
     "output_type": "stream",
     "text": [
      "[('J', 25), ('A', 30), ('Y', 45)]\n"
     ]
    }
   ],
   "source": [
    "#list of tuples from two seperate lists\n",
    "names=[\"J\",\"A\",\"Y\"]\n",
    "ages=[25,30,45]\n",
    "person_tuple=[(name,age) for name, age in zip(names,ages)]\n",
    "print(person_tuple)"
   ]
  },
  {
   "cell_type": "code",
   "execution_count": 4,
   "id": "82ccaf47-71f9-4a2b-a27c-2049995c8b0b",
   "metadata": {},
   "outputs": [
    {
     "name": "stdout",
     "output_type": "stream",
     "text": [
      "[16, 3, 18, 18]\n"
     ]
    }
   ],
   "source": [
    "#Sum of digits of all odd elements\n",
    "def digitSum(n):\n",
    "    dsum=0\n",
    "    for ele in str(n):\n",
    "        dsum+=int(ele)\n",
    "\n",
    "    return dsum\n",
    "\n",
    "List=[367,111,562,945,6726,873]\n",
    "\n",
    "newList=[digitSum(i) for i in List if i & 1]\n",
    "print(newList)"
   ]
  },
  {
   "cell_type": "code",
   "execution_count": 7,
   "id": "adf0e18c-ade4-452f-8197-ee75d238cfec",
   "metadata": {},
   "outputs": [
    {
     "name": "stdout",
     "output_type": "stream",
     "text": [
      "[1, 8, 27, 64, 125, 216, 343, 512, 729, 1000, 1331, 1728, 2197]\n"
     ]
    }
   ],
   "source": [
    "number=[1,2,3,4,5,6,7,8,9,10,11,12,13]\n",
    "cube=[ i**3 for i in number]\n",
    "print(cube)"
   ]
  },
  {
   "cell_type": "code",
   "execution_count": 18,
   "id": "e3c3d6f8-30ff-4302-b7d5-6b62424d2090",
   "metadata": {},
   "outputs": [
    {
     "ename": "TypeError",
     "evalue": "'list' object is not callable",
     "output_type": "error",
     "traceback": [
      "\u001b[1;31m---------------------------------------------------------------------------\u001b[0m",
      "\u001b[1;31mTypeError\u001b[0m                                 Traceback (most recent call last)",
      "Cell \u001b[1;32mIn[18], line 3\u001b[0m\n\u001b[0;32m      1\u001b[0m \u001b[38;5;66;03m#Find word length\u001b[39;00m\n\u001b[0;32m      2\u001b[0m words\u001b[38;5;241m=\u001b[39m[\u001b[38;5;124m\"\u001b[39m\u001b[38;5;124mJayesh\u001b[39m\u001b[38;5;124m\"\u001b[39m,\u001b[38;5;124m\"\u001b[39m\u001b[38;5;124mSam\u001b[39m\u001b[38;5;124m\"\u001b[39m,\u001b[38;5;124m\"\u001b[39m\u001b[38;5;124mAlex\u001b[39m\u001b[38;5;124m\"\u001b[39m,\u001b[38;5;124m\"\u001b[39m\u001b[38;5;124mApple\u001b[39m\u001b[38;5;124m\"\u001b[39m,\u001b[38;5;124m\"\u001b[39m\u001b[38;5;124mPineapple\u001b[39m\u001b[38;5;124m\"\u001b[39m]\n\u001b[1;32m----> 3\u001b[0m length \u001b[38;5;241m=\u001b[39m [\u001b[38;5;28mlen\u001b[39m(word) \u001b[38;5;28;01mfor\u001b[39;00m word \u001b[38;5;129;01min\u001b[39;00m words]\n\u001b[0;32m      4\u001b[0m \u001b[38;5;28mprint\u001b[39m(length)\n",
      "Cell \u001b[1;32mIn[18], line 3\u001b[0m, in \u001b[0;36m<listcomp>\u001b[1;34m(.0)\u001b[0m\n\u001b[0;32m      1\u001b[0m \u001b[38;5;66;03m#Find word length\u001b[39;00m\n\u001b[0;32m      2\u001b[0m words\u001b[38;5;241m=\u001b[39m[\u001b[38;5;124m\"\u001b[39m\u001b[38;5;124mJayesh\u001b[39m\u001b[38;5;124m\"\u001b[39m,\u001b[38;5;124m\"\u001b[39m\u001b[38;5;124mSam\u001b[39m\u001b[38;5;124m\"\u001b[39m,\u001b[38;5;124m\"\u001b[39m\u001b[38;5;124mAlex\u001b[39m\u001b[38;5;124m\"\u001b[39m,\u001b[38;5;124m\"\u001b[39m\u001b[38;5;124mApple\u001b[39m\u001b[38;5;124m\"\u001b[39m,\u001b[38;5;124m\"\u001b[39m\u001b[38;5;124mPineapple\u001b[39m\u001b[38;5;124m\"\u001b[39m]\n\u001b[1;32m----> 3\u001b[0m length \u001b[38;5;241m=\u001b[39m [\u001b[38;5;28mlen\u001b[39m(word) \u001b[38;5;28;01mfor\u001b[39;00m word \u001b[38;5;129;01min\u001b[39;00m words]\n\u001b[0;32m      4\u001b[0m \u001b[38;5;28mprint\u001b[39m(length)\n",
      "\u001b[1;31mTypeError\u001b[0m: 'list' object is not callable"
     ]
    }
   ],
   "source": [
    "#Find word length\n",
    "words=[\"Jayesh\",\"Sam\",\"Alex\",\"Apple\",\"Pineapple\"]\n",
    "length = [len(word) for word in words]\n",
    "print(length)"
   ]
  },
  {
   "cell_type": "code",
   "execution_count": null,
   "id": "6d557ad4-23a1-4f41-a66b-5e551b71d22e",
   "metadata": {},
   "outputs": [],
   "source": []
  },
  {
   "cell_type": "code",
   "execution_count": null,
   "id": "bca6ed42-d7e1-4d0a-87cb-f763420ba41c",
   "metadata": {},
   "outputs": [],
   "source": []
  }
 ],
 "metadata": {
  "kernelspec": {
   "display_name": "Python 3 (ipykernel)",
   "language": "python",
   "name": "python3"
  },
  "language_info": {
   "codemirror_mode": {
    "name": "ipython",
    "version": 3
   },
   "file_extension": ".py",
   "mimetype": "text/x-python",
   "name": "python",
   "nbconvert_exporter": "python",
   "pygments_lexer": "ipython3",
   "version": "3.11.7"
  }
 },
 "nbformat": 4,
 "nbformat_minor": 5
}
