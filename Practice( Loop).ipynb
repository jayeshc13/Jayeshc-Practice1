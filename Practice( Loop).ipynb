{
 "cells": [
  {
   "cell_type": "code",
   "execution_count": 4,
   "id": "93777e5e-3cf8-44be-a687-0477587ea3f3",
   "metadata": {},
   "outputs": [
    {
     "name": "stdin",
     "output_type": "stream",
     "text": [
      "Enter any no.  4\n"
     ]
    },
    {
     "name": "stdout",
     "output_type": "stream",
     "text": [
      "It is a positive number\n"
     ]
    }
   ],
   "source": [
    "# Check if the number is positive.\n",
    "a=int(input(\"Enter any no. \"))\n",
    "if(a>0):\n",
    "    print(\"It is a positive number\")\n"
   ]
  },
  {
   "cell_type": "code",
   "execution_count": 9,
   "id": "e4cb3543-3c97-4e19-946a-d79521e8bf8e",
   "metadata": {},
   "outputs": [
    {
     "name": "stdin",
     "output_type": "stream",
     "text": [
      "Enter any no.  0\n"
     ]
    },
    {
     "name": "stdout",
     "output_type": "stream",
     "text": [
      "Zero\n"
     ]
    }
   ],
   "source": [
    "a=int(input(\"Enter any no. \"))\n",
    "if(a<0):\n",
    "    print(\"It is negative\")\n",
    "elif(a==0):\n",
    "    print(\"Zero\")"
   ]
  },
  {
   "cell_type": "code",
   "execution_count": 17,
   "id": "a9621239-a73f-4640-adff-7be73fead91c",
   "metadata": {},
   "outputs": [
    {
     "name": "stdin",
     "output_type": "stream",
     "text": [
      "Enter any no.  88\n"
     ]
    },
    {
     "name": "stdout",
     "output_type": "stream",
     "text": [
      "B grade\n"
     ]
    }
   ],
   "source": [
    "# WAP to give grades according to marks\n",
    "a=int(input(\"Enter any no. \"))\n",
    "if(a>90):\n",
    "    print(\"A Grade\")\n",
    "if(a>80 and a<=90):\n",
    "    print(\"B grade\")\n",
    "if(a>=60 and a<=80):\n",
    "    print(\"C Grade\")\n",
    "if(a<60):\n",
    "    print(\"D Grade\")\n",
    "\n",
    "    "
   ]
  },
  {
   "cell_type": "code",
   "execution_count": 23,
   "id": "52330128-17d5-40f4-9d42-04920f3bdca2",
   "metadata": {},
   "outputs": [
    {
     "name": "stdin",
     "output_type": "stream",
     "text": [
      "Enter any no.  500000\n"
     ]
    },
    {
     "name": "stdout",
     "output_type": "stream",
     "text": [
      "The tax on amount is 15%\n",
      "75000.0\n",
      "Total amount 575000.0\n"
     ]
    }
   ],
   "source": [
    "#WAP to accept cost price and tell total cost after taxes\n",
    "cost=int(input(\"Enter any no. \"))\n",
    "if(cost > 100000):\n",
    "    print(\"The tax on amount is 15%\")\n",
    "    tax=(15/100)*cost\n",
    "    print(tax)\n",
    "    print(\"Total amount\",tax+cost)\n",
    "elif(cost > 50000 and cost <=100000):\n",
    "    print(\"The tax on amount is 10%\")\n",
    "    tax=(10/100)*cost\n",
    "    print(tax)\n",
    "    print(\"Total amont\",tax+cost)\n",
    "elif( cost <= 50000):\n",
    "    print(\"The tax is 5%\")\n",
    "    tax=(5/100)*cost\n",
    "    print(tax)\n",
    "    print(\"Total amount\",tax+cost)"
   ]
  },
  {
   "cell_type": "code",
   "execution_count": 4,
   "id": "6eca10cf-8953-4df8-99cb-4669263314b2",
   "metadata": {},
   "outputs": [
    {
     "name": "stdin",
     "output_type": "stream",
     "text": [
      "Enter any no.  2036\n"
     ]
    },
    {
     "name": "stdout",
     "output_type": "stream",
     "text": [
      "Leap year\n"
     ]
    }
   ],
   "source": [
    "# Print leap year\n",
    "a=int(input(\"Enter any no. \"))\n",
    "if (a %4==0):\n",
    "    print(\"Leap year\")\n",
    "else:\n",
    "    print(\"Not a leap year\")"
   ]
  },
  {
   "cell_type": "code",
   "execution_count": 14,
   "id": "edb520d6-01a7-499b-9e01-06e1b22d3b18",
   "metadata": {},
   "outputs": [
    {
     "name": "stdin",
     "output_type": "stream",
     "text": [
      "Enter any number 7\n"
     ]
    },
    {
     "name": "stdout",
     "output_type": "stream",
     "text": [
      "Sunday\n"
     ]
    }
   ],
   "source": [
    "# WAP to print 1 to 7 for day etc\n",
    "a=int(input(\"Enter any number\"))\n",
    "if (a==1):\n",
    "    print(\"Monday\")\n",
    "elif (a==2):\n",
    "    print(\"Tuesday\")\n",
    "elif (a==3):\n",
    "    print(\"Wednesday\")\n",
    "elif (a==4):\n",
    "    print(\"Thursday\")\n",
    "elif (a==5):\n",
    "    print(\"Friday\")\n",
    "elif (a==6):\n",
    "    print(\"Saturday\")\n",
    "elif (a==7):\n",
    "    print(\"Sunday\")\n",
    "else:\n",
    "    print(\"Enter between 1 to 7\")"
   ]
  },
  {
   "cell_type": "code",
   "execution_count": 18,
   "id": "23a3b1ae-837c-44f4-8f99-91bbe4137d45",
   "metadata": {},
   "outputs": [
    {
     "name": "stdin",
     "output_type": "stream",
     "text": [
      "Enter any number 12\n"
     ]
    },
    {
     "name": "stdout",
     "output_type": "stream",
     "text": [
      "December\n"
     ]
    }
   ],
   "source": [
    "# WAP to print 1 to 12 for Month etc\n",
    "a=int(input(\"Enter any number\"))\n",
    "if (a==1):\n",
    "    print(\"January\")\n",
    "elif (a==2):\n",
    "    print(\"February\")\n",
    "elif (a==3):\n",
    "    print(\"March\")\n",
    "elif (a==4):\n",
    "    print(\"April\")\n",
    "elif (a==5):\n",
    "    print(\"May\")\n",
    "elif (a==6):\n",
    "    print(\"June\")\n",
    "elif (a==7):\n",
    "    print(\"July\")\n",
    "elif (a==8):\n",
    "    print(\"August\")\n",
    "elif (a==9):\n",
    "    print(\"September\")\n",
    "elif (a==10):\n",
    "    print(\"October\")\n",
    "elif (a==11):\n",
    "    print(\"November\")\n",
    "elif (a==12):\n",
    "    print(\"December\")\n",
    "else:\n",
    "    print(\"Enter between 1 to 12\")"
   ]
  },
  {
   "cell_type": "code",
   "execution_count": 23,
   "id": "2a8eb2a0-7d21-486f-88f1-f116f5eff299",
   "metadata": {},
   "outputs": [
    {
     "name": "stdin",
     "output_type": "stream",
     "text": [
      "enter any number 1200\n"
     ]
    },
    {
     "name": "stdout",
     "output_type": "stream",
     "text": [
      "It is not a three digit number\n"
     ]
    }
   ],
   "source": [
    "a=int(input(\"enter any number\"))\n",
    "if(a<1000 and a>99):\n",
    "    print(\"It is a three digit number\")\n",
    "\n",
    "else:\n",
    "    print(\"It is not a three digit number\")"
   ]
  },
  {
   "cell_type": "code",
   "execution_count": 26,
   "id": "d019b106-2aa4-4f9a-8003-3c7397d598c8",
   "metadata": {},
   "outputs": [
    {
     "name": "stdin",
     "output_type": "stream",
     "text": [
      "Enter any no.  45\n"
     ]
    },
    {
     "name": "stdout",
     "output_type": "stream",
     "text": [
      "You are eligible\n"
     ]
    }
   ],
   "source": [
    "VA=int(input(\"Enter any no. \"))\n",
    "if(VA>=18):\n",
    "    print(\"You are eligible\")\n",
    "else:\n",
    "    print(\"You are not eligible\")"
   ]
  },
  {
   "cell_type": "code",
   "execution_count": 30,
   "id": "7ef757bc-65cd-4aa0-a76e-6f9ba5f083b0",
   "metadata": {},
   "outputs": [
    {
     "name": "stdin",
     "output_type": "stream",
     "text": [
      "Enter any no.  47\n",
      "Enter any no.  49\n"
     ]
    },
    {
     "name": "stdout",
     "output_type": "stream",
     "text": [
      "The lowest number is 47\n"
     ]
    }
   ],
   "source": [
    "a=int(input(\"Enter any no. \"))\n",
    "b=int(input(\"Enter any no. \"))\n",
    "if(a<b):\n",
    "    print(\"The lowest number is\",a)\n",
    "if(a>b):\n",
    "    print(\"The lowest number is\",b)"
   ]
  },
  {
   "cell_type": "code",
   "execution_count": 45,
   "id": "9f9a1b17-61a0-47e7-90b4-9e332f7efa6c",
   "metadata": {},
   "outputs": [
    {
     "name": "stdin",
     "output_type": "stream",
     "text": [
      "Enter any no.  40\n",
      "Enter any no.  80\n",
      "Enter any no. 23\n"
     ]
    },
    {
     "name": "stdout",
     "output_type": "stream",
     "text": [
      "The largest number is 80\n"
     ]
    }
   ],
   "source": [
    "a=int(input(\"Enter any no. \"))\n",
    "b=int(input(\"Enter any no. \"))\n",
    "c=int(input(\"Enter any no.\"))\n",
    "if(a>b and c ):\n",
    "    print(\"The largest number is\",a)\n",
    "if(b>a and c):\n",
    "    print(\"The largest number is\",b)\n",
    "if(c > a and b):\n",
    "    print(\"The largest no. is\",c)"
   ]
  },
  {
   "cell_type": "code",
   "execution_count": null,
   "id": "15f9e63f-3d29-44d2-be10-c757a94def8c",
   "metadata": {},
   "outputs": [],
   "source": []
  }
 ],
 "metadata": {
  "kernelspec": {
   "display_name": "Python 3 (ipykernel)",
   "language": "python",
   "name": "python3"
  },
  "language_info": {
   "codemirror_mode": {
    "name": "ipython",
    "version": 3
   },
   "file_extension": ".py",
   "mimetype": "text/x-python",
   "name": "python",
   "nbconvert_exporter": "python",
   "pygments_lexer": "ipython3",
   "version": "3.11.7"
  }
 },
 "nbformat": 4,
 "nbformat_minor": 5
}
