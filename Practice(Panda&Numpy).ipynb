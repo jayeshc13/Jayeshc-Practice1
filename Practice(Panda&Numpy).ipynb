{
 "cells": [
  {
   "cell_type": "code",
   "execution_count": 2,
   "id": "35110a48-b49c-4c61-beeb-87e2f09d03d9",
   "metadata": {},
   "outputs": [],
   "source": [
    "import pandas as pd\n",
    "import numpy as np"
   ]
  },
  {
   "cell_type": "code",
   "execution_count": 30,
   "id": "f1dcf65d-6d9c-4a97-b216-f1779700313e",
   "metadata": {},
   "outputs": [],
   "source": [
    "exp=np.random.normal(10,50,10)"
   ]
  },
  {
   "cell_type": "code",
   "execution_count": 31,
   "id": "df732838-8bf8-4438-940a-16dd2d170de8",
   "metadata": {},
   "outputs": [
    {
     "data": {
      "text/plain": [
       "array([-34.71615622,  67.59703169, -39.84166692,  11.19847066,\n",
       "       -14.88423715,   3.74734415, -16.51725386,  54.94633148,\n",
       "       -29.13620841,  36.86491265])"
      ]
     },
     "execution_count": 31,
     "metadata": {},
     "output_type": "execute_result"
    }
   ],
   "source": [
    "exp"
   ]
  },
  {
   "cell_type": "code",
   "execution_count": 32,
   "id": "04e52a44-4a8f-418f-8521-6557128f2953",
   "metadata": {},
   "outputs": [
    {
     "data": {
      "text/plain": [
       "3.9258568086739105"
      ]
     },
     "execution_count": 32,
     "metadata": {},
     "output_type": "execute_result"
    }
   ],
   "source": [
    "#Mean\n",
    "np.mean(exp)"
   ]
  },
  {
   "cell_type": "code",
   "execution_count": 33,
   "id": "0136dd89-d9c3-40b8-ab72-dc917c39ba9a",
   "metadata": {},
   "outputs": [],
   "source": [
    "#Adding outliers\n",
    "exp=np.append(exp,[100000000])\n"
   ]
  },
  {
   "cell_type": "code",
   "execution_count": 34,
   "id": "f9da8a04-9f15-4f70-b1aa-1ad894c5143b",
   "metadata": {},
   "outputs": [
    {
     "data": {
      "text/plain": [
       "array([-3.47161562e+01,  6.75970317e+01, -3.98416669e+01,  1.11984707e+01,\n",
       "       -1.48842372e+01,  3.74734415e+00, -1.65172539e+01,  5.49463315e+01,\n",
       "       -2.91362084e+01,  3.68649127e+01,  1.00000000e+08])"
      ]
     },
     "execution_count": 34,
     "metadata": {},
     "output_type": "execute_result"
    }
   ],
   "source": [
    "exp"
   ]
  },
  {
   "cell_type": "code",
   "execution_count": 35,
   "id": "60d96a39-a8f8-4f4c-9db3-6322b86bf0e0",
   "metadata": {},
   "outputs": [
    {
     "data": {
      "text/plain": [
       "3.747344149569802"
      ]
     },
     "execution_count": 35,
     "metadata": {},
     "output_type": "execute_result"
    }
   ],
   "source": [
    "np.median(exp)"
   ]
  },
  {
   "cell_type": "code",
   "execution_count": 36,
   "id": "8c0caf08-2c44-479c-81a4-29647edf95b6",
   "metadata": {},
   "outputs": [],
   "source": [
    "import statistics "
   ]
  },
  {
   "cell_type": "code",
   "execution_count": 37,
   "id": "1e0d9117-892b-4aa5-8f4e-d3163cc89add",
   "metadata": {},
   "outputs": [],
   "source": [
    "data=[78,45,5,64,96,12,106,56,692,36,99,44,63,97,6]"
   ]
  },
  {
   "cell_type": "code",
   "execution_count": 38,
   "id": "0f9960e4-32cb-4026-97da-3111733b95eb",
   "metadata": {},
   "outputs": [
    {
     "data": {
      "text/plain": [
       "78"
      ]
     },
     "execution_count": 38,
     "metadata": {},
     "output_type": "execute_result"
    }
   ],
   "source": [
    "statistics.mode(data)"
   ]
  },
  {
   "cell_type": "code",
   "execution_count": 39,
   "id": "465043b9-db5c-49fe-b3c5-28557f47483f",
   "metadata": {},
   "outputs": [
    {
     "data": {
      "text/plain": [
       "63"
      ]
     },
     "execution_count": 39,
     "metadata": {},
     "output_type": "execute_result"
    }
   ],
   "source": [
    "statistics.median(data)"
   ]
  },
  {
   "cell_type": "code",
   "execution_count": 40,
   "id": "cb9b3a44-1b4a-4c8a-970a-3290bfbeef95",
   "metadata": {},
   "outputs": [
    {
     "data": {
      "text/plain": [
       "99.93333333333334"
      ]
     },
     "execution_count": 40,
     "metadata": {},
     "output_type": "execute_result"
    }
   ],
   "source": [
    "statistics.mean(data)"
   ]
  },
  {
   "cell_type": "code",
   "execution_count": 41,
   "id": "864ddca2-ffe9-4841-bce3-93cbe483f1ca",
   "metadata": {},
   "outputs": [
    {
     "data": {
      "text/plain": [
       "27962.35238095238"
      ]
     },
     "execution_count": 41,
     "metadata": {},
     "output_type": "execute_result"
    }
   ],
   "source": [
    "statistics.variance(data)"
   ]
  },
  {
   "cell_type": "code",
   "execution_count": 42,
   "id": "e0b8aead-7628-4a51-a960-7524d16f8bfa",
   "metadata": {},
   "outputs": [
    {
     "data": {
      "text/plain": [
       "167.2194736893774"
      ]
     },
     "execution_count": 42,
     "metadata": {},
     "output_type": "execute_result"
    }
   ],
   "source": [
    "statistics.stdev(data)"
   ]
  },
  {
   "cell_type": "code",
   "execution_count": 44,
   "id": "56cbf47b-318f-4c1c-b747-73519bbfbfe9",
   "metadata": {},
   "outputs": [],
   "source": [
    "\n",
    "from scipy import stats\n",
    "\n"
   ]
  },
  {
   "cell_type": "code",
   "execution_count": 45,
   "id": "29c94deb-3be4-4f60-9039-9a1586083bf7",
   "metadata": {},
   "outputs": [],
   "source": [
    "IQR=stats.iqr(data,interpolation='midpoint')"
   ]
  },
  {
   "cell_type": "code",
   "execution_count": 46,
   "id": "6501b6ba-eed1-4938-8fd6-6129704c81dc",
   "metadata": {},
   "outputs": [
    {
     "data": {
      "text/plain": [
       "15"
      ]
     },
     "execution_count": 46,
     "metadata": {},
     "output_type": "execute_result"
    }
   ],
   "source": [
    "len(data)"
   ]
  },
  {
   "cell_type": "code",
   "execution_count": 47,
   "id": "cd277227-c867-4baf-a8f1-f99759ec9c58",
   "metadata": {},
   "outputs": [
    {
     "data": {
      "text/plain": [
       "56.5"
      ]
     },
     "execution_count": 47,
     "metadata": {},
     "output_type": "execute_result"
    }
   ],
   "source": [
    "IQR"
   ]
  },
  {
   "cell_type": "code",
   "execution_count": 48,
   "id": "3137edad-a1f5-4141-8b40-b7c6d67c6293",
   "metadata": {},
   "outputs": [],
   "source": [
    "data.sort()"
   ]
  },
  {
   "cell_type": "code",
   "execution_count": 49,
   "id": "b10631ee-1b01-4b41-af44-c7c8d6988655",
   "metadata": {},
   "outputs": [
    {
     "data": {
      "text/plain": [
       "[5, 6, 12, 36, 44, 45, 56, 63, 64, 78, 96, 97, 99, 106, 692]"
      ]
     },
     "execution_count": 49,
     "metadata": {},
     "output_type": "execute_result"
    }
   ],
   "source": [
    "data"
   ]
  },
  {
   "cell_type": "code",
   "execution_count": 50,
   "id": "e1f5b54d-d4b6-4238-9b08-4391ec3cfad4",
   "metadata": {},
   "outputs": [
    {
     "data": {
      "text/plain": [
       "4.0"
      ]
     },
     "execution_count": 50,
     "metadata": {},
     "output_type": "execute_result"
    }
   ],
   "source": [
    "q1_loc=(len(data)+1)*25/100\n",
    "q1_loc"
   ]
  },
  {
   "cell_type": "code",
   "execution_count": 51,
   "id": "5290d02a-9fb6-4fcc-a36c-9da886ae0d7c",
   "metadata": {},
   "outputs": [
    {
     "data": {
      "text/plain": [
       "12.0"
      ]
     },
     "execution_count": 51,
     "metadata": {},
     "output_type": "execute_result"
    }
   ],
   "source": [
    "q3_loc=(len(data)+1)*75/100\n",
    "q3_loc"
   ]
  },
  {
   "cell_type": "code",
   "execution_count": 52,
   "id": "6a9a19bb-9512-44cd-b06c-11796edd08bf",
   "metadata": {},
   "outputs": [],
   "source": [
    "q3=97\n",
    "q1=36"
   ]
  },
  {
   "cell_type": "code",
   "execution_count": 53,
   "id": "c547a70a-c14e-488a-90b9-90d34f407217",
   "metadata": {},
   "outputs": [
    {
     "data": {
      "text/plain": [
       "61"
      ]
     },
     "execution_count": 53,
     "metadata": {},
     "output_type": "execute_result"
    }
   ],
   "source": [
    "q3-q1"
   ]
  },
  {
   "cell_type": "code",
   "execution_count": 54,
   "id": "32c65781-7027-4cb7-8f6c-37273434395e",
   "metadata": {},
   "outputs": [],
   "source": [
    "#Box plot\n",
    "lb=q1-1.5*(IQR)"
   ]
  },
  {
   "cell_type": "code",
   "execution_count": 55,
   "id": "d2098832-6d49-4531-b23b-e086c4ed77ce",
   "metadata": {},
   "outputs": [
    {
     "data": {
      "text/plain": [
       "-48.75"
      ]
     },
     "execution_count": 55,
     "metadata": {},
     "output_type": "execute_result"
    }
   ],
   "source": [
    "lb"
   ]
  },
  {
   "cell_type": "code",
   "execution_count": 56,
   "id": "8e935ffe-353b-4fe8-a7a1-b152d7c45457",
   "metadata": {},
   "outputs": [],
   "source": [
    "ub=q3+1.5*(IQR)"
   ]
  },
  {
   "cell_type": "code",
   "execution_count": 57,
   "id": "6ea748b3-7d29-42c3-8a0e-4f353b18d8c7",
   "metadata": {},
   "outputs": [
    {
     "data": {
      "text/plain": [
       "181.75"
      ]
     },
     "execution_count": 57,
     "metadata": {},
     "output_type": "execute_result"
    }
   ],
   "source": [
    "ub"
   ]
  },
  {
   "cell_type": "code",
   "execution_count": 58,
   "id": "f5441e38-9539-4256-a4ed-d6fff8929a1b",
   "metadata": {},
   "outputs": [
    {
     "name": "stdout",
     "output_type": "stream",
     "text": [
      "Outliers: \n",
      "692\n"
     ]
    }
   ],
   "source": [
    "print(\"Outliers: \")\n",
    "for i in data:\n",
    "    if i<lb:\n",
    "        print(i)\n",
    "    elif i>ub:\n",
    "        print(i)"
   ]
  },
  {
   "cell_type": "code",
   "execution_count": 59,
   "id": "9c6f1edc-016c-41da-a07c-2b2f006f4a29",
   "metadata": {},
   "outputs": [],
   "source": [
    "data1=[78,45,5,64,96,12,106,56,692,36,99,44,63,97,6,50]"
   ]
  },
  {
   "cell_type": "code",
   "execution_count": 60,
   "id": "b161efe2-f9c3-4649-96d8-4a02586c292f",
   "metadata": {},
   "outputs": [],
   "source": [
    "data1.sort()"
   ]
  },
  {
   "cell_type": "code",
   "execution_count": 61,
   "id": "65735544-4a6a-4b63-9296-ef63949836df",
   "metadata": {},
   "outputs": [
    {
     "data": {
      "text/plain": [
       "[5, 6, 12, 36, 44, 45, 50, 56, 63, 64, 78, 96, 97, 99, 106, 692]"
      ]
     },
     "execution_count": 61,
     "metadata": {},
     "output_type": "execute_result"
    }
   ],
   "source": [
    "data1"
   ]
  },
  {
   "cell_type": "code",
   "execution_count": 62,
   "id": "b62c176c-3ea2-486d-8565-9f31c90aa909",
   "metadata": {},
   "outputs": [],
   "source": [
    "IQR=stats.iqr(data,interpolation='midpoint')"
   ]
  },
  {
   "cell_type": "code",
   "execution_count": 63,
   "id": "c2a387a8-3f56-4574-bf1a-f7f03d022198",
   "metadata": {},
   "outputs": [
    {
     "data": {
      "text/plain": [
       "16"
      ]
     },
     "execution_count": 63,
     "metadata": {},
     "output_type": "execute_result"
    }
   ],
   "source": [
    "len(data1)"
   ]
  },
  {
   "cell_type": "code",
   "execution_count": 64,
   "id": "2a00ae0a-ff51-44d2-b3d3-f81850d3c28b",
   "metadata": {},
   "outputs": [
    {
     "data": {
      "text/plain": [
       "56.5"
      ]
     },
     "execution_count": 64,
     "metadata": {},
     "output_type": "execute_result"
    }
   ],
   "source": [
    "IQR"
   ]
  },
  {
   "cell_type": "code",
   "execution_count": 65,
   "id": "4946f145-ad55-49d4-8249-0ca6a0d609a3",
   "metadata": {},
   "outputs": [
    {
     "data": {
      "text/plain": [
       "4.25"
      ]
     },
     "execution_count": 65,
     "metadata": {},
     "output_type": "execute_result"
    }
   ],
   "source": [
    "q1_loc=(len(data1)+1)*25/100\n",
    "q1_loc"
   ]
  },
  {
   "cell_type": "code",
   "execution_count": 66,
   "id": "827ffca3-f8af-4d2d-99a2-30b3d0509ca1",
   "metadata": {},
   "outputs": [
    {
     "data": {
      "text/plain": [
       "46.0"
      ]
     },
     "execution_count": 66,
     "metadata": {},
     "output_type": "execute_result"
    }
   ],
   "source": [
    "q1=data1[4]+0.25*(data1[4]-data1[3])\n",
    "q1"
   ]
  },
  {
   "cell_type": "code",
   "execution_count": 67,
   "id": "77ca0d59-7bcf-4599-8982-85a905bc9a6e",
   "metadata": {},
   "outputs": [
    {
     "data": {
      "text/plain": [
       "12.75"
      ]
     },
     "execution_count": 67,
     "metadata": {},
     "output_type": "execute_result"
    }
   ],
   "source": [
    "q3_loc=(len(data1)+1)*75/100\n",
    "q3_loc"
   ]
  },
  {
   "cell_type": "code",
   "execution_count": 68,
   "id": "6287723f-7f76-4aca-aa0f-88913765262b",
   "metadata": {},
   "outputs": [
    {
     "data": {
      "text/plain": [
       "97.75"
      ]
     },
     "execution_count": 68,
     "metadata": {},
     "output_type": "execute_result"
    }
   ],
   "source": [
    "q3=data1[12]+0.75*(data1[12]-data1[11])\n",
    "q3"
   ]
  },
  {
   "cell_type": "code",
   "execution_count": 69,
   "id": "d50b77f7-0a58-496d-8647-77f39164e41e",
   "metadata": {},
   "outputs": [
    {
     "data": {
      "text/plain": [
       "51.75"
      ]
     },
     "execution_count": 69,
     "metadata": {},
     "output_type": "execute_result"
    }
   ],
   "source": [
    "q3-q1"
   ]
  },
  {
   "cell_type": "code",
   "execution_count": 70,
   "id": "8c0881d6-458e-4b52-bebf-f37ed47dba3d",
   "metadata": {},
   "outputs": [],
   "source": [
    "#Box plot\n",
    "lb=q1-1.5*(IQR)"
   ]
  },
  {
   "cell_type": "code",
   "execution_count": 71,
   "id": "e526daf0-6271-4d9b-9ce4-e8ca6524d992",
   "metadata": {},
   "outputs": [
    {
     "data": {
      "text/plain": [
       "-38.75"
      ]
     },
     "execution_count": 71,
     "metadata": {},
     "output_type": "execute_result"
    }
   ],
   "source": [
    "lb"
   ]
  },
  {
   "cell_type": "code",
   "execution_count": 72,
   "id": "39b02723-fcd6-4ca8-bbb1-bba8dc2bbc24",
   "metadata": {},
   "outputs": [],
   "source": [
    "#Box plot\n",
    "ub=q3+1.5*(IQR)"
   ]
  },
  {
   "cell_type": "code",
   "execution_count": 73,
   "id": "a4cafdee-96b8-4f7c-b832-f531a9d672d6",
   "metadata": {},
   "outputs": [
    {
     "data": {
      "text/plain": [
       "182.5"
      ]
     },
     "execution_count": 73,
     "metadata": {},
     "output_type": "execute_result"
    }
   ],
   "source": [
    "ub"
   ]
  },
  {
   "cell_type": "code",
   "execution_count": 74,
   "id": "c6cddabc-e9a4-43cd-a5be-34b6d4408559",
   "metadata": {},
   "outputs": [
    {
     "name": "stdout",
     "output_type": "stream",
     "text": [
      "Outliers\n",
      "692\n"
     ]
    }
   ],
   "source": [
    "print(\"Outliers\")\n",
    "for i in data1:\n",
    "    if i<lb:\n",
    "        print(i)\n",
    "\n",
    "    elif i>ub:\n",
    "        print(i)"
   ]
  },
  {
   "cell_type": "code",
   "execution_count": null,
   "id": "08d595b2-95a3-485b-b914-4da0c1d0a075",
   "metadata": {},
   "outputs": [],
   "source": []
  },
  {
   "cell_type": "markdown",
   "id": "b2b679e4-7ffc-4706-9f2c-4ab5e6cce650",
   "metadata": {},
   "source": [
    "# pandas"
   ]
  },
  {
   "cell_type": "code",
   "execution_count": 75,
   "id": "b4be77bd-a30e-4398-a230-d5df8ef9f0b8",
   "metadata": {},
   "outputs": [],
   "source": [
    "import pandas as pd"
   ]
  },
  {
   "cell_type": "code",
   "execution_count": 76,
   "id": "e3ef3a34-4669-4d4c-964e-0aa7bf1881a8",
   "metadata": {},
   "outputs": [],
   "source": [
    "d=pd.Series(17)"
   ]
  },
  {
   "cell_type": "code",
   "execution_count": 77,
   "id": "f97a2dd9-e0d6-4c52-869d-1a59d1e0ea4b",
   "metadata": {},
   "outputs": [
    {
     "data": {
      "text/plain": [
       "0    17\n",
       "dtype: int64"
      ]
     },
     "execution_count": 77,
     "metadata": {},
     "output_type": "execute_result"
    }
   ],
   "source": [
    "d"
   ]
  },
  {
   "cell_type": "code",
   "execution_count": 78,
   "id": "b85df888-c849-42e0-87eb-cf89d59199b4",
   "metadata": {},
   "outputs": [
    {
     "data": {
      "text/plain": [
       "0    10\n",
       "1    20\n",
       "2    30\n",
       "dtype: int64"
      ]
     },
     "execution_count": 78,
     "metadata": {},
     "output_type": "execute_result"
    }
   ],
   "source": [
    "t=(10,20,30)\n",
    "d=pd.Series(t)\n",
    "d"
   ]
  },
  {
   "cell_type": "code",
   "execution_count": 79,
   "id": "aed5b963-10c5-4d8e-80b0-52904aa61de6",
   "metadata": {},
   "outputs": [
    {
     "data": {
      "text/plain": [
       "0    40\n",
       "1    50\n",
       "2    60\n",
       "3    70\n",
       "4    80\n",
       "5    90\n",
       "dtype: int64"
      ]
     },
     "execution_count": 79,
     "metadata": {},
     "output_type": "execute_result"
    }
   ],
   "source": [
    "l=([40,50,60,70,80,90])\n",
    "d=pd.Series(l)\n",
    "d"
   ]
  },
  {
   "cell_type": "code",
   "execution_count": 80,
   "id": "1c4850e4-4b2c-40ee-9f40-14172b008bb9",
   "metadata": {},
   "outputs": [
    {
     "data": {
      "text/plain": [
       "0    45\n",
       "1    98\n",
       "2    63\n",
       "dtype: int32"
      ]
     },
     "execution_count": 80,
     "metadata": {},
     "output_type": "execute_result"
    }
   ],
   "source": [
    "##Creating series with array\n",
    "import numpy as np\n",
    "arr=np.array([45,98,63])\n",
    "d1=pd.Series(arr)\n",
    "d1"
   ]
  },
  {
   "cell_type": "code",
   "execution_count": 81,
   "id": "359ee053-4f25-49ff-9032-648d872a1889",
   "metadata": {},
   "outputs": [
    {
     "data": {
      "text/plain": [
       "(3, 3)"
      ]
     },
     "execution_count": 81,
     "metadata": {},
     "output_type": "execute_result"
    }
   ],
   "source": [
    "arr2=np.array([[45,18,7],[49,12,66],[78,46,23]])\n",
    "arr2.shape"
   ]
  },
  {
   "cell_type": "code",
   "execution_count": 82,
   "id": "b46638c8-6bc6-4ab0-9888-0d416c07d386",
   "metadata": {},
   "outputs": [],
   "source": [
    "#Dictionary"
   ]
  },
  {
   "cell_type": "code",
   "execution_count": 83,
   "id": "cc5ce5c2-4678-4a85-904c-0aa33b371f39",
   "metadata": {},
   "outputs": [],
   "source": [
    "d={'a':45,'b':18,'c':7}"
   ]
  },
  {
   "cell_type": "code",
   "execution_count": 84,
   "id": "a6d4d152-10b5-4b81-b6f7-00f158f15c59",
   "metadata": {},
   "outputs": [
    {
     "data": {
      "text/plain": [
       "dict_keys(['a', 'b', 'c'])"
      ]
     },
     "execution_count": 84,
     "metadata": {},
     "output_type": "execute_result"
    }
   ],
   "source": [
    "d.keys()"
   ]
  },
  {
   "cell_type": "code",
   "execution_count": 85,
   "id": "22d4d87e-8c4a-4c35-9beb-e4d8185551ff",
   "metadata": {},
   "outputs": [
    {
     "data": {
      "text/plain": [
       "dict_values([45, 18, 7])"
      ]
     },
     "execution_count": 85,
     "metadata": {},
     "output_type": "execute_result"
    }
   ],
   "source": [
    "d.values()"
   ]
  },
  {
   "cell_type": "code",
   "execution_count": 86,
   "id": "4e5904c4-8d28-4df3-8d5b-6bbd1976a579",
   "metadata": {},
   "outputs": [
    {
     "data": {
      "text/plain": [
       "a    45\n",
       "b    18\n",
       "c     7\n",
       "dtype: int64"
      ]
     },
     "execution_count": 86,
     "metadata": {},
     "output_type": "execute_result"
    }
   ],
   "source": [
    "a=pd.Series(d)\n",
    "a"
   ]
  },
  {
   "cell_type": "code",
   "execution_count": 87,
   "id": "3999c67c-44e8-4cfa-851f-91ba4d7a8479",
   "metadata": {},
   "outputs": [
    {
     "data": {
      "text/plain": [
       "0    12\n",
       "1    45\n",
       "2    96\n",
       "3    78\n",
       "4    96\n",
       "5    32\n",
       "6    14\n",
       "7    58\n",
       "8    74\n",
       "9    96\n",
       "dtype: int64"
      ]
     },
     "execution_count": 87,
     "metadata": {},
     "output_type": "execute_result"
    }
   ],
   "source": [
    "d4=pd.Series([12,45,96,78,96,32,14,58,74,96])\n",
    "d4"
   ]
  },
  {
   "cell_type": "code",
   "execution_count": 88,
   "id": "30ce04b9-c343-47cd-a8bf-697c8ba0a636",
   "metadata": {},
   "outputs": [
    {
     "data": {
      "text/plain": [
       "32"
      ]
     },
     "execution_count": 88,
     "metadata": {},
     "output_type": "execute_result"
    }
   ],
   "source": [
    "d4[5]"
   ]
  },
  {
   "cell_type": "code",
   "execution_count": 91,
   "id": "6925f519-0fd7-4e72-af29-d592e19b327a",
   "metadata": {},
   "outputs": [
    {
     "data": {
      "text/plain": [
       "2    96\n",
       "5    32\n",
       "3    78\n",
       "7    58\n",
       "dtype: int64"
      ]
     },
     "execution_count": 91,
     "metadata": {},
     "output_type": "execute_result"
    }
   ],
   "source": [
    "d4[[2,5,3,7]]   #Multiple index"
   ]
  },
  {
   "cell_type": "code",
   "execution_count": 94,
   "id": "92df395d-eb53-47a7-b125-f9bd53d36e1d",
   "metadata": {},
   "outputs": [],
   "source": [
    "d4[3]=7   #Changing the element"
   ]
  },
  {
   "cell_type": "code",
   "execution_count": 93,
   "id": "22043442-16ca-401a-81f2-384da8bbe0ea",
   "metadata": {},
   "outputs": [
    {
     "data": {
      "text/plain": [
       "0    12\n",
       "1    45\n",
       "2    96\n",
       "3     7\n",
       "4    96\n",
       "5    32\n",
       "6    14\n",
       "7    58\n",
       "8    74\n",
       "9    96\n",
       "dtype: int64"
      ]
     },
     "execution_count": 93,
     "metadata": {},
     "output_type": "execute_result"
    }
   ],
   "source": [
    "d4"
   ]
  },
  {
   "cell_type": "code",
   "execution_count": 97,
   "id": "0bab8a1a-22ff-49f2-9347-23a08bac2944",
   "metadata": {},
   "outputs": [],
   "source": [
    "d4[2:6]=[7,45,18,12]"
   ]
  },
  {
   "cell_type": "code",
   "execution_count": 98,
   "id": "33f7dd50-6695-4405-83b3-f521916ccc4f",
   "metadata": {},
   "outputs": [
    {
     "data": {
      "text/plain": [
       "0    12\n",
       "1    45\n",
       "2     7\n",
       "3    45\n",
       "4    18\n",
       "5    12\n",
       "6    14\n",
       "7    58\n",
       "8    74\n",
       "9    96\n",
       "dtype: int64"
      ]
     },
     "execution_count": 98,
     "metadata": {},
     "output_type": "execute_result"
    }
   ],
   "source": [
    "d4"
   ]
  },
  {
   "cell_type": "code",
   "execution_count": null,
   "id": "7a34e445-a78a-4abf-8a19-91eaf38e7408",
   "metadata": {},
   "outputs": [],
   "source": []
  },
  {
   "cell_type": "code",
   "execution_count": 100,
   "id": "8bb946f0-22fe-4f71-93a2-d1268a6b154e",
   "metadata": {},
   "outputs": [
    {
     "data": {
      "text/plain": [
       "Twenty    1\n",
       "Thirty    2\n",
       "Forty     3\n",
       "Fifty     4\n",
       "Sixty     5\n",
       "dtype: int32"
      ]
     },
     "execution_count": 100,
     "metadata": {},
     "output_type": "execute_result"
    }
   ],
   "source": [
    "arr3=np.array([1,2,3,4,5])\n",
    "s=pd.Series(arr3,index=['Twenty','Thirty','Forty','Fifty','Sixty']) #Changing the index name \n",
    "s"
   ]
  },
  {
   "cell_type": "code",
   "execution_count": null,
   "id": "334bff12-b8f5-4b08-95f7-eb0fb87bbadb",
   "metadata": {},
   "outputs": [],
   "source": []
  },
  {
   "cell_type": "code",
   "execution_count": 103,
   "id": "72655ad0-b7d8-4cea-81c0-e4fa2760f721",
   "metadata": {},
   "outputs": [],
   "source": [
    "#DataFrame  Used to create empty frame or table"
   ]
  },
  {
   "cell_type": "code",
   "execution_count": 104,
   "id": "12fc66dd-e0ae-4938-89ee-fb4a7c7a5f01",
   "metadata": {},
   "outputs": [],
   "source": [
    "import pandas as pd"
   ]
  },
  {
   "cell_type": "code",
   "execution_count": 105,
   "id": "6bda1727-af99-4df5-b1df-1950c0197b9e",
   "metadata": {},
   "outputs": [],
   "source": [
    "d=pd.DataFrame()"
   ]
  },
  {
   "cell_type": "code",
   "execution_count": 106,
   "id": "6479a475-f5dc-46b4-a566-708b4196f9e4",
   "metadata": {},
   "outputs": [
    {
     "data": {
      "text/html": [
       "<div>\n",
       "<style scoped>\n",
       "    .dataframe tbody tr th:only-of-type {\n",
       "        vertical-align: middle;\n",
       "    }\n",
       "\n",
       "    .dataframe tbody tr th {\n",
       "        vertical-align: top;\n",
       "    }\n",
       "\n",
       "    .dataframe thead th {\n",
       "        text-align: right;\n",
       "    }\n",
       "</style>\n",
       "<table border=\"1\" class=\"dataframe\">\n",
       "  <thead>\n",
       "    <tr style=\"text-align: right;\">\n",
       "      <th></th>\n",
       "    </tr>\n",
       "  </thead>\n",
       "  <tbody>\n",
       "  </tbody>\n",
       "</table>\n",
       "</div>"
      ],
      "text/plain": [
       "Empty DataFrame\n",
       "Columns: []\n",
       "Index: []"
      ]
     },
     "execution_count": 106,
     "metadata": {},
     "output_type": "execute_result"
    }
   ],
   "source": [
    "d"
   ]
  },
  {
   "cell_type": "code",
   "execution_count": 107,
   "id": "25d1c1d5-ade3-49ba-98e9-d3b66a229964",
   "metadata": {},
   "outputs": [
    {
     "name": "stdout",
     "output_type": "stream",
     "text": [
      "Empty DataFrame\n",
      "Columns: []\n",
      "Index: []\n"
     ]
    }
   ],
   "source": [
    "print(d)"
   ]
  },
  {
   "cell_type": "code",
   "execution_count": 108,
   "id": "d97fa03f-df7f-4e63-8c86-f82668a5d3be",
   "metadata": {},
   "outputs": [],
   "source": [
    "data=[['xyz',1],['abc',2],['ghi',3],['lmn',4]]"
   ]
  },
  {
   "cell_type": "code",
   "execution_count": 109,
   "id": "5f014e57-2644-40ca-a1ea-b3e6721ef394",
   "metadata": {},
   "outputs": [],
   "source": [
    "d8=pd.DataFrame(data)"
   ]
  },
  {
   "cell_type": "code",
   "execution_count": 110,
   "id": "2c4b1b8f-9e4a-455c-9ee9-399d493683ba",
   "metadata": {},
   "outputs": [
    {
     "data": {
      "text/html": [
       "<div>\n",
       "<style scoped>\n",
       "    .dataframe tbody tr th:only-of-type {\n",
       "        vertical-align: middle;\n",
       "    }\n",
       "\n",
       "    .dataframe tbody tr th {\n",
       "        vertical-align: top;\n",
       "    }\n",
       "\n",
       "    .dataframe thead th {\n",
       "        text-align: right;\n",
       "    }\n",
       "</style>\n",
       "<table border=\"1\" class=\"dataframe\">\n",
       "  <thead>\n",
       "    <tr style=\"text-align: right;\">\n",
       "      <th></th>\n",
       "      <th>0</th>\n",
       "      <th>1</th>\n",
       "    </tr>\n",
       "  </thead>\n",
       "  <tbody>\n",
       "    <tr>\n",
       "      <th>0</th>\n",
       "      <td>xyz</td>\n",
       "      <td>1</td>\n",
       "    </tr>\n",
       "    <tr>\n",
       "      <th>1</th>\n",
       "      <td>abc</td>\n",
       "      <td>2</td>\n",
       "    </tr>\n",
       "    <tr>\n",
       "      <th>2</th>\n",
       "      <td>ghi</td>\n",
       "      <td>3</td>\n",
       "    </tr>\n",
       "    <tr>\n",
       "      <th>3</th>\n",
       "      <td>lmn</td>\n",
       "      <td>4</td>\n",
       "    </tr>\n",
       "  </tbody>\n",
       "</table>\n",
       "</div>"
      ],
      "text/plain": [
       "     0  1\n",
       "0  xyz  1\n",
       "1  abc  2\n",
       "2  ghi  3\n",
       "3  lmn  4"
      ]
     },
     "execution_count": 110,
     "metadata": {},
     "output_type": "execute_result"
    }
   ],
   "source": [
    "d8"
   ]
  },
  {
   "cell_type": "code",
   "execution_count": 112,
   "id": "978d273c-2caa-475d-9ddb-747479e1fe35",
   "metadata": {},
   "outputs": [
    {
     "name": "stdout",
     "output_type": "stream",
     "text": [
      "Requirement already satisfied: jupyterlab in c:\\users\\s\\anaconda3\\lib\\site-packages (4.0.11)\n",
      "Requirement already satisfied: async-lru>=1.0.0 in c:\\users\\s\\anaconda3\\lib\\site-packages (from jupyterlab) (2.0.4)\n",
      "Requirement already satisfied: ipykernel in c:\\users\\s\\anaconda3\\lib\\site-packages (from jupyterlab) (6.28.0)\n",
      "Requirement already satisfied: jinja2>=3.0.3 in c:\\users\\s\\anaconda3\\lib\\site-packages (from jupyterlab) (3.1.3)\n",
      "Requirement already satisfied: jupyter-core in c:\\users\\s\\anaconda3\\lib\\site-packages (from jupyterlab) (5.5.0)\n",
      "Requirement already satisfied: jupyter-lsp>=2.0.0 in c:\\users\\s\\anaconda3\\lib\\site-packages (from jupyterlab) (2.2.0)\n",
      "Requirement already satisfied: jupyter-server<3,>=2.4.0 in c:\\users\\s\\anaconda3\\lib\\site-packages (from jupyterlab) (2.10.0)\n",
      "Requirement already satisfied: jupyterlab-server<3,>=2.19.0 in c:\\users\\s\\anaconda3\\lib\\site-packages (from jupyterlab) (2.25.1)\n",
      "Requirement already satisfied: notebook-shim>=0.2 in c:\\users\\s\\anaconda3\\lib\\site-packages (from jupyterlab) (0.2.3)\n",
      "Requirement already satisfied: packaging in c:\\users\\s\\anaconda3\\lib\\site-packages (from jupyterlab) (23.1)\n",
      "Requirement already satisfied: tornado>=6.2.0 in c:\\users\\s\\anaconda3\\lib\\site-packages (from jupyterlab) (6.3.3)\n",
      "Requirement already satisfied: traitlets in c:\\users\\s\\anaconda3\\lib\\site-packages (from jupyterlab) (5.7.1)\n",
      "Requirement already satisfied: MarkupSafe>=2.0 in c:\\users\\s\\anaconda3\\lib\\site-packages (from jinja2>=3.0.3->jupyterlab) (2.1.3)\n",
      "Requirement already satisfied: anyio>=3.1.0 in c:\\users\\s\\anaconda3\\lib\\site-packages (from jupyter-server<3,>=2.4.0->jupyterlab) (4.2.0)\n",
      "Requirement already satisfied: argon2-cffi in c:\\users\\s\\anaconda3\\lib\\site-packages (from jupyter-server<3,>=2.4.0->jupyterlab) (21.3.0)\n",
      "Requirement already satisfied: jupyter-client>=7.4.4 in c:\\users\\s\\anaconda3\\lib\\site-packages (from jupyter-server<3,>=2.4.0->jupyterlab) (8.6.0)\n",
      "Requirement already satisfied: jupyter-events>=0.6.0 in c:\\users\\s\\anaconda3\\lib\\site-packages (from jupyter-server<3,>=2.4.0->jupyterlab) (0.8.0)\n",
      "Requirement already satisfied: jupyter-server-terminals in c:\\users\\s\\anaconda3\\lib\\site-packages (from jupyter-server<3,>=2.4.0->jupyterlab) (0.4.4)\n",
      "Requirement already satisfied: nbconvert>=6.4.4 in c:\\users\\s\\anaconda3\\lib\\site-packages (from jupyter-server<3,>=2.4.0->jupyterlab) (7.10.0)\n",
      "Requirement already satisfied: nbformat>=5.3.0 in c:\\users\\s\\anaconda3\\lib\\site-packages (from jupyter-server<3,>=2.4.0->jupyterlab) (5.9.2)\n",
      "Requirement already satisfied: overrides in c:\\users\\s\\anaconda3\\lib\\site-packages (from jupyter-server<3,>=2.4.0->jupyterlab) (7.4.0)\n",
      "Requirement already satisfied: prometheus-client in c:\\users\\s\\anaconda3\\lib\\site-packages (from jupyter-server<3,>=2.4.0->jupyterlab) (0.14.1)\n",
      "Requirement already satisfied: pywinpty in c:\\users\\s\\anaconda3\\lib\\site-packages (from jupyter-server<3,>=2.4.0->jupyterlab) (2.0.10)\n",
      "Requirement already satisfied: pyzmq>=24 in c:\\users\\s\\anaconda3\\lib\\site-packages (from jupyter-server<3,>=2.4.0->jupyterlab) (25.1.2)\n",
      "Requirement already satisfied: send2trash>=1.8.2 in c:\\users\\s\\anaconda3\\lib\\site-packages (from jupyter-server<3,>=2.4.0->jupyterlab) (1.8.2)\n",
      "Requirement already satisfied: terminado>=0.8.3 in c:\\users\\s\\anaconda3\\lib\\site-packages (from jupyter-server<3,>=2.4.0->jupyterlab) (0.17.1)\n",
      "Requirement already satisfied: websocket-client in c:\\users\\s\\anaconda3\\lib\\site-packages (from jupyter-server<3,>=2.4.0->jupyterlab) (0.58.0)\n",
      "Requirement already satisfied: platformdirs>=2.5 in c:\\users\\s\\anaconda3\\lib\\site-packages (from jupyter-core->jupyterlab) (3.10.0)\n",
      "Requirement already satisfied: pywin32>=300 in c:\\users\\s\\anaconda3\\lib\\site-packages (from jupyter-core->jupyterlab) (305.1)\n",
      "Requirement already satisfied: babel>=2.10 in c:\\users\\s\\anaconda3\\lib\\site-packages (from jupyterlab-server<3,>=2.19.0->jupyterlab) (2.11.0)\n",
      "Requirement already satisfied: json5>=0.9.0 in c:\\users\\s\\anaconda3\\lib\\site-packages (from jupyterlab-server<3,>=2.19.0->jupyterlab) (0.9.6)\n",
      "Requirement already satisfied: jsonschema>=4.18.0 in c:\\users\\s\\anaconda3\\lib\\site-packages (from jupyterlab-server<3,>=2.19.0->jupyterlab) (4.19.2)\n",
      "Requirement already satisfied: requests>=2.31 in c:\\users\\s\\anaconda3\\lib\\site-packages (from jupyterlab-server<3,>=2.19.0->jupyterlab) (2.31.0)\n",
      "Requirement already satisfied: comm>=0.1.1 in c:\\users\\s\\anaconda3\\lib\\site-packages (from ipykernel->jupyterlab) (0.1.2)\n",
      "Requirement already satisfied: debugpy>=1.6.5 in c:\\users\\s\\anaconda3\\lib\\site-packages (from ipykernel->jupyterlab) (1.6.7)\n",
      "Requirement already satisfied: ipython>=7.23.1 in c:\\users\\s\\anaconda3\\lib\\site-packages (from ipykernel->jupyterlab) (8.20.0)\n",
      "Requirement already satisfied: matplotlib-inline>=0.1 in c:\\users\\s\\anaconda3\\lib\\site-packages (from ipykernel->jupyterlab) (0.1.6)\n",
      "Requirement already satisfied: nest-asyncio in c:\\users\\s\\anaconda3\\lib\\site-packages (from ipykernel->jupyterlab) (1.6.0)\n",
      "Requirement already satisfied: psutil in c:\\users\\s\\anaconda3\\lib\\site-packages (from ipykernel->jupyterlab) (5.9.0)\n",
      "Requirement already satisfied: idna>=2.8 in c:\\users\\s\\anaconda3\\lib\\site-packages (from anyio>=3.1.0->jupyter-server<3,>=2.4.0->jupyterlab) (3.4)\n",
      "Requirement already satisfied: sniffio>=1.1 in c:\\users\\s\\anaconda3\\lib\\site-packages (from anyio>=3.1.0->jupyter-server<3,>=2.4.0->jupyterlab) (1.3.0)\n",
      "Requirement already satisfied: pytz>=2015.7 in c:\\users\\s\\anaconda3\\lib\\site-packages (from babel>=2.10->jupyterlab-server<3,>=2.19.0->jupyterlab) (2023.3.post1)\n",
      "Requirement already satisfied: decorator in c:\\users\\s\\anaconda3\\lib\\site-packages (from ipython>=7.23.1->ipykernel->jupyterlab) (5.1.1)\n",
      "Requirement already satisfied: jedi>=0.16 in c:\\users\\s\\anaconda3\\lib\\site-packages (from ipython>=7.23.1->ipykernel->jupyterlab) (0.18.1)\n",
      "Requirement already satisfied: prompt-toolkit<3.1.0,>=3.0.41 in c:\\users\\s\\anaconda3\\lib\\site-packages (from ipython>=7.23.1->ipykernel->jupyterlab) (3.0.43)\n",
      "Requirement already satisfied: pygments>=2.4.0 in c:\\users\\s\\anaconda3\\lib\\site-packages (from ipython>=7.23.1->ipykernel->jupyterlab) (2.15.1)\n",
      "Requirement already satisfied: stack-data in c:\\users\\s\\anaconda3\\lib\\site-packages (from ipython>=7.23.1->ipykernel->jupyterlab) (0.2.0)\n",
      "Requirement already satisfied: colorama in c:\\users\\s\\anaconda3\\lib\\site-packages (from ipython>=7.23.1->ipykernel->jupyterlab) (0.4.6)\n",
      "Requirement already satisfied: attrs>=22.2.0 in c:\\users\\s\\anaconda3\\lib\\site-packages (from jsonschema>=4.18.0->jupyterlab-server<3,>=2.19.0->jupyterlab) (23.1.0)\n",
      "Requirement already satisfied: jsonschema-specifications>=2023.03.6 in c:\\users\\s\\anaconda3\\lib\\site-packages (from jsonschema>=4.18.0->jupyterlab-server<3,>=2.19.0->jupyterlab) (2023.7.1)\n",
      "Requirement already satisfied: referencing>=0.28.4 in c:\\users\\s\\anaconda3\\lib\\site-packages (from jsonschema>=4.18.0->jupyterlab-server<3,>=2.19.0->jupyterlab) (0.30.2)\n",
      "Requirement already satisfied: rpds-py>=0.7.1 in c:\\users\\s\\anaconda3\\lib\\site-packages (from jsonschema>=4.18.0->jupyterlab-server<3,>=2.19.0->jupyterlab) (0.10.6)\n",
      "Requirement already satisfied: python-dateutil>=2.8.2 in c:\\users\\s\\anaconda3\\lib\\site-packages (from jupyter-client>=7.4.4->jupyter-server<3,>=2.4.0->jupyterlab) (2.8.2)\n",
      "Requirement already satisfied: python-json-logger>=2.0.4 in c:\\users\\s\\anaconda3\\lib\\site-packages (from jupyter-events>=0.6.0->jupyter-server<3,>=2.4.0->jupyterlab) (2.0.7)\n",
      "Requirement already satisfied: pyyaml>=5.3 in c:\\users\\s\\anaconda3\\lib\\site-packages (from jupyter-events>=0.6.0->jupyter-server<3,>=2.4.0->jupyterlab) (6.0.1)\n",
      "Requirement already satisfied: rfc3339-validator in c:\\users\\s\\anaconda3\\lib\\site-packages (from jupyter-events>=0.6.0->jupyter-server<3,>=2.4.0->jupyterlab) (0.1.4)\n",
      "Requirement already satisfied: rfc3986-validator>=0.1.1 in c:\\users\\s\\anaconda3\\lib\\site-packages (from jupyter-events>=0.6.0->jupyter-server<3,>=2.4.0->jupyterlab) (0.1.1)\n",
      "Requirement already satisfied: beautifulsoup4 in c:\\users\\s\\anaconda3\\lib\\site-packages (from nbconvert>=6.4.4->jupyter-server<3,>=2.4.0->jupyterlab) (4.12.2)\n",
      "Requirement already satisfied: bleach!=5.0.0 in c:\\users\\s\\anaconda3\\lib\\site-packages (from nbconvert>=6.4.4->jupyter-server<3,>=2.4.0->jupyterlab) (4.1.0)\n",
      "Requirement already satisfied: defusedxml in c:\\users\\s\\anaconda3\\lib\\site-packages (from nbconvert>=6.4.4->jupyter-server<3,>=2.4.0->jupyterlab) (0.7.1)\n",
      "Requirement already satisfied: jupyterlab-pygments in c:\\users\\s\\anaconda3\\lib\\site-packages (from nbconvert>=6.4.4->jupyter-server<3,>=2.4.0->jupyterlab) (0.1.2)\n",
      "Requirement already satisfied: mistune<4,>=2.0.3 in c:\\users\\s\\anaconda3\\lib\\site-packages (from nbconvert>=6.4.4->jupyter-server<3,>=2.4.0->jupyterlab) (2.0.4)\n",
      "Requirement already satisfied: nbclient>=0.5.0 in c:\\users\\s\\anaconda3\\lib\\site-packages (from nbconvert>=6.4.4->jupyter-server<3,>=2.4.0->jupyterlab) (0.8.0)\n",
      "Requirement already satisfied: pandocfilters>=1.4.1 in c:\\users\\s\\anaconda3\\lib\\site-packages (from nbconvert>=6.4.4->jupyter-server<3,>=2.4.0->jupyterlab) (1.5.0)\n",
      "Requirement already satisfied: tinycss2 in c:\\users\\s\\anaconda3\\lib\\site-packages (from nbconvert>=6.4.4->jupyter-server<3,>=2.4.0->jupyterlab) (1.2.1)\n",
      "Requirement already satisfied: fastjsonschema in c:\\users\\s\\anaconda3\\lib\\site-packages (from nbformat>=5.3.0->jupyter-server<3,>=2.4.0->jupyterlab) (2.16.2)\n",
      "Requirement already satisfied: charset-normalizer<4,>=2 in c:\\users\\s\\anaconda3\\lib\\site-packages (from requests>=2.31->jupyterlab-server<3,>=2.19.0->jupyterlab) (2.0.4)\n",
      "Requirement already satisfied: urllib3<3,>=1.21.1 in c:\\users\\s\\anaconda3\\lib\\site-packages (from requests>=2.31->jupyterlab-server<3,>=2.19.0->jupyterlab) (2.0.7)\n",
      "Requirement already satisfied: certifi>=2017.4.17 in c:\\users\\s\\anaconda3\\lib\\site-packages (from requests>=2.31->jupyterlab-server<3,>=2.19.0->jupyterlab) (2024.2.2)\n",
      "Requirement already satisfied: argon2-cffi-bindings in c:\\users\\s\\anaconda3\\lib\\site-packages (from argon2-cffi->jupyter-server<3,>=2.4.0->jupyterlab) (21.2.0)\n",
      "Requirement already satisfied: six in c:\\users\\s\\anaconda3\\lib\\site-packages (from websocket-client->jupyter-server<3,>=2.4.0->jupyterlab) (1.16.0)\n",
      "Requirement already satisfied: webencodings in c:\\users\\s\\anaconda3\\lib\\site-packages (from bleach!=5.0.0->nbconvert>=6.4.4->jupyter-server<3,>=2.4.0->jupyterlab) (0.5.1)\n",
      "Requirement already satisfied: parso<0.9.0,>=0.8.0 in c:\\users\\s\\anaconda3\\lib\\site-packages (from jedi>=0.16->ipython>=7.23.1->ipykernel->jupyterlab) (0.8.3)\n",
      "Requirement already satisfied: fqdn in c:\\users\\s\\anaconda3\\lib\\site-packages (from jsonschema[format-nongpl]>=4.18.0->jupyter-events>=0.6.0->jupyter-server<3,>=2.4.0->jupyterlab) (1.5.1)\n",
      "Requirement already satisfied: isoduration in c:\\users\\s\\anaconda3\\lib\\site-packages (from jsonschema[format-nongpl]>=4.18.0->jupyter-events>=0.6.0->jupyter-server<3,>=2.4.0->jupyterlab) (20.11.0)\n",
      "Requirement already satisfied: jsonpointer>1.13 in c:\\users\\s\\anaconda3\\lib\\site-packages (from jsonschema[format-nongpl]>=4.18.0->jupyter-events>=0.6.0->jupyter-server<3,>=2.4.0->jupyterlab) (2.1)\n",
      "Requirement already satisfied: uri-template in c:\\users\\s\\anaconda3\\lib\\site-packages (from jsonschema[format-nongpl]>=4.18.0->jupyter-events>=0.6.0->jupyter-server<3,>=2.4.0->jupyterlab) (1.3.0)\n",
      "Requirement already satisfied: webcolors>=1.11 in c:\\users\\s\\anaconda3\\lib\\site-packages (from jsonschema[format-nongpl]>=4.18.0->jupyter-events>=0.6.0->jupyter-server<3,>=2.4.0->jupyterlab) (24.6.0)\n",
      "Requirement already satisfied: wcwidth in c:\\users\\s\\anaconda3\\lib\\site-packages (from prompt-toolkit<3.1.0,>=3.0.41->ipython>=7.23.1->ipykernel->jupyterlab) (0.2.5)\n",
      "Requirement already satisfied: cffi>=1.0.1 in c:\\users\\s\\anaconda3\\lib\\site-packages (from argon2-cffi-bindings->argon2-cffi->jupyter-server<3,>=2.4.0->jupyterlab) (1.16.0)\n",
      "Requirement already satisfied: soupsieve>1.2 in c:\\users\\s\\anaconda3\\lib\\site-packages (from beautifulsoup4->nbconvert>=6.4.4->jupyter-server<3,>=2.4.0->jupyterlab) (2.5)\n",
      "Requirement already satisfied: executing in c:\\users\\s\\anaconda3\\lib\\site-packages (from stack-data->ipython>=7.23.1->ipykernel->jupyterlab) (0.8.3)\n",
      "Requirement already satisfied: asttokens in c:\\users\\s\\anaconda3\\lib\\site-packages (from stack-data->ipython>=7.23.1->ipykernel->jupyterlab) (2.0.5)\n",
      "Requirement already satisfied: pure-eval in c:\\users\\s\\anaconda3\\lib\\site-packages (from stack-data->ipython>=7.23.1->ipykernel->jupyterlab) (0.2.2)\n",
      "Requirement already satisfied: pycparser in c:\\users\\s\\anaconda3\\lib\\site-packages (from cffi>=1.0.1->argon2-cffi-bindings->argon2-cffi->jupyter-server<3,>=2.4.0->jupyterlab) (2.21)\n",
      "Requirement already satisfied: arrow>=0.15.0 in c:\\users\\s\\anaconda3\\lib\\site-packages (from isoduration->jsonschema[format-nongpl]>=4.18.0->jupyter-events>=0.6.0->jupyter-server<3,>=2.4.0->jupyterlab) (1.2.3)\n",
      "Note: you may need to restart the kernel to use updated packages.\n"
     ]
    }
   ],
   "source": [
    "pip install jupyterlab"
   ]
  },
  {
   "cell_type": "code",
   "execution_count": 111,
   "id": "68348b58-b7c0-4159-bcea-77eff75f3ab9",
   "metadata": {},
   "outputs": [
    {
     "name": "stdout",
     "output_type": "stream",
     "text": [
      "Collecting jupyterlab-git\n",
      "  Downloading jupyterlab_git-0.50.1-py3-none-any.whl.metadata (32 kB)\n",
      "Requirement already satisfied: jupyter-server<3,>=2.0.1 in c:\\users\\s\\anaconda3\\lib\\site-packages (from jupyterlab-git) (2.10.0)\n",
      "Collecting nbdime~=4.0.1 (from jupyterlab-git)\n",
      "  Downloading nbdime-4.0.1-py3-none-any.whl.metadata (9.5 kB)\n",
      "Requirement already satisfied: nbformat in c:\\users\\s\\anaconda3\\lib\\site-packages (from jupyterlab-git) (5.9.2)\n",
      "Requirement already satisfied: packaging in c:\\users\\s\\anaconda3\\lib\\site-packages (from jupyterlab-git) (23.1)\n",
      "Requirement already satisfied: pexpect in c:\\users\\s\\anaconda3\\lib\\site-packages (from jupyterlab-git) (4.8.0)\n",
      "Requirement already satisfied: traitlets~=5.0 in c:\\users\\s\\anaconda3\\lib\\site-packages (from jupyterlab-git) (5.7.1)\n",
      "Requirement already satisfied: anyio>=3.1.0 in c:\\users\\s\\anaconda3\\lib\\site-packages (from jupyter-server<3,>=2.0.1->jupyterlab-git) (4.2.0)\n",
      "Requirement already satisfied: argon2-cffi in c:\\users\\s\\anaconda3\\lib\\site-packages (from jupyter-server<3,>=2.0.1->jupyterlab-git) (21.3.0)\n",
      "Requirement already satisfied: jinja2 in c:\\users\\s\\anaconda3\\lib\\site-packages (from jupyter-server<3,>=2.0.1->jupyterlab-git) (3.1.3)\n",
      "Requirement already satisfied: jupyter-client>=7.4.4 in c:\\users\\s\\anaconda3\\lib\\site-packages (from jupyter-server<3,>=2.0.1->jupyterlab-git) (8.6.0)\n",
      "Requirement already satisfied: jupyter-core!=5.0.*,>=4.12 in c:\\users\\s\\anaconda3\\lib\\site-packages (from jupyter-server<3,>=2.0.1->jupyterlab-git) (5.5.0)\n",
      "Requirement already satisfied: jupyter-events>=0.6.0 in c:\\users\\s\\anaconda3\\lib\\site-packages (from jupyter-server<3,>=2.0.1->jupyterlab-git) (0.8.0)\n",
      "Requirement already satisfied: jupyter-server-terminals in c:\\users\\s\\anaconda3\\lib\\site-packages (from jupyter-server<3,>=2.0.1->jupyterlab-git) (0.4.4)\n",
      "Requirement already satisfied: nbconvert>=6.4.4 in c:\\users\\s\\anaconda3\\lib\\site-packages (from jupyter-server<3,>=2.0.1->jupyterlab-git) (7.10.0)\n",
      "Requirement already satisfied: overrides in c:\\users\\s\\anaconda3\\lib\\site-packages (from jupyter-server<3,>=2.0.1->jupyterlab-git) (7.4.0)\n",
      "Requirement already satisfied: prometheus-client in c:\\users\\s\\anaconda3\\lib\\site-packages (from jupyter-server<3,>=2.0.1->jupyterlab-git) (0.14.1)\n",
      "Requirement already satisfied: pywinpty in c:\\users\\s\\anaconda3\\lib\\site-packages (from jupyter-server<3,>=2.0.1->jupyterlab-git) (2.0.10)\n",
      "Requirement already satisfied: pyzmq>=24 in c:\\users\\s\\anaconda3\\lib\\site-packages (from jupyter-server<3,>=2.0.1->jupyterlab-git) (25.1.2)\n",
      "Requirement already satisfied: send2trash>=1.8.2 in c:\\users\\s\\anaconda3\\lib\\site-packages (from jupyter-server<3,>=2.0.1->jupyterlab-git) (1.8.2)\n",
      "Requirement already satisfied: terminado>=0.8.3 in c:\\users\\s\\anaconda3\\lib\\site-packages (from jupyter-server<3,>=2.0.1->jupyterlab-git) (0.17.1)\n",
      "Requirement already satisfied: tornado>=6.2.0 in c:\\users\\s\\anaconda3\\lib\\site-packages (from jupyter-server<3,>=2.0.1->jupyterlab-git) (6.3.3)\n",
      "Requirement already satisfied: websocket-client in c:\\users\\s\\anaconda3\\lib\\site-packages (from jupyter-server<3,>=2.0.1->jupyterlab-git) (0.58.0)\n",
      "Requirement already satisfied: colorama in c:\\users\\s\\anaconda3\\lib\\site-packages (from nbdime~=4.0.1->jupyterlab-git) (0.4.6)\n",
      "Requirement already satisfied: gitpython!=2.1.4,!=2.1.5,!=2.1.6 in c:\\users\\s\\anaconda3\\lib\\site-packages (from nbdime~=4.0.1->jupyterlab-git) (3.1.37)\n",
      "Collecting jupyter-server-mathjax>=0.2.2 (from nbdime~=4.0.1->jupyterlab-git)\n",
      "  Downloading jupyter_server_mathjax-0.2.6-py3-none-any.whl.metadata (2.1 kB)\n",
      "Requirement already satisfied: pygments in c:\\users\\s\\anaconda3\\lib\\site-packages (from nbdime~=4.0.1->jupyterlab-git) (2.15.1)\n",
      "Requirement already satisfied: requests in c:\\users\\s\\anaconda3\\lib\\site-packages (from nbdime~=4.0.1->jupyterlab-git) (2.31.0)\n",
      "Requirement already satisfied: fastjsonschema in c:\\users\\s\\anaconda3\\lib\\site-packages (from nbformat->jupyterlab-git) (2.16.2)\n",
      "Requirement already satisfied: jsonschema>=2.6 in c:\\users\\s\\anaconda3\\lib\\site-packages (from nbformat->jupyterlab-git) (4.19.2)\n",
      "Requirement already satisfied: ptyprocess>=0.5 in c:\\users\\s\\anaconda3\\lib\\site-packages (from pexpect->jupyterlab-git) (0.7.0)\n",
      "Requirement already satisfied: idna>=2.8 in c:\\users\\s\\anaconda3\\lib\\site-packages (from anyio>=3.1.0->jupyter-server<3,>=2.0.1->jupyterlab-git) (3.4)\n",
      "Requirement already satisfied: sniffio>=1.1 in c:\\users\\s\\anaconda3\\lib\\site-packages (from anyio>=3.1.0->jupyter-server<3,>=2.0.1->jupyterlab-git) (1.3.0)\n",
      "Requirement already satisfied: gitdb<5,>=4.0.1 in c:\\users\\s\\anaconda3\\lib\\site-packages (from gitpython!=2.1.4,!=2.1.5,!=2.1.6->nbdime~=4.0.1->jupyterlab-git) (4.0.7)\n",
      "Requirement already satisfied: MarkupSafe>=2.0 in c:\\users\\s\\anaconda3\\lib\\site-packages (from jinja2->jupyter-server<3,>=2.0.1->jupyterlab-git) (2.1.3)\n",
      "Requirement already satisfied: attrs>=22.2.0 in c:\\users\\s\\anaconda3\\lib\\site-packages (from jsonschema>=2.6->nbformat->jupyterlab-git) (23.1.0)\n",
      "Requirement already satisfied: jsonschema-specifications>=2023.03.6 in c:\\users\\s\\anaconda3\\lib\\site-packages (from jsonschema>=2.6->nbformat->jupyterlab-git) (2023.7.1)\n",
      "Requirement already satisfied: referencing>=0.28.4 in c:\\users\\s\\anaconda3\\lib\\site-packages (from jsonschema>=2.6->nbformat->jupyterlab-git) (0.30.2)\n",
      "Requirement already satisfied: rpds-py>=0.7.1 in c:\\users\\s\\anaconda3\\lib\\site-packages (from jsonschema>=2.6->nbformat->jupyterlab-git) (0.10.6)\n",
      "Requirement already satisfied: python-dateutil>=2.8.2 in c:\\users\\s\\anaconda3\\lib\\site-packages (from jupyter-client>=7.4.4->jupyter-server<3,>=2.0.1->jupyterlab-git) (2.8.2)\n",
      "Requirement already satisfied: platformdirs>=2.5 in c:\\users\\s\\anaconda3\\lib\\site-packages (from jupyter-core!=5.0.*,>=4.12->jupyter-server<3,>=2.0.1->jupyterlab-git) (3.10.0)\n",
      "Requirement already satisfied: pywin32>=300 in c:\\users\\s\\anaconda3\\lib\\site-packages (from jupyter-core!=5.0.*,>=4.12->jupyter-server<3,>=2.0.1->jupyterlab-git) (305.1)\n",
      "Requirement already satisfied: python-json-logger>=2.0.4 in c:\\users\\s\\anaconda3\\lib\\site-packages (from jupyter-events>=0.6.0->jupyter-server<3,>=2.0.1->jupyterlab-git) (2.0.7)\n",
      "Requirement already satisfied: pyyaml>=5.3 in c:\\users\\s\\anaconda3\\lib\\site-packages (from jupyter-events>=0.6.0->jupyter-server<3,>=2.0.1->jupyterlab-git) (6.0.1)\n",
      "Requirement already satisfied: rfc3339-validator in c:\\users\\s\\anaconda3\\lib\\site-packages (from jupyter-events>=0.6.0->jupyter-server<3,>=2.0.1->jupyterlab-git) (0.1.4)\n",
      "Requirement already satisfied: rfc3986-validator>=0.1.1 in c:\\users\\s\\anaconda3\\lib\\site-packages (from jupyter-events>=0.6.0->jupyter-server<3,>=2.0.1->jupyterlab-git) (0.1.1)\n",
      "Requirement already satisfied: beautifulsoup4 in c:\\users\\s\\anaconda3\\lib\\site-packages (from nbconvert>=6.4.4->jupyter-server<3,>=2.0.1->jupyterlab-git) (4.12.2)\n",
      "Requirement already satisfied: bleach!=5.0.0 in c:\\users\\s\\anaconda3\\lib\\site-packages (from nbconvert>=6.4.4->jupyter-server<3,>=2.0.1->jupyterlab-git) (4.1.0)\n",
      "Requirement already satisfied: defusedxml in c:\\users\\s\\anaconda3\\lib\\site-packages (from nbconvert>=6.4.4->jupyter-server<3,>=2.0.1->jupyterlab-git) (0.7.1)\n",
      "Requirement already satisfied: jupyterlab-pygments in c:\\users\\s\\anaconda3\\lib\\site-packages (from nbconvert>=6.4.4->jupyter-server<3,>=2.0.1->jupyterlab-git) (0.1.2)\n",
      "Requirement already satisfied: mistune<4,>=2.0.3 in c:\\users\\s\\anaconda3\\lib\\site-packages (from nbconvert>=6.4.4->jupyter-server<3,>=2.0.1->jupyterlab-git) (2.0.4)\n",
      "Requirement already satisfied: nbclient>=0.5.0 in c:\\users\\s\\anaconda3\\lib\\site-packages (from nbconvert>=6.4.4->jupyter-server<3,>=2.0.1->jupyterlab-git) (0.8.0)\n",
      "Requirement already satisfied: pandocfilters>=1.4.1 in c:\\users\\s\\anaconda3\\lib\\site-packages (from nbconvert>=6.4.4->jupyter-server<3,>=2.0.1->jupyterlab-git) (1.5.0)\n",
      "Requirement already satisfied: tinycss2 in c:\\users\\s\\anaconda3\\lib\\site-packages (from nbconvert>=6.4.4->jupyter-server<3,>=2.0.1->jupyterlab-git) (1.2.1)\n",
      "Requirement already satisfied: argon2-cffi-bindings in c:\\users\\s\\anaconda3\\lib\\site-packages (from argon2-cffi->jupyter-server<3,>=2.0.1->jupyterlab-git) (21.2.0)\n",
      "Requirement already satisfied: charset-normalizer<4,>=2 in c:\\users\\s\\anaconda3\\lib\\site-packages (from requests->nbdime~=4.0.1->jupyterlab-git) (2.0.4)\n",
      "Requirement already satisfied: urllib3<3,>=1.21.1 in c:\\users\\s\\anaconda3\\lib\\site-packages (from requests->nbdime~=4.0.1->jupyterlab-git) (2.0.7)\n",
      "Requirement already satisfied: certifi>=2017.4.17 in c:\\users\\s\\anaconda3\\lib\\site-packages (from requests->nbdime~=4.0.1->jupyterlab-git) (2024.2.2)\n",
      "Requirement already satisfied: six in c:\\users\\s\\anaconda3\\lib\\site-packages (from websocket-client->jupyter-server<3,>=2.0.1->jupyterlab-git) (1.16.0)\n",
      "Requirement already satisfied: webencodings in c:\\users\\s\\anaconda3\\lib\\site-packages (from bleach!=5.0.0->nbconvert>=6.4.4->jupyter-server<3,>=2.0.1->jupyterlab-git) (0.5.1)\n",
      "Requirement already satisfied: smmap<5,>=3.0.1 in c:\\users\\s\\anaconda3\\lib\\site-packages (from gitdb<5,>=4.0.1->gitpython!=2.1.4,!=2.1.5,!=2.1.6->nbdime~=4.0.1->jupyterlab-git) (4.0.0)\n",
      "Collecting fqdn (from jsonschema[format-nongpl]>=4.18.0->jupyter-events>=0.6.0->jupyter-server<3,>=2.0.1->jupyterlab-git)\n",
      "  Downloading fqdn-1.5.1-py3-none-any.whl.metadata (1.4 kB)\n",
      "Collecting isoduration (from jsonschema[format-nongpl]>=4.18.0->jupyter-events>=0.6.0->jupyter-server<3,>=2.0.1->jupyterlab-git)\n",
      "  Downloading isoduration-20.11.0-py3-none-any.whl.metadata (5.7 kB)\n",
      "Requirement already satisfied: jsonpointer>1.13 in c:\\users\\s\\anaconda3\\lib\\site-packages (from jsonschema[format-nongpl]>=4.18.0->jupyter-events>=0.6.0->jupyter-server<3,>=2.0.1->jupyterlab-git) (2.1)\n",
      "Collecting uri-template (from jsonschema[format-nongpl]>=4.18.0->jupyter-events>=0.6.0->jupyter-server<3,>=2.0.1->jupyterlab-git)\n",
      "  Downloading uri_template-1.3.0-py3-none-any.whl.metadata (8.8 kB)\n",
      "Collecting webcolors>=1.11 (from jsonschema[format-nongpl]>=4.18.0->jupyter-events>=0.6.0->jupyter-server<3,>=2.0.1->jupyterlab-git)\n",
      "  Downloading webcolors-24.6.0-py3-none-any.whl.metadata (2.6 kB)\n",
      "Requirement already satisfied: cffi>=1.0.1 in c:\\users\\s\\anaconda3\\lib\\site-packages (from argon2-cffi-bindings->argon2-cffi->jupyter-server<3,>=2.0.1->jupyterlab-git) (1.16.0)\n",
      "Requirement already satisfied: soupsieve>1.2 in c:\\users\\s\\anaconda3\\lib\\site-packages (from beautifulsoup4->nbconvert>=6.4.4->jupyter-server<3,>=2.0.1->jupyterlab-git) (2.5)\n",
      "Requirement already satisfied: pycparser in c:\\users\\s\\anaconda3\\lib\\site-packages (from cffi>=1.0.1->argon2-cffi-bindings->argon2-cffi->jupyter-server<3,>=2.0.1->jupyterlab-git) (2.21)\n",
      "Requirement already satisfied: arrow>=0.15.0 in c:\\users\\s\\anaconda3\\lib\\site-packages (from isoduration->jsonschema[format-nongpl]>=4.18.0->jupyter-events>=0.6.0->jupyter-server<3,>=2.0.1->jupyterlab-git) (1.2.3)\n",
      "Downloading jupyterlab_git-0.50.1-py3-none-any.whl (1.2 MB)\n",
      "   ---------------------------------------- 0.0/1.2 MB ? eta -:--:--\n",
      "   - -------------------------------------- 0.0/1.2 MB 660.6 kB/s eta 0:00:02\n",
      "   --- ------------------------------------ 0.1/1.2 MB 1.1 MB/s eta 0:00:02\n",
      "   ---- ----------------------------------- 0.1/1.2 MB 1.1 MB/s eta 0:00:01\n",
      "   ------- -------------------------------- 0.2/1.2 MB 1.1 MB/s eta 0:00:01\n",
      "   ------- -------------------------------- 0.2/1.2 MB 1.1 MB/s eta 0:00:01\n",
      "   ------- -------------------------------- 0.2/1.2 MB 1.1 MB/s eta 0:00:01\n",
      "   --------- ------------------------------ 0.3/1.2 MB 862.0 kB/s eta 0:00:02\n",
      "   ----------- ---------------------------- 0.3/1.2 MB 853.3 kB/s eta 0:00:01\n",
      "   ------------- -------------------------- 0.4/1.2 MB 958.4 kB/s eta 0:00:01\n",
      "   ----------------- ---------------------- 0.5/1.2 MB 1.1 MB/s eta 0:00:01\n",
      "   -------------------- ------------------- 0.6/1.2 MB 1.1 MB/s eta 0:00:01\n",
      "   ----------------------- ---------------- 0.7/1.2 MB 1.2 MB/s eta 0:00:01\n",
      "   ------------------------ --------------- 0.7/1.2 MB 1.2 MB/s eta 0:00:01\n",
      "   ------------------------- -------------- 0.7/1.2 MB 1.2 MB/s eta 0:00:01\n",
      "   --------------------------- ------------ 0.8/1.2 MB 1.1 MB/s eta 0:00:01\n",
      "   ---------------------------- ----------- 0.8/1.2 MB 1.1 MB/s eta 0:00:01\n",
      "   ----------------------------- ---------- 0.9/1.2 MB 1.1 MB/s eta 0:00:01\n",
      "   ------------------------------ --------- 0.9/1.2 MB 1.1 MB/s eta 0:00:01\n",
      "   ------------------------------- -------- 0.9/1.2 MB 1.0 MB/s eta 0:00:01\n",
      "   ------------------------------- -------- 0.9/1.2 MB 1.0 MB/s eta 0:00:01\n",
      "   -------------------------------- ------- 0.9/1.2 MB 946.0 kB/s eta 0:00:01\n",
      "   -------------------------------- ------- 0.9/1.2 MB 946.0 kB/s eta 0:00:01\n",
      "   --------------------------------- ------ 1.0/1.2 MB 909.6 kB/s eta 0:00:01\n",
      "   ---------------------------------- ----- 1.0/1.2 MB 898.6 kB/s eta 0:00:01\n",
      "   ----------------------------------- ---- 1.0/1.2 MB 865.0 kB/s eta 0:00:01\n",
      "   ------------------------------------ --- 1.1/1.2 MB 856.8 kB/s eta 0:00:01\n",
      "   -------------------------------------- - 1.1/1.2 MB 865.5 kB/s eta 0:00:01\n",
      "   ---------------------------------------- 1.2/1.2 MB 870.9 kB/s eta 0:00:00\n",
      "Downloading nbdime-4.0.1-py3-none-any.whl (5.9 MB)\n",
      "   ---------------------------------------- 0.0/5.9 MB ? eta -:--:--\n",
      "    --------------------------------------- 0.1/5.9 MB 2.6 MB/s eta 0:00:03\n",
      "   - -------------------------------------- 0.2/5.9 MB 2.1 MB/s eta 0:00:03\n",
      "   - -------------------------------------- 0.2/5.9 MB 2.0 MB/s eta 0:00:03\n",
      "   - -------------------------------------- 0.3/5.9 MB 1.5 MB/s eta 0:00:04\n",
      "   -- ------------------------------------- 0.3/5.9 MB 1.4 MB/s eta 0:00:04\n",
      "   -- ------------------------------------- 0.4/5.9 MB 1.3 MB/s eta 0:00:05\n",
      "   -- ------------------------------------- 0.4/5.9 MB 1.3 MB/s eta 0:00:05\n",
      "   --- ------------------------------------ 0.5/5.9 MB 1.3 MB/s eta 0:00:05\n",
      "   --- ------------------------------------ 0.5/5.9 MB 1.3 MB/s eta 0:00:05\n",
      "   --- ------------------------------------ 0.6/5.9 MB 1.2 MB/s eta 0:00:05\n",
      "   ---- ----------------------------------- 0.6/5.9 MB 1.2 MB/s eta 0:00:05\n",
      "   ---- ----------------------------------- 0.6/5.9 MB 1.2 MB/s eta 0:00:05\n",
      "   ---- ----------------------------------- 0.7/5.9 MB 1.1 MB/s eta 0:00:05\n",
      "   ---- ----------------------------------- 0.7/5.9 MB 1.1 MB/s eta 0:00:05\n",
      "   ---- ----------------------------------- 0.7/5.9 MB 1.1 MB/s eta 0:00:05\n",
      "   ---- ----------------------------------- 0.7/5.9 MB 1.1 MB/s eta 0:00:05\n",
      "   ---- ----------------------------------- 0.7/5.9 MB 904.7 kB/s eta 0:00:06\n",
      "   ---- ----------------------------------- 0.7/5.9 MB 878.1 kB/s eta 0:00:06\n",
      "   ----- ---------------------------------- 0.8/5.9 MB 866.0 kB/s eta 0:00:06\n",
      "   ----- ---------------------------------- 0.8/5.9 MB 874.3 kB/s eta 0:00:06\n",
      "   ------ --------------------------------- 0.9/5.9 MB 919.4 kB/s eta 0:00:06\n",
      "   ------ --------------------------------- 0.9/5.9 MB 907.1 kB/s eta 0:00:06\n",
      "   ------ --------------------------------- 1.0/5.9 MB 896.7 kB/s eta 0:00:06\n",
      "   ------ --------------------------------- 1.0/5.9 MB 892.0 kB/s eta 0:00:06\n",
      "   ------- -------------------------------- 1.0/5.9 MB 882.5 kB/s eta 0:00:06\n",
      "   ------- -------------------------------- 1.1/5.9 MB 888.6 kB/s eta 0:00:06\n",
      "   ------- -------------------------------- 1.1/5.9 MB 863.0 kB/s eta 0:00:06\n",
      "   ------- -------------------------------- 1.1/5.9 MB 863.0 kB/s eta 0:00:06\n",
      "   ------- -------------------------------- 1.1/5.9 MB 815.2 kB/s eta 0:00:06\n",
      "   ------- -------------------------------- 1.1/5.9 MB 815.2 kB/s eta 0:00:06\n",
      "   ------- -------------------------------- 1.1/5.9 MB 783.9 kB/s eta 0:00:07\n",
      "   ------- -------------------------------- 1.1/5.9 MB 783.9 kB/s eta 0:00:07\n",
      "   ------- -------------------------------- 1.2/5.9 MB 749.1 kB/s eta 0:00:07\n",
      "   ------- -------------------------------- 1.2/5.9 MB 725.9 kB/s eta 0:00:07\n",
      "   ------- -------------------------------- 1.2/5.9 MB 725.9 kB/s eta 0:00:07\n",
      "   -------- ------------------------------- 1.2/5.9 MB 703.5 kB/s eta 0:00:07\n",
      "   -------- ------------------------------- 1.2/5.9 MB 696.8 kB/s eta 0:00:07\n",
      "   -------- ------------------------------- 1.2/5.9 MB 689.9 kB/s eta 0:00:07\n",
      "   -------- ------------------------------- 1.3/5.9 MB 683.0 kB/s eta 0:00:07\n",
      "   -------- ------------------------------- 1.3/5.9 MB 688.5 kB/s eta 0:00:07\n",
      "   -------- ------------------------------- 1.3/5.9 MB 676.9 kB/s eta 0:00:07\n",
      "   -------- ------------------------------- 1.3/5.9 MB 671.1 kB/s eta 0:00:07\n",
      "   --------- ------------------------------ 1.3/5.9 MB 655.2 kB/s eta 0:00:07\n",
      "   --------- ------------------------------ 1.3/5.9 MB 655.2 kB/s eta 0:00:07\n",
      "   --------- ------------------------------ 1.4/5.9 MB 640.6 kB/s eta 0:00:08\n",
      "   --------- ------------------------------ 1.4/5.9 MB 640.6 kB/s eta 0:00:08\n",
      "   --------- ------------------------------ 1.4/5.9 MB 640.6 kB/s eta 0:00:08\n",
      "   --------- ------------------------------ 1.4/5.9 MB 605.3 kB/s eta 0:00:08\n",
      "   --------- ------------------------------ 1.4/5.9 MB 597.4 kB/s eta 0:00:08\n",
      "   --------- ------------------------------ 1.4/5.9 MB 597.4 kB/s eta 0:00:08\n",
      "   --------- ------------------------------ 1.4/5.9 MB 582.5 kB/s eta 0:00:08\n",
      "   --------- ------------------------------ 1.4/5.9 MB 582.5 kB/s eta 0:00:08\n",
      "   --------- ------------------------------ 1.4/5.9 MB 568.2 kB/s eta 0:00:08\n",
      "   --------- ------------------------------ 1.4/5.9 MB 558.8 kB/s eta 0:00:09\n",
      "   --------- ------------------------------ 1.4/5.9 MB 558.8 kB/s eta 0:00:09\n",
      "   --------- ------------------------------ 1.5/5.9 MB 550.0 kB/s eta 0:00:09\n",
      "   --------- ------------------------------ 1.5/5.9 MB 538.0 kB/s eta 0:00:09\n",
      "   ---------- ----------------------------- 1.5/5.9 MB 536.2 kB/s eta 0:00:09\n",
      "   ---------- ----------------------------- 1.5/5.9 MB 533.9 kB/s eta 0:00:09\n",
      "   ---------- ----------------------------- 1.5/5.9 MB 532.3 kB/s eta 0:00:09\n",
      "   ---------- ----------------------------- 1.5/5.9 MB 533.7 kB/s eta 0:00:09\n",
      "   ---------- ----------------------------- 1.6/5.9 MB 532.7 kB/s eta 0:00:09\n",
      "   ---------- ----------------------------- 1.6/5.9 MB 527.7 kB/s eta 0:00:09\n",
      "   ---------- ----------------------------- 1.6/5.9 MB 530.4 kB/s eta 0:00:09\n",
      "   ----------- ---------------------------- 1.6/5.9 MB 532.3 kB/s eta 0:00:09\n",
      "   ----------- ---------------------------- 1.7/5.9 MB 540.7 kB/s eta 0:00:08\n",
      "   ----------- ---------------------------- 1.7/5.9 MB 535.9 kB/s eta 0:00:08\n",
      "   ----------- ---------------------------- 1.7/5.9 MB 535.9 kB/s eta 0:00:08\n",
      "   ----------- ---------------------------- 1.7/5.9 MB 535.9 kB/s eta 0:00:08\n",
      "   ----------- ---------------------------- 1.7/5.9 MB 535.9 kB/s eta 0:00:08\n",
      "   ----------- ---------------------------- 1.7/5.9 MB 514.4 kB/s eta 0:00:09\n",
      "   ----------- ---------------------------- 1.7/5.9 MB 512.8 kB/s eta 0:00:09\n",
      "   ----------- ---------------------------- 1.8/5.9 MB 511.7 kB/s eta 0:00:09\n",
      "   ------------ --------------------------- 1.8/5.9 MB 510.7 kB/s eta 0:00:09\n",
      "   ------------ --------------------------- 1.8/5.9 MB 506.0 kB/s eta 0:00:09\n",
      "   ------------ --------------------------- 1.8/5.9 MB 506.0 kB/s eta 0:00:09\n",
      "   ------------ --------------------------- 1.8/5.9 MB 506.0 kB/s eta 0:00:09\n",
      "   ------------ --------------------------- 1.8/5.9 MB 506.0 kB/s eta 0:00:09\n",
      "   ------------ --------------------------- 1.8/5.9 MB 490.9 kB/s eta 0:00:09\n",
      "   ------------ --------------------------- 1.9/5.9 MB 490.2 kB/s eta 0:00:09\n",
      "   ------------ --------------------------- 1.9/5.9 MB 488.9 kB/s eta 0:00:09\n",
      "   ------------ --------------------------- 1.9/5.9 MB 488.9 kB/s eta 0:00:09\n",
      "   ------------- -------------------------- 1.9/5.9 MB 493.5 kB/s eta 0:00:09\n",
      "   ------------- -------------------------- 2.0/5.9 MB 497.9 kB/s eta 0:00:08\n",
      "   ------------- -------------------------- 2.0/5.9 MB 502.3 kB/s eta 0:00:08\n",
      "   ------------- -------------------------- 2.1/5.9 MB 504.2 kB/s eta 0:00:08\n",
      "   -------------- ------------------------- 2.1/5.9 MB 508.9 kB/s eta 0:00:08\n",
      "   -------------- ------------------------- 2.2/5.9 MB 515.4 kB/s eta 0:00:08\n",
      "   -------------- ------------------------- 2.2/5.9 MB 517.0 kB/s eta 0:00:08\n",
      "   -------------- ------------------------- 2.2/5.9 MB 518.0 kB/s eta 0:00:08\n",
      "   --------------- ------------------------ 2.2/5.9 MB 519.5 kB/s eta 0:00:08\n",
      "   --------------- ------------------------ 2.3/5.9 MB 519.2 kB/s eta 0:00:08\n",
      "   --------------- ------------------------ 2.3/5.9 MB 518.3 kB/s eta 0:00:07\n",
      "   --------------- ------------------------ 2.3/5.9 MB 519.7 kB/s eta 0:00:07\n",
      "   --------------- ------------------------ 2.3/5.9 MB 518.4 kB/s eta 0:00:07\n",
      "   ---------------- ----------------------- 2.4/5.9 MB 520.2 kB/s eta 0:00:07\n",
      "   ---------------- ----------------------- 2.4/5.9 MB 520.2 kB/s eta 0:00:07\n",
      "   ---------------- ----------------------- 2.4/5.9 MB 510.2 kB/s eta 0:00:07\n",
      "   ---------------- ----------------------- 2.4/5.9 MB 510.2 kB/s eta 0:00:07\n",
      "   ---------------- ----------------------- 2.4/5.9 MB 510.2 kB/s eta 0:00:07\n",
      "   ---------------- ----------------------- 2.4/5.9 MB 507.6 kB/s eta 0:00:07\n",
      "   ---------------- ----------------------- 2.4/5.9 MB 507.6 kB/s eta 0:00:07\n",
      "   ---------------- ----------------------- 2.4/5.9 MB 507.6 kB/s eta 0:00:07\n",
      "   ---------------- ----------------------- 2.5/5.9 MB 497.2 kB/s eta 0:00:07\n",
      "   ---------------- ----------------------- 2.5/5.9 MB 494.6 kB/s eta 0:00:07\n",
      "   ---------------- ----------------------- 2.5/5.9 MB 494.0 kB/s eta 0:00:07\n",
      "   ---------------- ----------------------- 2.5/5.9 MB 494.0 kB/s eta 0:00:07\n",
      "   ---------------- ----------------------- 2.5/5.9 MB 494.0 kB/s eta 0:00:07\n",
      "   ---------------- ----------------------- 2.5/5.9 MB 494.0 kB/s eta 0:00:07\n",
      "   ---------------- ----------------------- 2.5/5.9 MB 494.0 kB/s eta 0:00:07\n",
      "   ---------------- ----------------------- 2.5/5.9 MB 494.0 kB/s eta 0:00:07\n",
      "   ---------------- ----------------------- 2.5/5.9 MB 469.8 kB/s eta 0:00:08\n",
      "   ---------------- ----------------------- 2.5/5.9 MB 469.8 kB/s eta 0:00:08\n",
      "   ---------------- ----------------------- 2.5/5.9 MB 469.8 kB/s eta 0:00:08\n",
      "   ---------------- ----------------------- 2.5/5.9 MB 469.8 kB/s eta 0:00:08\n",
      "   ----------------- ---------------------- 2.5/5.9 MB 457.5 kB/s eta 0:00:08\n",
      "   ----------------- ---------------------- 2.5/5.9 MB 457.5 kB/s eta 0:00:08\n",
      "   ----------------- ---------------------- 2.5/5.9 MB 457.5 kB/s eta 0:00:08\n",
      "   ----------------- ---------------------- 2.5/5.9 MB 450.9 kB/s eta 0:00:08\n",
      "   ----------------- ---------------------- 2.5/5.9 MB 450.9 kB/s eta 0:00:08\n",
      "   ----------------- ---------------------- 2.5/5.9 MB 450.9 kB/s eta 0:00:08\n",
      "   ----------------- ---------------------- 2.5/5.9 MB 440.4 kB/s eta 0:00:08\n",
      "   ----------------- ---------------------- 2.6/5.9 MB 439.3 kB/s eta 0:00:08\n",
      "   ----------------- ---------------------- 2.6/5.9 MB 439.3 kB/s eta 0:00:08\n",
      "   ----------------- ---------------------- 2.6/5.9 MB 434.0 kB/s eta 0:00:08\n",
      "   ----------------- ---------------------- 2.6/5.9 MB 435.2 kB/s eta 0:00:08\n",
      "   ----------------- ---------------------- 2.6/5.9 MB 434.7 kB/s eta 0:00:08\n",
      "   ----------------- ---------------------- 2.7/5.9 MB 435.8 kB/s eta 0:00:08\n",
      "   ------------------ --------------------- 2.7/5.9 MB 434.1 kB/s eta 0:00:08\n",
      "   ------------------ --------------------- 2.7/5.9 MB 435.2 kB/s eta 0:00:08\n",
      "   ------------------ --------------------- 2.7/5.9 MB 434.2 kB/s eta 0:00:08\n",
      "   ------------------ --------------------- 2.7/5.9 MB 434.2 kB/s eta 0:00:08\n",
      "   ------------------ --------------------- 2.7/5.9 MB 430.4 kB/s eta 0:00:08\n",
      "   ------------------ --------------------- 2.7/5.9 MB 429.4 kB/s eta 0:00:08\n",
      "   ------------------ --------------------- 2.7/5.9 MB 426.8 kB/s eta 0:00:08\n",
      "   ------------------ --------------------- 2.7/5.9 MB 426.8 kB/s eta 0:00:08\n",
      "   ------------------ --------------------- 2.7/5.9 MB 426.8 kB/s eta 0:00:08\n",
      "   ------------------ --------------------- 2.8/5.9 MB 423.9 kB/s eta 0:00:08\n",
      "   ------------------ --------------------- 2.8/5.9 MB 423.9 kB/s eta 0:00:08\n",
      "   ------------------ --------------------- 2.8/5.9 MB 418.5 kB/s eta 0:00:08\n",
      "   ------------------ --------------------- 2.8/5.9 MB 418.5 kB/s eta 0:00:08\n",
      "   ------------------- -------------------- 2.8/5.9 MB 415.7 kB/s eta 0:00:08\n",
      "   ------------------- -------------------- 2.8/5.9 MB 415.3 kB/s eta 0:00:08\n",
      "   ------------------- -------------------- 2.8/5.9 MB 414.4 kB/s eta 0:00:08\n",
      "   ------------------- -------------------- 2.8/5.9 MB 414.4 kB/s eta 0:00:08\n",
      "   ------------------- -------------------- 2.9/5.9 MB 413.7 kB/s eta 0:00:08\n",
      "   ------------------- -------------------- 2.9/5.9 MB 412.4 kB/s eta 0:00:08\n",
      "   ------------------- -------------------- 2.9/5.9 MB 412.5 kB/s eta 0:00:08\n",
      "   ------------------- -------------------- 2.9/5.9 MB 411.2 kB/s eta 0:00:08\n",
      "   ------------------- -------------------- 2.9/5.9 MB 411.4 kB/s eta 0:00:08\n",
      "   ------------------- -------------------- 2.9/5.9 MB 409.8 kB/s eta 0:00:08\n",
      "   -------------------- ------------------- 3.0/5.9 MB 409.9 kB/s eta 0:00:08\n",
      "   -------------------- ------------------- 3.0/5.9 MB 408.7 kB/s eta 0:00:08\n",
      "   -------------------- ------------------- 3.0/5.9 MB 409.8 kB/s eta 0:00:08\n",
      "   -------------------- ------------------- 3.0/5.9 MB 408.5 kB/s eta 0:00:08\n",
      "   -------------------- ------------------- 3.0/5.9 MB 408.7 kB/s eta 0:00:08\n",
      "   -------------------- ------------------- 3.1/5.9 MB 408.1 kB/s eta 0:00:08\n",
      "   -------------------- ------------------- 3.1/5.9 MB 406.9 kB/s eta 0:00:07\n",
      "   -------------------- ------------------- 3.1/5.9 MB 407.9 kB/s eta 0:00:07\n",
      "   -------------------- ------------------- 3.1/5.9 MB 407.9 kB/s eta 0:00:07\n",
      "   -------------------- ------------------- 3.1/5.9 MB 407.9 kB/s eta 0:00:07\n",
      "   --------------------- ------------------ 3.1/5.9 MB 402.8 kB/s eta 0:00:07\n",
      "   --------------------- ------------------ 3.1/5.9 MB 402.8 kB/s eta 0:00:07\n",
      "   --------------------- ------------------ 3.1/5.9 MB 402.7 kB/s eta 0:00:07\n",
      "   --------------------- ------------------ 3.2/5.9 MB 402.1 kB/s eta 0:00:07\n",
      "   --------------------- ------------------ 3.2/5.9 MB 401.8 kB/s eta 0:00:07\n",
      "   --------------------- ------------------ 3.2/5.9 MB 402.0 kB/s eta 0:00:07\n",
      "   --------------------- ------------------ 3.2/5.9 MB 402.2 kB/s eta 0:00:07\n",
      "   --------------------- ------------------ 3.2/5.9 MB 401.1 kB/s eta 0:00:07\n",
      "   --------------------- ------------------ 3.2/5.9 MB 402.1 kB/s eta 0:00:07\n",
      "   ---------------------- ----------------- 3.3/5.9 MB 401.2 kB/s eta 0:00:07\n",
      "   ---------------------- ----------------- 3.3/5.9 MB 402.2 kB/s eta 0:00:07\n",
      "   ---------------------- ----------------- 3.3/5.9 MB 402.7 kB/s eta 0:00:07\n",
      "   ---------------------- ----------------- 3.3/5.9 MB 402.9 kB/s eta 0:00:07\n",
      "   ---------------------- ----------------- 3.3/5.9 MB 401.1 kB/s eta 0:00:07\n",
      "   ---------------------- ----------------- 3.4/5.9 MB 403.0 kB/s eta 0:00:07\n",
      "   ---------------------- ----------------- 3.4/5.9 MB 402.0 kB/s eta 0:00:07\n",
      "   ----------------------- ---------------- 3.4/5.9 MB 402.2 kB/s eta 0:00:07\n",
      "   ----------------------- ---------------- 3.4/5.9 MB 401.2 kB/s eta 0:00:07\n",
      "   ----------------------- ---------------- 3.4/5.9 MB 402.1 kB/s eta 0:00:07\n",
      "   ----------------------- ---------------- 3.5/5.9 MB 402.0 kB/s eta 0:00:07\n",
      "   ----------------------- ---------------- 3.5/5.9 MB 402.0 kB/s eta 0:00:07\n",
      "   ----------------------- ---------------- 3.5/5.9 MB 401.2 kB/s eta 0:00:06\n",
      "   ----------------------- ---------------- 3.5/5.9 MB 401.2 kB/s eta 0:00:06\n",
      "   ----------------------- ---------------- 3.5/5.9 MB 401.6 kB/s eta 0:00:06\n",
      "   ------------------------ --------------- 3.6/5.9 MB 401.3 kB/s eta 0:00:06\n",
      "   ------------------------ --------------- 3.6/5.9 MB 402.0 kB/s eta 0:00:06\n",
      "   ------------------------ --------------- 3.6/5.9 MB 404.9 kB/s eta 0:00:06\n",
      "   ------------------------ --------------- 3.6/5.9 MB 404.9 kB/s eta 0:00:06\n",
      "   ------------------------ --------------- 3.7/5.9 MB 406.3 kB/s eta 0:00:06\n",
      "   ------------------------- -------------- 3.7/5.9 MB 411.0 kB/s eta 0:00:06\n",
      "   ------------------------- -------------- 3.8/5.9 MB 417.8 kB/s eta 0:00:05\n",
      "   -------------------------- ------------- 3.9/5.9 MB 423.1 kB/s eta 0:00:05\n",
      "   --------------------------- ------------ 4.0/5.9 MB 431.4 kB/s eta 0:00:05\n",
      "   --------------------------- ------------ 4.0/5.9 MB 434.0 kB/s eta 0:00:05\n",
      "   --------------------------- ------------ 4.1/5.9 MB 436.6 kB/s eta 0:00:05\n",
      "   ---------------------------- ----------- 4.2/5.9 MB 445.6 kB/s eta 0:00:04\n",
      "   ----------------------------- ---------- 4.3/5.9 MB 455.1 kB/s eta 0:00:04\n",
      "   ----------------------------- ---------- 4.4/5.9 MB 458.5 kB/s eta 0:00:04\n",
      "   ----------------------------- ---------- 4.4/5.9 MB 463.8 kB/s eta 0:00:04\n",
      "   ------------------------------ --------- 4.5/5.9 MB 471.2 kB/s eta 0:00:03\n",
      "   ------------------------------- -------- 4.6/5.9 MB 476.4 kB/s eta 0:00:03\n",
      "   ------------------------------- -------- 4.6/5.9 MB 478.3 kB/s eta 0:00:03\n",
      "   ------------------------------- -------- 4.7/5.9 MB 483.3 kB/s eta 0:00:03\n",
      "   -------------------------------- ------- 4.8/5.9 MB 490.5 kB/s eta 0:00:03\n",
      "   -------------------------------- ------- 4.9/5.9 MB 495.4 kB/s eta 0:00:03\n",
      "   --------------------------------- ------ 4.9/5.9 MB 498.3 kB/s eta 0:00:02\n",
      "   --------------------------------- ------ 4.9/5.9 MB 499.8 kB/s eta 0:00:02\n",
      "   ---------------------------------- ----- 5.1/5.9 MB 508.0 kB/s eta 0:00:02\n",
      "   ----------------------------------- ---- 5.2/5.9 MB 521.2 kB/s eta 0:00:02\n",
      "   ------------------------------------ --- 5.3/5.9 MB 530.0 kB/s eta 0:00:02\n",
      "   ------------------------------------- -- 5.5/5.9 MB 541.7 kB/s eta 0:00:01\n",
      "   -------------------------------------- - 5.6/5.9 MB 554.4 kB/s eta 0:00:01\n",
      "   -------------------------------------- - 5.7/5.9 MB 562.9 kB/s eta 0:00:01\n",
      "   ---------------------------------------  5.9/5.9 MB 575.3 kB/s eta 0:00:01\n",
      "   ---------------------------------------- 5.9/5.9 MB 573.7 kB/s eta 0:00:00\n",
      "Downloading jupyter_server_mathjax-0.2.6-py3-none-any.whl (3.1 MB)\n",
      "   ---------------------------------------- 0.0/3.1 MB ? eta -:--:--\n",
      "   - -------------------------------------- 0.1/3.1 MB 3.3 MB/s eta 0:00:01\n",
      "   -- ------------------------------------- 0.2/3.1 MB 2.8 MB/s eta 0:00:02\n",
      "   --- ------------------------------------ 0.3/3.1 MB 2.4 MB/s eta 0:00:02\n",
      "   ---- ----------------------------------- 0.4/3.1 MB 2.2 MB/s eta 0:00:02\n",
      "   ------ --------------------------------- 0.5/3.1 MB 2.3 MB/s eta 0:00:02\n",
      "   -------- ------------------------------- 0.7/3.1 MB 2.4 MB/s eta 0:00:02\n",
      "   --------- ------------------------------ 0.7/3.1 MB 2.4 MB/s eta 0:00:02\n",
      "   ----------- ---------------------------- 0.9/3.1 MB 2.5 MB/s eta 0:00:01\n",
      "   ------------ --------------------------- 0.9/3.1 MB 2.3 MB/s eta 0:00:01\n",
      "   ------------- -------------------------- 1.0/3.1 MB 2.3 MB/s eta 0:00:01\n",
      "   -------------- ------------------------- 1.1/3.1 MB 2.2 MB/s eta 0:00:01\n",
      "   --------------- ------------------------ 1.2/3.1 MB 2.2 MB/s eta 0:00:01\n",
      "   ---------------- ----------------------- 1.3/3.1 MB 2.2 MB/s eta 0:00:01\n",
      "   ------------------ --------------------- 1.5/3.1 MB 2.2 MB/s eta 0:00:01\n",
      "   -------------------- ------------------- 1.6/3.1 MB 2.2 MB/s eta 0:00:01\n",
      "   --------------------- ------------------ 1.7/3.1 MB 2.3 MB/s eta 0:00:01\n",
      "   ----------------------- ---------------- 1.8/3.1 MB 2.3 MB/s eta 0:00:01\n",
      "   ------------------------ --------------- 1.9/3.1 MB 2.3 MB/s eta 0:00:01\n",
      "   ------------------------- -------------- 2.0/3.1 MB 2.3 MB/s eta 0:00:01\n",
      "   -------------------------- ------------- 2.1/3.1 MB 2.3 MB/s eta 0:00:01\n",
      "   -------------------------- ------------- 2.1/3.1 MB 2.3 MB/s eta 0:00:01\n",
      "   --------------------------- ------------ 2.1/3.1 MB 2.1 MB/s eta 0:00:01\n",
      "   --------------------------- ------------ 2.2/3.1 MB 2.0 MB/s eta 0:00:01\n",
      "   ---------------------------- ----------- 2.2/3.1 MB 2.0 MB/s eta 0:00:01\n",
      "   ----------------------------- ---------- 2.3/3.1 MB 1.9 MB/s eta 0:00:01\n",
      "   ------------------------------- -------- 2.4/3.1 MB 2.0 MB/s eta 0:00:01\n",
      "   -------------------------------- ------- 2.5/3.1 MB 2.0 MB/s eta 0:00:01\n",
      "   --------------------------------- ------ 2.7/3.1 MB 2.0 MB/s eta 0:00:01\n",
      "   ----------------------------------- ---- 2.8/3.1 MB 2.0 MB/s eta 0:00:01\n",
      "   ------------------------------------ --- 2.9/3.1 MB 2.0 MB/s eta 0:00:01\n",
      "   -------------------------------------- - 3.0/3.1 MB 2.1 MB/s eta 0:00:01\n",
      "   ---------------------------------------  3.1/3.1 MB 2.1 MB/s eta 0:00:01\n",
      "   ---------------------------------------- 3.1/3.1 MB 2.1 MB/s eta 0:00:00\n",
      "Downloading webcolors-24.6.0-py3-none-any.whl (14 kB)\n",
      "Downloading fqdn-1.5.1-py3-none-any.whl (9.1 kB)\n",
      "Downloading isoduration-20.11.0-py3-none-any.whl (11 kB)\n",
      "Downloading uri_template-1.3.0-py3-none-any.whl (11 kB)\n",
      "Installing collected packages: webcolors, uri-template, fqdn, isoduration, jupyter-server-mathjax, nbdime, jupyterlab-git\n",
      "Successfully installed fqdn-1.5.1 isoduration-20.11.0 jupyter-server-mathjax-0.2.6 jupyterlab-git-0.50.1 nbdime-4.0.1 uri-template-1.3.0 webcolors-24.6.0\n",
      "Note: you may need to restart the kernel to use updated packages.\n"
     ]
    }
   ],
   "source": [
    "pip install jupyterlab-git"
   ]
  },
  {
   "cell_type": "code",
   "execution_count": 114,
   "id": "53a14df7-04e2-492a-baa5-e94e9f8e1fec",
   "metadata": {},
   "outputs": [
    {
     "name": "stdout",
     "output_type": "stream",
     "text": [
      "Collecting nbgitpuller\n",
      "  Downloading nbgitpuller-1.2.1-py2.py3-none-any.whl.metadata (2.8 kB)\n",
      "Requirement already satisfied: jupyter-server>=1.10.1 in c:\\users\\s\\anaconda3\\lib\\site-packages (from nbgitpuller) (2.10.0)\n",
      "Requirement already satisfied: tornado in c:\\users\\s\\anaconda3\\lib\\site-packages (from nbgitpuller) (6.3.3)\n",
      "Requirement already satisfied: anyio>=3.1.0 in c:\\users\\s\\anaconda3\\lib\\site-packages (from jupyter-server>=1.10.1->nbgitpuller) (4.2.0)\n",
      "Requirement already satisfied: argon2-cffi in c:\\users\\s\\anaconda3\\lib\\site-packages (from jupyter-server>=1.10.1->nbgitpuller) (21.3.0)\n",
      "Requirement already satisfied: jinja2 in c:\\users\\s\\anaconda3\\lib\\site-packages (from jupyter-server>=1.10.1->nbgitpuller) (3.1.3)\n",
      "Requirement already satisfied: jupyter-client>=7.4.4 in c:\\users\\s\\anaconda3\\lib\\site-packages (from jupyter-server>=1.10.1->nbgitpuller) (8.6.0)\n",
      "Requirement already satisfied: jupyter-core!=5.0.*,>=4.12 in c:\\users\\s\\anaconda3\\lib\\site-packages (from jupyter-server>=1.10.1->nbgitpuller) (5.5.0)\n",
      "Requirement already satisfied: jupyter-events>=0.6.0 in c:\\users\\s\\anaconda3\\lib\\site-packages (from jupyter-server>=1.10.1->nbgitpuller) (0.8.0)\n",
      "Requirement already satisfied: jupyter-server-terminals in c:\\users\\s\\anaconda3\\lib\\site-packages (from jupyter-server>=1.10.1->nbgitpuller) (0.4.4)\n",
      "Requirement already satisfied: nbconvert>=6.4.4 in c:\\users\\s\\anaconda3\\lib\\site-packages (from jupyter-server>=1.10.1->nbgitpuller) (7.10.0)\n",
      "Requirement already satisfied: nbformat>=5.3.0 in c:\\users\\s\\anaconda3\\lib\\site-packages (from jupyter-server>=1.10.1->nbgitpuller) (5.9.2)\n",
      "Requirement already satisfied: overrides in c:\\users\\s\\anaconda3\\lib\\site-packages (from jupyter-server>=1.10.1->nbgitpuller) (7.4.0)\n",
      "Requirement already satisfied: packaging in c:\\users\\s\\anaconda3\\lib\\site-packages (from jupyter-server>=1.10.1->nbgitpuller) (23.1)\n",
      "Requirement already satisfied: prometheus-client in c:\\users\\s\\anaconda3\\lib\\site-packages (from jupyter-server>=1.10.1->nbgitpuller) (0.14.1)\n",
      "Requirement already satisfied: pywinpty in c:\\users\\s\\anaconda3\\lib\\site-packages (from jupyter-server>=1.10.1->nbgitpuller) (2.0.10)\n",
      "Requirement already satisfied: pyzmq>=24 in c:\\users\\s\\anaconda3\\lib\\site-packages (from jupyter-server>=1.10.1->nbgitpuller) (25.1.2)\n",
      "Requirement already satisfied: send2trash>=1.8.2 in c:\\users\\s\\anaconda3\\lib\\site-packages (from jupyter-server>=1.10.1->nbgitpuller) (1.8.2)\n",
      "Requirement already satisfied: terminado>=0.8.3 in c:\\users\\s\\anaconda3\\lib\\site-packages (from jupyter-server>=1.10.1->nbgitpuller) (0.17.1)\n",
      "Requirement already satisfied: traitlets>=5.6.0 in c:\\users\\s\\anaconda3\\lib\\site-packages (from jupyter-server>=1.10.1->nbgitpuller) (5.7.1)\n",
      "Requirement already satisfied: websocket-client in c:\\users\\s\\anaconda3\\lib\\site-packages (from jupyter-server>=1.10.1->nbgitpuller) (0.58.0)\n",
      "Requirement already satisfied: idna>=2.8 in c:\\users\\s\\anaconda3\\lib\\site-packages (from anyio>=3.1.0->jupyter-server>=1.10.1->nbgitpuller) (3.4)\n",
      "Requirement already satisfied: sniffio>=1.1 in c:\\users\\s\\anaconda3\\lib\\site-packages (from anyio>=3.1.0->jupyter-server>=1.10.1->nbgitpuller) (1.3.0)\n",
      "Requirement already satisfied: python-dateutil>=2.8.2 in c:\\users\\s\\anaconda3\\lib\\site-packages (from jupyter-client>=7.4.4->jupyter-server>=1.10.1->nbgitpuller) (2.8.2)\n",
      "Requirement already satisfied: platformdirs>=2.5 in c:\\users\\s\\anaconda3\\lib\\site-packages (from jupyter-core!=5.0.*,>=4.12->jupyter-server>=1.10.1->nbgitpuller) (3.10.0)\n",
      "Requirement already satisfied: pywin32>=300 in c:\\users\\s\\anaconda3\\lib\\site-packages (from jupyter-core!=5.0.*,>=4.12->jupyter-server>=1.10.1->nbgitpuller) (305.1)\n",
      "Requirement already satisfied: jsonschema>=4.18.0 in c:\\users\\s\\anaconda3\\lib\\site-packages (from jsonschema[format-nongpl]>=4.18.0->jupyter-events>=0.6.0->jupyter-server>=1.10.1->nbgitpuller) (4.19.2)\n",
      "Requirement already satisfied: python-json-logger>=2.0.4 in c:\\users\\s\\anaconda3\\lib\\site-packages (from jupyter-events>=0.6.0->jupyter-server>=1.10.1->nbgitpuller) (2.0.7)\n",
      "Requirement already satisfied: pyyaml>=5.3 in c:\\users\\s\\anaconda3\\lib\\site-packages (from jupyter-events>=0.6.0->jupyter-server>=1.10.1->nbgitpuller) (6.0.1)\n",
      "Requirement already satisfied: referencing in c:\\users\\s\\anaconda3\\lib\\site-packages (from jupyter-events>=0.6.0->jupyter-server>=1.10.1->nbgitpuller) (0.30.2)\n",
      "Requirement already satisfied: rfc3339-validator in c:\\users\\s\\anaconda3\\lib\\site-packages (from jupyter-events>=0.6.0->jupyter-server>=1.10.1->nbgitpuller) (0.1.4)\n",
      "Requirement already satisfied: rfc3986-validator>=0.1.1 in c:\\users\\s\\anaconda3\\lib\\site-packages (from jupyter-events>=0.6.0->jupyter-server>=1.10.1->nbgitpuller) (0.1.1)\n",
      "Requirement already satisfied: beautifulsoup4 in c:\\users\\s\\anaconda3\\lib\\site-packages (from nbconvert>=6.4.4->jupyter-server>=1.10.1->nbgitpuller) (4.12.2)\n",
      "Requirement already satisfied: bleach!=5.0.0 in c:\\users\\s\\anaconda3\\lib\\site-packages (from nbconvert>=6.4.4->jupyter-server>=1.10.1->nbgitpuller) (4.1.0)\n",
      "Requirement already satisfied: defusedxml in c:\\users\\s\\anaconda3\\lib\\site-packages (from nbconvert>=6.4.4->jupyter-server>=1.10.1->nbgitpuller) (0.7.1)\n",
      "Requirement already satisfied: jupyterlab-pygments in c:\\users\\s\\anaconda3\\lib\\site-packages (from nbconvert>=6.4.4->jupyter-server>=1.10.1->nbgitpuller) (0.1.2)\n",
      "Requirement already satisfied: markupsafe>=2.0 in c:\\users\\s\\anaconda3\\lib\\site-packages (from nbconvert>=6.4.4->jupyter-server>=1.10.1->nbgitpuller) (2.1.3)\n",
      "Requirement already satisfied: mistune<4,>=2.0.3 in c:\\users\\s\\anaconda3\\lib\\site-packages (from nbconvert>=6.4.4->jupyter-server>=1.10.1->nbgitpuller) (2.0.4)\n",
      "Requirement already satisfied: nbclient>=0.5.0 in c:\\users\\s\\anaconda3\\lib\\site-packages (from nbconvert>=6.4.4->jupyter-server>=1.10.1->nbgitpuller) (0.8.0)\n",
      "Requirement already satisfied: pandocfilters>=1.4.1 in c:\\users\\s\\anaconda3\\lib\\site-packages (from nbconvert>=6.4.4->jupyter-server>=1.10.1->nbgitpuller) (1.5.0)\n",
      "Requirement already satisfied: pygments>=2.4.1 in c:\\users\\s\\anaconda3\\lib\\site-packages (from nbconvert>=6.4.4->jupyter-server>=1.10.1->nbgitpuller) (2.15.1)\n",
      "Requirement already satisfied: tinycss2 in c:\\users\\s\\anaconda3\\lib\\site-packages (from nbconvert>=6.4.4->jupyter-server>=1.10.1->nbgitpuller) (1.2.1)\n",
      "Requirement already satisfied: fastjsonschema in c:\\users\\s\\anaconda3\\lib\\site-packages (from nbformat>=5.3.0->jupyter-server>=1.10.1->nbgitpuller) (2.16.2)\n",
      "Requirement already satisfied: argon2-cffi-bindings in c:\\users\\s\\anaconda3\\lib\\site-packages (from argon2-cffi->jupyter-server>=1.10.1->nbgitpuller) (21.2.0)\n",
      "Requirement already satisfied: six in c:\\users\\s\\anaconda3\\lib\\site-packages (from websocket-client->jupyter-server>=1.10.1->nbgitpuller) (1.16.0)\n",
      "Requirement already satisfied: webencodings in c:\\users\\s\\anaconda3\\lib\\site-packages (from bleach!=5.0.0->nbconvert>=6.4.4->jupyter-server>=1.10.1->nbgitpuller) (0.5.1)\n",
      "Requirement already satisfied: attrs>=22.2.0 in c:\\users\\s\\anaconda3\\lib\\site-packages (from jsonschema>=4.18.0->jsonschema[format-nongpl]>=4.18.0->jupyter-events>=0.6.0->jupyter-server>=1.10.1->nbgitpuller) (23.1.0)\n",
      "Requirement already satisfied: jsonschema-specifications>=2023.03.6 in c:\\users\\s\\anaconda3\\lib\\site-packages (from jsonschema>=4.18.0->jsonschema[format-nongpl]>=4.18.0->jupyter-events>=0.6.0->jupyter-server>=1.10.1->nbgitpuller) (2023.7.1)\n",
      "Requirement already satisfied: rpds-py>=0.7.1 in c:\\users\\s\\anaconda3\\lib\\site-packages (from jsonschema>=4.18.0->jsonschema[format-nongpl]>=4.18.0->jupyter-events>=0.6.0->jupyter-server>=1.10.1->nbgitpuller) (0.10.6)\n",
      "Requirement already satisfied: fqdn in c:\\users\\s\\anaconda3\\lib\\site-packages (from jsonschema[format-nongpl]>=4.18.0->jupyter-events>=0.6.0->jupyter-server>=1.10.1->nbgitpuller) (1.5.1)\n",
      "Requirement already satisfied: isoduration in c:\\users\\s\\anaconda3\\lib\\site-packages (from jsonschema[format-nongpl]>=4.18.0->jupyter-events>=0.6.0->jupyter-server>=1.10.1->nbgitpuller) (20.11.0)\n",
      "Requirement already satisfied: jsonpointer>1.13 in c:\\users\\s\\anaconda3\\lib\\site-packages (from jsonschema[format-nongpl]>=4.18.0->jupyter-events>=0.6.0->jupyter-server>=1.10.1->nbgitpuller) (2.1)\n",
      "Requirement already satisfied: uri-template in c:\\users\\s\\anaconda3\\lib\\site-packages (from jsonschema[format-nongpl]>=4.18.0->jupyter-events>=0.6.0->jupyter-server>=1.10.1->nbgitpuller) (1.3.0)\n",
      "Requirement already satisfied: webcolors>=1.11 in c:\\users\\s\\anaconda3\\lib\\site-packages (from jsonschema[format-nongpl]>=4.18.0->jupyter-events>=0.6.0->jupyter-server>=1.10.1->nbgitpuller) (24.6.0)\n",
      "Requirement already satisfied: cffi>=1.0.1 in c:\\users\\s\\anaconda3\\lib\\site-packages (from argon2-cffi-bindings->argon2-cffi->jupyter-server>=1.10.1->nbgitpuller) (1.16.0)\n",
      "Requirement already satisfied: soupsieve>1.2 in c:\\users\\s\\anaconda3\\lib\\site-packages (from beautifulsoup4->nbconvert>=6.4.4->jupyter-server>=1.10.1->nbgitpuller) (2.5)\n",
      "Requirement already satisfied: pycparser in c:\\users\\s\\anaconda3\\lib\\site-packages (from cffi>=1.0.1->argon2-cffi-bindings->argon2-cffi->jupyter-server>=1.10.1->nbgitpuller) (2.21)\n",
      "Requirement already satisfied: arrow>=0.15.0 in c:\\users\\s\\anaconda3\\lib\\site-packages (from isoduration->jsonschema[format-nongpl]>=4.18.0->jupyter-events>=0.6.0->jupyter-server>=1.10.1->nbgitpuller) (1.2.3)\n",
      "Downloading nbgitpuller-1.2.1-py2.py3-none-any.whl (316 kB)\n",
      "   ---------------------------------------- 0.0/316.9 kB ? eta -:--:--\n",
      "   ---------------------------------------- 0.0/316.9 kB ? eta -:--:--\n",
      "   ---------------------------------------- 0.0/316.9 kB ? eta -:--:--\n",
      "   ---------------------------------------- 0.0/316.9 kB ? eta -:--:--\n",
      "   ---------------------------------------- 0.0/316.9 kB ? eta -:--:--\n",
      "   ---------------------------------------- 0.0/316.9 kB ? eta -:--:--\n",
      "   ---------------------------------------- 0.0/316.9 kB ? eta -:--:--\n",
      "   ----- ---------------------------------- 41.0/316.9 kB ? eta -:--:--\n",
      "   ----- ---------------------------------- 41.0/316.9 kB ? eta -:--:--\n",
      "   ------ -------------------------------- 51.2/316.9 kB 440.4 kB/s eta 0:00:01\n",
      "   -------- ------------------------------ 71.7/316.9 kB 359.3 kB/s eta 0:00:01\n",
      "   -------- ------------------------------ 71.7/316.9 kB 359.3 kB/s eta 0:00:01\n",
      "   ---------- ---------------------------- 81.9/316.9 kB 306.3 kB/s eta 0:00:01\n",
      "   ---------- ---------------------------- 81.9/316.9 kB 306.3 kB/s eta 0:00:01\n",
      "   ------------- ------------------------ 112.6/316.9 kB 285.2 kB/s eta 0:00:01\n",
      "   ------------- ------------------------ 112.6/316.9 kB 285.2 kB/s eta 0:00:01\n",
      "   ------------------------ ------------- 204.8/316.9 kB 429.5 kB/s eta 0:00:01\n",
      "   ------------------------- ------------ 215.0/316.9 kB 437.6 kB/s eta 0:00:01\n",
      "   ------------------------- ------------ 215.0/316.9 kB 437.6 kB/s eta 0:00:01\n",
      "   ------------------------------- ------ 266.2/316.9 kB 442.9 kB/s eta 0:00:01\n",
      "   ------------------------------- ------ 266.2/316.9 kB 442.9 kB/s eta 0:00:01\n",
      "   ------------------------------- ------ 266.2/316.9 kB 442.9 kB/s eta 0:00:01\n",
      "   ------------------------------------ - 307.2/316.9 kB 395.9 kB/s eta 0:00:01\n",
      "   -------------------------------------- 316.9/316.9 kB 400.8 kB/s eta 0:00:00\n",
      "Installing collected packages: nbgitpuller\n",
      "Successfully installed nbgitpuller-1.2.1\n",
      "Note: you may need to restart the kernel to use updated packages.\n"
     ]
    }
   ],
   "source": [
    "pip install nbgitpuller"
   ]
  },
  {
   "cell_type": "code",
   "execution_count": null,
   "id": "7f52b6be-9293-4037-bbfe-26219deec12b",
   "metadata": {},
   "outputs": [],
   "source": []
  }
 ],
 "metadata": {
  "kernelspec": {
   "display_name": "Python 3 (ipykernel)",
   "language": "python",
   "name": "python3"
  },
  "language_info": {
   "codemirror_mode": {
    "name": "ipython",
    "version": 3
   },
   "file_extension": ".py",
   "mimetype": "text/x-python",
   "name": "python",
   "nbconvert_exporter": "python",
   "pygments_lexer": "ipython3",
   "version": "3.11.7"
  }
 },
 "nbformat": 4,
 "nbformat_minor": 5
}
