{
 "cells": [
  {
   "cell_type": "code",
   "execution_count": 7,
   "id": "2d0b2ecf-e8e4-4996-b58a-fccac7c6db90",
   "metadata": {},
   "outputs": [
    {
     "name": "stdout",
     "output_type": "stream",
     "text": [
      "[1, 4, 9, 16, 25, 36, 49, 64, 81, 100]\n"
     ]
    }
   ],
   "source": [
    "# Create a list of squares from 1 to 10\n",
    "list=[1,2,3,4,5,6,7,8,9,10]\n",
    "sqr=[i**2 for i in list]\n",
    "print(sqr)"
   ]
  },
  {
   "cell_type": "code",
   "execution_count": 9,
   "id": "2bf58959-e6b7-4bef-a185-69c85645cc02",
   "metadata": {},
   "outputs": [
    {
     "name": "stdout",
     "output_type": "stream",
     "text": [
      "[False, True, False, True, False, True, False, True, False, True, False, True, False, True, False, True, False, True, False, True]\n"
     ]
    }
   ],
   "source": [
    "#list of even numbers from 1 to 20\n",
    "list=[1,2,3,4,5,6,7,8,9,10,11,12,13,14,15,16,17,18,19,20]\n",
    "even=[i%2==0 for i in list]\n",
    "print(even)"
   ]
  },
  {
   "cell_type": "code",
   "execution_count": 10,
   "id": "628e9c43-4202-40fd-bebb-a001b0f3d1b9",
   "metadata": {},
   "outputs": [
    {
     "name": "stdout",
     "output_type": "stream",
     "text": [
      "[2, 4, 6, 8, 10, 12, 14, 16, 18, 20]\n"
     ]
    }
   ],
   "source": [
    "#list of even numbers from 1 to 20\n",
    "list=[1,2,3,4,5,6,7,8,9,10,11,12,13,14,15,16,17,18,19,20]\n",
    "even=[i for i in list if i%2==0]\n",
    "print(even)"
   ]
  },
  {
   "cell_type": "code",
   "execution_count": 11,
   "id": "3d68b0a5-c431-4d49-83d9-3ce59e216364",
   "metadata": {},
   "outputs": [
    {
     "name": "stdout",
     "output_type": "stream",
     "text": [
      "[1, 3, 5, 7, 9, 11, 13, 15, 17, 19]\n"
     ]
    }
   ],
   "source": [
    "#list of odd numbers from 1 to 20\n",
    "list=[1,2,3,4,5,6,7,8,9,10,11,12,13,14,15,16,17,18,19,20]\n",
    "even=[i for i in list if i%2!=0]\n",
    "print(even)"
   ]
  },
  {
   "cell_type": "code",
   "execution_count": 2,
   "id": "a562594d-e1a2-4f24-acd0-85305612861b",
   "metadata": {},
   "outputs": [
    {
     "name": "stdout",
     "output_type": "stream",
     "text": [
      "['H', 'e', 'l', 'l', 'o', 'W', 'o', 'r', 'l', 'd']\n"
     ]
    }
   ],
   "source": [
    "#Generate list of character\n",
    "list=\"Hello, World!\"\n",
    "char=[i for i in list if i.isalpha()]\n",
    "print(char)"
   ]
  },
  {
   "cell_type": "code",
   "execution_count": 1,
   "id": "2a1cecd1-e599-47b7-82ad-4dbd987538bd",
   "metadata": {},
   "outputs": [
    {
     "name": "stdout",
     "output_type": "stream",
     "text": [
      "[6, 2, 1, 5]\n"
     ]
    }
   ],
   "source": [
    "#Create list of length\n",
    "list=\"Jayesh is a Coder\"\n",
    "len=[len(i) for i in list.split()]\n",
    "print(len)"
   ]
  },
  {
   "cell_type": "code",
   "execution_count": 2,
   "id": "d3fd1e2a-259a-4037-b59e-cba879708dcb",
   "metadata": {},
   "outputs": [
    {
     "name": "stdout",
     "output_type": "stream",
     "text": [
      "[(1, 1), (2, 4), (3, 9), (4, 16), (5, 25), (6, 36), (7, 49)]\n"
     ]
    }
   ],
   "source": [
    "#Generate list of tuples containing a number and its square\n",
    "num_sqr=[(x,x**2) for x in range(1,8)]\n",
    "print(num_sqr)"
   ]
  },
  {
   "cell_type": "code",
   "execution_count": 4,
   "id": "1933409a-a33f-4f2c-85a1-d7da03117018",
   "metadata": {},
   "outputs": [
    {
     "name": "stdout",
     "output_type": "stream",
     "text": [
      "['a', 'b', 'c', 'd', 'e', 'f', 'g', 'h', 'i', 'j', 'k', 'l', 'm', 'n', 'o', 'p', 'q', 'r', 's', 't', 'u', 'v', 'w', 'x', 'y', 'z']\n"
     ]
    }
   ],
   "source": [
    "#list of lowercase letters\n",
    "lower_case=[chr(x) for x in range(ord('a'),ord('z')+1)]\n",
    "print(lower_case)"
   ]
  },
  {
   "cell_type": "code",
   "execution_count": 6,
   "id": "ce29594a-5c9a-4c7c-81b7-2558c600080d",
   "metadata": {},
   "outputs": [
    {
     "name": "stdout",
     "output_type": "stream",
     "text": [
      "['A', 'B', 'C', 'D', 'E', 'F', 'G', 'H', 'I', 'J', 'K', 'L', 'M', 'N', 'O', 'P', 'Q', 'R', 'S', 'T', 'U', 'V', 'W', 'X', 'Y', 'Z']\n"
     ]
    }
   ],
   "source": [
    "#list of uppercase letters\n",
    "upper_case=[chr(x) for x in range(ord('A'),ord('Z')+1)]\n",
    "print(upper_case)"
   ]
  },
  {
   "cell_type": "code",
   "execution_count": 2,
   "id": "6e267bd2-5f9f-466d-bb84-357a56fd189d",
   "metadata": {},
   "outputs": [
    {
     "name": "stdout",
     "output_type": "stream",
     "text": [
      "[1, 4, 27, 16, 125, 36, 343, 64, 729, 100]\n"
     ]
    }
   ],
   "source": [
    "#list of even numbers squares and odd numbers cubed\n",
    "num=[i**2 if i % 2 ==0 else i**3 for i in range(1,11)]\n",
    "print(num)"
   ]
  },
  {
   "cell_type": "code",
   "execution_count": 5,
   "id": "f5de3b75-cb62-4c96-b816-3bfcf250545b",
   "metadata": {},
   "outputs": [
    {
     "name": "stdout",
     "output_type": "stream",
     "text": [
      "[15, 30, 45, 60, 75, 90]\n"
     ]
    }
   ],
   "source": [
    "#Generate list of common multiples of 3 and 5 upto 100\n",
    "com=[i for i in range(1,101) if i%3==0 and i%5==0 ]\n",
    "print(com)\n",
    "     "
   ]
  },
  {
   "cell_type": "code",
   "execution_count": 10,
   "id": "faa160a3-49ea-474b-b859-55a6acf487db",
   "metadata": {},
   "outputs": [
    {
     "name": "stdout",
     "output_type": "stream",
     "text": [
      "['elppa', 'ananab', 'yrrehc']\n"
     ]
    }
   ],
   "source": [
    "#Create a list of reversed string from another list\n",
    "list=[\"apple\" ,\"banana\" ,\"cherry\"]\n",
    "rev=[i[::-1] for i in list]\n",
    "print(rev)"
   ]
  },
  {
   "cell_type": "code",
   "execution_count": 13,
   "id": "3936ae1c-6c59-492f-90db-f61306e2e956",
   "metadata": {},
   "outputs": [
    {
     "name": "stdout",
     "output_type": "stream",
     "text": [
      "[-125, 16, -27, 4, -1, 0, 1, 4, 27, 16, 125]\n"
     ]
    }
   ],
   "source": [
    "#list of squares of even numbers and cubes of odd numbers from -5 to 5\n",
    "num=[i**2 if i%2==0 else i**3 for i in range(-5,6)]\n",
    "print(num)"
   ]
  },
  {
   "cell_type": "code",
   "execution_count": 15,
   "id": "6bf9816a-df85-4bbd-9304-ffb02b3db391",
   "metadata": {},
   "outputs": [
    {
     "name": "stdout",
     "output_type": "stream",
     "text": [
      "[('apple', 5), ('banana', 6), ('cherry', 6)]\n"
     ]
    }
   ],
   "source": [
    "##Generate a list of strings with their lengths from another list\n",
    "list=[\"apple\",\"banana\",\"cherry\"]\n",
    "str=[(i,len(i)) for i in list]\n",
    "print(str)"
   ]
  },
  {
   "cell_type": "code",
   "execution_count": 16,
   "id": "ce873abc-1087-479e-a4ad-048bbc355eab",
   "metadata": {},
   "outputs": [
    {
     "name": "stdout",
     "output_type": "stream",
     "text": [
      "[('apple', 'a'), ('banana', 'b'), ('cherry', 'c')]\n"
     ]
    }
   ],
   "source": [
    "#print first letter\n",
    "list=[\"apple\",\"banana\",\"cherry\"]\n",
    "str=[(i,i[0:1:1]) for i in list]\n",
    "print(str)"
   ]
  },
  {
   "cell_type": "code",
   "execution_count": 19,
   "id": "85c4b74b-51e8-4f1f-9941-887445dc4c82",
   "metadata": {},
   "outputs": [
    {
     "name": "stdout",
     "output_type": "stream",
     "text": [
      "[4, 16, 36, 64, 100]\n"
     ]
    }
   ],
   "source": [
    "#Generate a list of nos. with squares if no. is even\n",
    "sqr_no=[i**2 for i in range(1,11) if i%2==0]\n",
    "print(sqr_no)"
   ]
  },
  {
   "cell_type": "code",
   "execution_count": 21,
   "id": "1625f208-7b2a-42d8-b461-0be1ac9bda37",
   "metadata": {},
   "outputs": [
    {
     "name": "stdout",
     "output_type": "stream",
     "text": [
      "['THIS', 'IS', 'A', 'SAMPLE', 'SENTENCE']\n"
     ]
    }
   ],
   "source": [
    "#List of uppercasewords from a sentance\n",
    "sentence=\"This is a sample sentence\"\n",
    "upper=[i.upper() for i in sentence.split()]\n",
    "print(upper)"
   ]
  },
  {
   "cell_type": "code",
   "execution_count": 27,
   "id": "5d580793-5305-4015-9b18-759f6ae4a07b",
   "metadata": {},
   "outputs": [
    {
     "ename": "NameError",
     "evalue": "name 'word' is not defined",
     "output_type": "error",
     "traceback": [
      "\u001b[1;31m---------------------------------------------------------------------------\u001b[0m",
      "\u001b[1;31mNameError\u001b[0m                                 Traceback (most recent call last)",
      "Cell \u001b[1;32mIn[27], line 3\u001b[0m\n\u001b[0;32m      1\u001b[0m \u001b[38;5;66;03m#List of strings with vowels removed\u001b[39;00m\n\u001b[0;32m      2\u001b[0m \u001b[38;5;28mlist\u001b[39m\u001b[38;5;241m=\u001b[39m[\u001b[38;5;124m\"\u001b[39m\u001b[38;5;124mapple\u001b[39m\u001b[38;5;124m\"\u001b[39m,\u001b[38;5;124m\"\u001b[39m\u001b[38;5;124mbanana\u001b[39m\u001b[38;5;124m\"\u001b[39m,\u001b[38;5;124m\"\u001b[39m\u001b[38;5;124mcherry\u001b[39m\u001b[38;5;124m\"\u001b[39m]\n\u001b[1;32m----> 3\u001b[0m \u001b[38;5;28mstr\u001b[39m\u001b[38;5;241m=\u001b[39m[\u001b[38;5;124m\"\u001b[39m\u001b[38;5;124m\"\u001b[39m\u001b[38;5;241m.\u001b[39mjoin([char \u001b[38;5;28;01mfor\u001b[39;00m char \u001b[38;5;129;01min\u001b[39;00m word \u001b[38;5;28;01mif\u001b[39;00m char\u001b[38;5;241m.\u001b[39mlower() \u001b[38;5;129;01mnot\u001b[39;00m \u001b[38;5;129;01min\u001b[39;00m \u001b[38;5;124m'\u001b[39m\u001b[38;5;124maeiou\u001b[39m\u001b[38;5;124m'\u001b[39m]) \u001b[38;5;28;01mfor\u001b[39;00m i \u001b[38;5;129;01min\u001b[39;00m \u001b[38;5;28mlist\u001b[39m]\n\u001b[0;32m      4\u001b[0m \u001b[38;5;28mprint\u001b[39m(\u001b[38;5;28mlist\u001b[39m)\n",
      "Cell \u001b[1;32mIn[27], line 3\u001b[0m, in \u001b[0;36m<listcomp>\u001b[1;34m(.0)\u001b[0m\n\u001b[0;32m      1\u001b[0m \u001b[38;5;66;03m#List of strings with vowels removed\u001b[39;00m\n\u001b[0;32m      2\u001b[0m \u001b[38;5;28mlist\u001b[39m\u001b[38;5;241m=\u001b[39m[\u001b[38;5;124m\"\u001b[39m\u001b[38;5;124mapple\u001b[39m\u001b[38;5;124m\"\u001b[39m,\u001b[38;5;124m\"\u001b[39m\u001b[38;5;124mbanana\u001b[39m\u001b[38;5;124m\"\u001b[39m,\u001b[38;5;124m\"\u001b[39m\u001b[38;5;124mcherry\u001b[39m\u001b[38;5;124m\"\u001b[39m]\n\u001b[1;32m----> 3\u001b[0m \u001b[38;5;28mstr\u001b[39m\u001b[38;5;241m=\u001b[39m[\u001b[38;5;124m\"\u001b[39m\u001b[38;5;124m\"\u001b[39m\u001b[38;5;241m.\u001b[39mjoin([char \u001b[38;5;28;01mfor\u001b[39;00m char \u001b[38;5;129;01min\u001b[39;00m word \u001b[38;5;28;01mif\u001b[39;00m char\u001b[38;5;241m.\u001b[39mlower() \u001b[38;5;129;01mnot\u001b[39;00m \u001b[38;5;129;01min\u001b[39;00m \u001b[38;5;124m'\u001b[39m\u001b[38;5;124maeiou\u001b[39m\u001b[38;5;124m'\u001b[39m]) \u001b[38;5;28;01mfor\u001b[39;00m i \u001b[38;5;129;01min\u001b[39;00m \u001b[38;5;28mlist\u001b[39m]\n\u001b[0;32m      4\u001b[0m \u001b[38;5;28mprint\u001b[39m(\u001b[38;5;28mlist\u001b[39m)\n",
      "\u001b[1;31mNameError\u001b[0m: name 'word' is not defined"
     ]
    }
   ],
   "source": [
    "#List of strings with vowels removed\n",
    "list=[\"apple\",\"banana\",\"cherry\"]\n",
    "str=[\"\".join([char for char in word if char.lower() not in 'aeiou']) for i in list]\n",
    "print(list)\n"
   ]
  },
  {
   "cell_type": "code",
   "execution_count": null,
   "id": "b7529d63-c71b-47ae-9045-90b33e8f39e9",
   "metadata": {},
   "outputs": [],
   "source": []
  }
 ],
 "metadata": {
  "kernelspec": {
   "display_name": "Python 3 (ipykernel)",
   "language": "python",
   "name": "python3"
  },
  "language_info": {
   "codemirror_mode": {
    "name": "ipython",
    "version": 3
   },
   "file_extension": ".py",
   "mimetype": "text/x-python",
   "name": "python",
   "nbconvert_exporter": "python",
   "pygments_lexer": "ipython3",
   "version": "3.11.7"
  }
 },
 "nbformat": 4,
 "nbformat_minor": 5
}
